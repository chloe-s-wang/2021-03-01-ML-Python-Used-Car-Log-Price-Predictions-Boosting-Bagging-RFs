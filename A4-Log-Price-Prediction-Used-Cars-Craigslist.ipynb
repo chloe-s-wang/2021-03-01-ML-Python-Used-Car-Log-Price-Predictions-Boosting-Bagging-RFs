{
 "cells": [
  {
   "cell_type": "markdown",
   "metadata": {},
   "source": [
    "### Copyright © 2021, Chloe Wang"
   ]
  },
  {
   "cell_type": "markdown",
   "metadata": {},
   "source": [
    "# Summary of Results"
   ]
  },
  {
   "cell_type": "markdown",
   "metadata": {},
   "source": [
    "## Training Data Results"
   ]
  },
  {
   "cell_type": "markdown",
   "metadata": {},
   "source": [
    "The best model uses boosting. It was trained using the large data set. See below for codes.\n",
    "\n",
    "**Training MSE:** 0.10942 \\\n",
    "**Validation MSE:** 0.11084\n",
    "\n",
    "**Training R-squared:** 0.81664 \\\n",
    "**Validation R-squared:** 0.81287"
   ]
  },
  {
   "cell_type": "markdown",
   "metadata": {},
   "source": [
    "**Key Features**\\\n",
    "The most important features in constructing more accurate predictions are:\\\n",
    "![A4_ImportantFeats](A4_ImportantFeatures.png)"
   ]
  },
  {
   "cell_type": "markdown",
   "metadata": {},
   "source": [
    "## Test Data Results"
   ]
  },
  {
   "cell_type": "markdown",
   "metadata": {},
   "source": [
    "**Training MSE:** 0.11084\\\n",
    "**Test MSE:** 0.11197\n",
    "\n",
    "**Training R-squared:** 0.81287\\\n",
    "**Test R-squared:**  0.81275"
   ]
  },
  {
   "cell_type": "markdown",
   "metadata": {},
   "source": [
    "# Codes"
   ]
  },
  {
   "cell_type": "code",
   "execution_count": 20,
   "metadata": {},
   "outputs": [],
   "source": [
    "# importing commonly used libraries\n",
    "import pandas as pd\n",
    "import numpy as np\n",
    "import matplotlib.pyplot as plt\n",
    "\n",
    "# libaries for modelling and preprocessing\n",
    "from sklearn.preprocessing import StandardScaler\n",
    "from sklearn.model_selection import train_test_split, cross_val_score, GridSearchCV, RandomizedSearchCV, cross_validate\n",
    "from sklearn.ensemble import RandomForestRegressor, AdaBoostRegressor, GradientBoostingRegressor\n",
    "\n",
    "# scoring metrics\n",
    "from sklearn.metrics import r2_score, mean_squared_error"
   ]
  },
  {
   "cell_type": "code",
   "execution_count": 21,
   "metadata": {},
   "outputs": [],
   "source": [
    "# reading the two csv files\n",
    "small_df = pd.read_csv('6Z. final_predcomp_training_data_small.csv')\n",
    "large_df = pd.read_csv('6Z. final_predcomp_training_data_large.csv')"
   ]
  },
  {
   "cell_type": "code",
   "execution_count": 4,
   "metadata": {},
   "outputs": [
    {
     "data": {
      "text/html": [
       "<div>\n",
       "<style scoped>\n",
       "    .dataframe tbody tr th:only-of-type {\n",
       "        vertical-align: middle;\n",
       "    }\n",
       "\n",
       "    .dataframe tbody tr th {\n",
       "        vertical-align: top;\n",
       "    }\n",
       "\n",
       "    .dataframe thead th {\n",
       "        text-align: right;\n",
       "    }\n",
       "</style>\n",
       "<table border=\"1\" class=\"dataframe\">\n",
       "  <thead>\n",
       "    <tr style=\"text-align: right;\">\n",
       "      <th></th>\n",
       "      <th>id</th>\n",
       "      <th>price</th>\n",
       "      <th>year</th>\n",
       "      <th>odometer</th>\n",
       "      <th>cylinders</th>\n",
       "      <th>description_length</th>\n",
       "      <th>description_credit</th>\n",
       "      <th>description_owner</th>\n",
       "      <th>description_badcredit</th>\n",
       "    </tr>\n",
       "  </thead>\n",
       "  <tbody>\n",
       "    <tr>\n",
       "      <th>count</th>\n",
       "      <td>2.999900e+04</td>\n",
       "      <td>29999.000000</td>\n",
       "      <td>29933.000000</td>\n",
       "      <td>26728.000000</td>\n",
       "      <td>19101.000000</td>\n",
       "      <td>29217.000000</td>\n",
       "      <td>29999.000000</td>\n",
       "      <td>29999.000000</td>\n",
       "      <td>29999.000000</td>\n",
       "    </tr>\n",
       "    <tr>\n",
       "      <th>mean</th>\n",
       "      <td>7.235216e+09</td>\n",
       "      <td>15879.012534</td>\n",
       "      <td>2010.724184</td>\n",
       "      <td>94720.290482</td>\n",
       "      <td>5.890425</td>\n",
       "      <td>2352.681521</td>\n",
       "      <td>0.413047</td>\n",
       "      <td>0.187906</td>\n",
       "      <td>0.155205</td>\n",
       "    </tr>\n",
       "    <tr>\n",
       "      <th>std</th>\n",
       "      <td>4.594456e+06</td>\n",
       "      <td>11152.826912</td>\n",
       "      <td>8.579819</td>\n",
       "      <td>61748.952567</td>\n",
       "      <td>1.609066</td>\n",
       "      <td>2120.058619</td>\n",
       "      <td>0.492389</td>\n",
       "      <td>0.390644</td>\n",
       "      <td>0.362106</td>\n",
       "    </tr>\n",
       "    <tr>\n",
       "      <th>min</th>\n",
       "      <td>7.213844e+09</td>\n",
       "      <td>2000.000000</td>\n",
       "      <td>1923.000000</td>\n",
       "      <td>0.000000</td>\n",
       "      <td>3.000000</td>\n",
       "      <td>0.000000</td>\n",
       "      <td>0.000000</td>\n",
       "      <td>0.000000</td>\n",
       "      <td>0.000000</td>\n",
       "    </tr>\n",
       "    <tr>\n",
       "      <th>25%</th>\n",
       "      <td>7.231904e+09</td>\n",
       "      <td>6900.000000</td>\n",
       "      <td>2008.000000</td>\n",
       "      <td>42790.000000</td>\n",
       "      <td>4.000000</td>\n",
       "      <td>437.000000</td>\n",
       "      <td>0.000000</td>\n",
       "      <td>0.000000</td>\n",
       "      <td>0.000000</td>\n",
       "    </tr>\n",
       "    <tr>\n",
       "      <th>50%</th>\n",
       "      <td>7.236398e+09</td>\n",
       "      <td>12990.000000</td>\n",
       "      <td>2013.000000</td>\n",
       "      <td>90656.000000</td>\n",
       "      <td>6.000000</td>\n",
       "      <td>1808.000000</td>\n",
       "      <td>0.000000</td>\n",
       "      <td>0.000000</td>\n",
       "      <td>0.000000</td>\n",
       "    </tr>\n",
       "    <tr>\n",
       "      <th>75%</th>\n",
       "      <td>7.239320e+09</td>\n",
       "      <td>22990.000000</td>\n",
       "      <td>2016.000000</td>\n",
       "      <td>135740.250000</td>\n",
       "      <td>8.000000</td>\n",
       "      <td>4140.000000</td>\n",
       "      <td>1.000000</td>\n",
       "      <td>0.000000</td>\n",
       "      <td>0.000000</td>\n",
       "    </tr>\n",
       "    <tr>\n",
       "      <th>max</th>\n",
       "      <td>7.241018e+09</td>\n",
       "      <td>50000.000000</td>\n",
       "      <td>2021.000000</td>\n",
       "      <td>500000.000000</td>\n",
       "      <td>12.000000</td>\n",
       "      <td>9994.000000</td>\n",
       "      <td>1.000000</td>\n",
       "      <td>1.000000</td>\n",
       "      <td>1.000000</td>\n",
       "    </tr>\n",
       "  </tbody>\n",
       "</table>\n",
       "</div>"
      ],
      "text/plain": [
       "                 id         price          year       odometer     cylinders  \\\n",
       "count  2.999900e+04  29999.000000  29933.000000   26728.000000  19101.000000   \n",
       "mean   7.235216e+09  15879.012534   2010.724184   94720.290482      5.890425   \n",
       "std    4.594456e+06  11152.826912      8.579819   61748.952567      1.609066   \n",
       "min    7.213844e+09   2000.000000   1923.000000       0.000000      3.000000   \n",
       "25%    7.231904e+09   6900.000000   2008.000000   42790.000000      4.000000   \n",
       "50%    7.236398e+09  12990.000000   2013.000000   90656.000000      6.000000   \n",
       "75%    7.239320e+09  22990.000000   2016.000000  135740.250000      8.000000   \n",
       "max    7.241018e+09  50000.000000   2021.000000  500000.000000     12.000000   \n",
       "\n",
       "       description_length  description_credit  description_owner  \\\n",
       "count        29217.000000        29999.000000       29999.000000   \n",
       "mean          2352.681521            0.413047           0.187906   \n",
       "std           2120.058619            0.492389           0.390644   \n",
       "min              0.000000            0.000000           0.000000   \n",
       "25%            437.000000            0.000000           0.000000   \n",
       "50%           1808.000000            0.000000           0.000000   \n",
       "75%           4140.000000            1.000000           0.000000   \n",
       "max           9994.000000            1.000000           1.000000   \n",
       "\n",
       "       description_badcredit  \n",
       "count           29999.000000  \n",
       "mean                0.155205  \n",
       "std                 0.362106  \n",
       "min                 0.000000  \n",
       "25%                 0.000000  \n",
       "50%                 0.000000  \n",
       "75%                 0.000000  \n",
       "max                 1.000000  "
      ]
     },
     "execution_count": 4,
     "metadata": {},
     "output_type": "execute_result"
    }
   ],
   "source": [
    "# let's quickly look at the summary statistics\n",
    "small_df.describe()"
   ]
  },
  {
   "cell_type": "code",
   "execution_count": 5,
   "metadata": {},
   "outputs": [
    {
     "data": {
      "text/plain": [
       "id                           0\n",
       "price                        0\n",
       "year                        66\n",
       "odometer                  3271\n",
       "cylinders                10898\n",
       "transmission               126\n",
       "drive                     8486\n",
       "type                      7094\n",
       "paint_color               8585\n",
       "size                     21039\n",
       "title_status               140\n",
       "condition                11750\n",
       "fuel                       210\n",
       "state                      403\n",
       "manufacturer               973\n",
       "description_length         782\n",
       "description_credit           0\n",
       "description_owner            0\n",
       "description_badcredit        0\n",
       "dtype: int64"
      ]
     },
     "execution_count": 5,
     "metadata": {},
     "output_type": "execute_result"
    }
   ],
   "source": [
    "# missing values in the small dataset\n",
    "small_df.isna().sum()"
   ]
  },
  {
   "cell_type": "code",
   "execution_count": 6,
   "metadata": {},
   "outputs": [
    {
     "data": {
      "text/html": [
       "<div>\n",
       "<style scoped>\n",
       "    .dataframe tbody tr th:only-of-type {\n",
       "        vertical-align: middle;\n",
       "    }\n",
       "\n",
       "    .dataframe tbody tr th {\n",
       "        vertical-align: top;\n",
       "    }\n",
       "\n",
       "    .dataframe thead th {\n",
       "        text-align: right;\n",
       "    }\n",
       "</style>\n",
       "<table border=\"1\" class=\"dataframe\">\n",
       "  <thead>\n",
       "    <tr style=\"text-align: right;\">\n",
       "      <th></th>\n",
       "      <th>id</th>\n",
       "      <th>price</th>\n",
       "      <th>year</th>\n",
       "      <th>odometer</th>\n",
       "      <th>cylinders</th>\n",
       "      <th>description_length</th>\n",
       "      <th>description_credit</th>\n",
       "      <th>description_owner</th>\n",
       "      <th>description_badcredit</th>\n",
       "    </tr>\n",
       "  </thead>\n",
       "  <tbody>\n",
       "    <tr>\n",
       "      <th>count</th>\n",
       "      <td>3.000000e+05</td>\n",
       "      <td>300000.000000</td>\n",
       "      <td>299376.000000</td>\n",
       "      <td>267456.000000</td>\n",
       "      <td>191090.000000</td>\n",
       "      <td>292201.000000</td>\n",
       "      <td>300000.000000</td>\n",
       "      <td>300000.000000</td>\n",
       "      <td>300000.000000</td>\n",
       "    </tr>\n",
       "    <tr>\n",
       "      <th>mean</th>\n",
       "      <td>7.235226e+09</td>\n",
       "      <td>15863.518507</td>\n",
       "      <td>2010.629423</td>\n",
       "      <td>94386.056742</td>\n",
       "      <td>5.888874</td>\n",
       "      <td>2379.174883</td>\n",
       "      <td>0.412167</td>\n",
       "      <td>0.186263</td>\n",
       "      <td>0.155067</td>\n",
       "    </tr>\n",
       "    <tr>\n",
       "      <th>std</th>\n",
       "      <td>4.595326e+06</td>\n",
       "      <td>11112.310328</td>\n",
       "      <td>8.771992</td>\n",
       "      <td>61497.290868</td>\n",
       "      <td>1.596020</td>\n",
       "      <td>2146.833466</td>\n",
       "      <td>0.492226</td>\n",
       "      <td>0.389320</td>\n",
       "      <td>0.361969</td>\n",
       "    </tr>\n",
       "    <tr>\n",
       "      <th>min</th>\n",
       "      <td>7.208550e+09</td>\n",
       "      <td>2000.000000</td>\n",
       "      <td>1900.000000</td>\n",
       "      <td>0.000000</td>\n",
       "      <td>3.000000</td>\n",
       "      <td>0.000000</td>\n",
       "      <td>0.000000</td>\n",
       "      <td>0.000000</td>\n",
       "      <td>0.000000</td>\n",
       "    </tr>\n",
       "    <tr>\n",
       "      <th>25%</th>\n",
       "      <td>7.231949e+09</td>\n",
       "      <td>6900.000000</td>\n",
       "      <td>2008.000000</td>\n",
       "      <td>42971.750000</td>\n",
       "      <td>4.000000</td>\n",
       "      <td>439.000000</td>\n",
       "      <td>0.000000</td>\n",
       "      <td>0.000000</td>\n",
       "      <td>0.000000</td>\n",
       "    </tr>\n",
       "    <tr>\n",
       "      <th>50%</th>\n",
       "      <td>7.236401e+09</td>\n",
       "      <td>12991.000000</td>\n",
       "      <td>2013.000000</td>\n",
       "      <td>90054.500000</td>\n",
       "      <td>6.000000</td>\n",
       "      <td>1828.000000</td>\n",
       "      <td>0.000000</td>\n",
       "      <td>0.000000</td>\n",
       "      <td>0.000000</td>\n",
       "    </tr>\n",
       "    <tr>\n",
       "      <th>75%</th>\n",
       "      <td>7.239318e+09</td>\n",
       "      <td>22900.000000</td>\n",
       "      <td>2016.000000</td>\n",
       "      <td>135166.000000</td>\n",
       "      <td>8.000000</td>\n",
       "      <td>4160.000000</td>\n",
       "      <td>1.000000</td>\n",
       "      <td>0.000000</td>\n",
       "      <td>0.000000</td>\n",
       "    </tr>\n",
       "    <tr>\n",
       "      <th>max</th>\n",
       "      <td>7.241019e+09</td>\n",
       "      <td>50000.000000</td>\n",
       "      <td>2021.000000</td>\n",
       "      <td>500000.000000</td>\n",
       "      <td>12.000000</td>\n",
       "      <td>9999.000000</td>\n",
       "      <td>1.000000</td>\n",
       "      <td>1.000000</td>\n",
       "      <td>1.000000</td>\n",
       "    </tr>\n",
       "  </tbody>\n",
       "</table>\n",
       "</div>"
      ],
      "text/plain": [
       "                 id          price           year       odometer  \\\n",
       "count  3.000000e+05  300000.000000  299376.000000  267456.000000   \n",
       "mean   7.235226e+09   15863.518507    2010.629423   94386.056742   \n",
       "std    4.595326e+06   11112.310328       8.771992   61497.290868   \n",
       "min    7.208550e+09    2000.000000    1900.000000       0.000000   \n",
       "25%    7.231949e+09    6900.000000    2008.000000   42971.750000   \n",
       "50%    7.236401e+09   12991.000000    2013.000000   90054.500000   \n",
       "75%    7.239318e+09   22900.000000    2016.000000  135166.000000   \n",
       "max    7.241019e+09   50000.000000    2021.000000  500000.000000   \n",
       "\n",
       "           cylinders  description_length  description_credit  \\\n",
       "count  191090.000000       292201.000000       300000.000000   \n",
       "mean        5.888874         2379.174883            0.412167   \n",
       "std         1.596020         2146.833466            0.492226   \n",
       "min         3.000000            0.000000            0.000000   \n",
       "25%         4.000000          439.000000            0.000000   \n",
       "50%         6.000000         1828.000000            0.000000   \n",
       "75%         8.000000         4160.000000            1.000000   \n",
       "max        12.000000         9999.000000            1.000000   \n",
       "\n",
       "       description_owner  description_badcredit  \n",
       "count      300000.000000          300000.000000  \n",
       "mean            0.186263               0.155067  \n",
       "std             0.389320               0.361969  \n",
       "min             0.000000               0.000000  \n",
       "25%             0.000000               0.000000  \n",
       "50%             0.000000               0.000000  \n",
       "75%             0.000000               0.000000  \n",
       "max             1.000000               1.000000  "
      ]
     },
     "execution_count": 6,
     "metadata": {},
     "output_type": "execute_result"
    }
   ],
   "source": [
    "# let's quickly look at the summary statistics\n",
    "large_df.describe()"
   ]
  },
  {
   "cell_type": "code",
   "execution_count": 7,
   "metadata": {},
   "outputs": [
    {
     "data": {
      "text/plain": [
       "id                            0\n",
       "price                         0\n",
       "year                        624\n",
       "odometer                  32544\n",
       "cylinders                108910\n",
       "transmission               1344\n",
       "drive                     85050\n",
       "type                      71880\n",
       "paint_color               85871\n",
       "size                     210274\n",
       "title_status               1398\n",
       "condition                117743\n",
       "fuel                       1931\n",
       "state                      3787\n",
       "manufacturer              10045\n",
       "description_length         7799\n",
       "description_credit            0\n",
       "description_owner             0\n",
       "description_badcredit         0\n",
       "dtype: int64"
      ]
     },
     "execution_count": 7,
     "metadata": {},
     "output_type": "execute_result"
    }
   ],
   "source": [
    "# missing values in the small dataset\n",
    "large_df.isna().sum()"
   ]
  },
  {
   "cell_type": "code",
   "execution_count": 22,
   "metadata": {},
   "outputs": [],
   "source": [
    "def missing_value_impute(df):\n",
    "  # let's create a dummy variable column for missing values by iterating through all columns\n",
    "  # creating list to contain missing row indices\n",
    "  missing_row = []\n",
    "\n",
    "  # iterates through each row of large dataset\n",
    "  for index, row in df.iterrows():\n",
    "      \n",
    "      # checks each column to see if there are any missing values\n",
    "      missing_series = row.isnull()\n",
    "\n",
    "      # if any of the columns return true, add to our missing row list\n",
    "      if missing_series.any():\n",
    "          missing_row.append(index)\n",
    "  \n",
    "  # adding the dummy variable column\n",
    "  df.loc[missing_row, 'missing_value'] = 1\n",
    "\n",
    "  # fill the dummy variable columns w/ 0 for rows w/ non-missing data\n",
    "  df['missing_value'] = df['missing_value'].fillna(0)\n",
    "\n",
    "  # creating a list for categorical and numerical values\n",
    "  num_col = ['price', 'year', 'odometer', 'cylinders', 'description_length']\n",
    "\n",
    "  cat_col = ['transmission', 'drive', 'type', 'paint_color',\n",
    "            'size', 'title_status', 'condition', 'fuel',\n",
    "            'state', 'manufacturer', 'description_credit',\n",
    "             'description_owner', 'description_badcredit', 'missing_value']\n",
    "\n",
    "  # imputing the missing values using the mean for numerical columns and mode for categorical\n",
    "  # use for loop to loop through all columns\n",
    "  for col in df.columns[1:]:\n",
    "    if col in num_col:\n",
    "      df[col] = df[col].fillna(df[col].mean())\n",
    "    elif col in cat_col:\n",
    "      df[col] = df[col].fillna(df[col].mode().values[0])"
   ]
  },
  {
   "cell_type": "code",
   "execution_count": 9,
   "metadata": {},
   "outputs": [],
   "source": [
    "# use the created function to impute the missing values and create missing value dummy variable\n",
    "missing_value_impute(small_df)"
   ]
  },
  {
   "cell_type": "code",
   "execution_count": 11,
   "metadata": {},
   "outputs": [],
   "source": [
    "# construct logarithm car price feature\n",
    "small_df['log_price'] = np.log(small_df['price'])"
   ]
  },
  {
   "cell_type": "code",
   "execution_count": 23,
   "metadata": {},
   "outputs": [],
   "source": [
    "# list of categorical columns\n",
    "num_col = ['year', 'odometer', 'cylinders', 'description_length']\n",
    "\n",
    "cat_col = ['transmission', 'drive', 'type', 'paint_color',\n",
    "          'size', 'title_status', 'condition', 'fuel',\n",
    "          'state', 'manufacturer', 'description_credit', 'description_owner', \n",
    "            'description_badcredit', 'missing_value']"
   ]
  },
  {
   "cell_type": "code",
   "execution_count": 24,
   "metadata": {},
   "outputs": [],
   "source": [
    "def get_dummies(df):\n",
    "  '''\n",
    "  This function takes the train/test dataset and creates dummy variables for the known categorical variables.\n",
    "  '''\n",
    "  # using pandas get dummies function to create dummy variables for each categorical item\n",
    "  dummy_df = pd.get_dummies(df[cat_col[:10]])\n",
    "\n",
    "  # saving dummy feature names to list\n",
    "  dummy_features = list(dummy_df.columns)\n",
    "\n",
    "  # merging original df w/ the new dummy variable columns\n",
    "  new_df = df.merge(dummy_df, left_index=True, right_index=True)\n",
    "\n",
    "  # return/output the new merged df and the dummy feature column names\n",
    "  return new_df, dummy_features"
   ]
  },
  {
   "cell_type": "code",
   "execution_count": 14,
   "metadata": {},
   "outputs": [],
   "source": [
    "# using function to create new large df and the list of dummy column names\n",
    "new_small_df, dummy_col = get_dummies(small_df)"
   ]
  },
  {
   "cell_type": "markdown",
   "metadata": {},
   "source": [
    "# Split data into train and test set"
   ]
  },
  {
   "cell_type": "code",
   "execution_count": 16,
   "metadata": {},
   "outputs": [],
   "source": [
    "# Set X and y\n",
    "X = new_small_df.loc[:, num_col + dummy_col]\n",
    "y = new_small_df['log_price']\n",
    "\n",
    "# splitting the data into train and test\n",
    "X_train, X_test, y_train, y_test = train_test_split(X, y, train_size=0.7, random_state=42)"
   ]
  },
  {
   "cell_type": "markdown",
   "metadata": {},
   "source": [
    "# Random Forest Regressor"
   ]
  },
  {
   "cell_type": "code",
   "execution_count": 17,
   "metadata": {},
   "outputs": [
    {
     "data": {
      "text/plain": [
       "RandomForestRegressor(n_estimators=1000)"
      ]
     },
     "execution_count": 17,
     "metadata": {},
     "output_type": "execute_result"
    }
   ],
   "source": [
    "# create random forest regressor model\n",
    "rf_model = RandomForestRegressor(n_estimators=1000)\n",
    "\n",
    "# fit model\n",
    "rf_model.fit(X_train, y_train)"
   ]
  },
  {
   "cell_type": "code",
   "execution_count": 18,
   "metadata": {},
   "outputs": [],
   "source": [
    "# defining grid search parameters\n",
    "parameters = {'n_estimators':[int(x) for x in np.linspace(200,2000,10)], 'max_depth':[int(x) for x in np.arange(0,11)], 'max_features':['auto','sqrt']}"
   ]
  },
  {
   "cell_type": "code",
   "execution_count": 19,
   "metadata": {},
   "outputs": [
    {
     "name": "stdout",
     "output_type": "stream",
     "text": [
      "Fitting 5 folds for each of 10 candidates, totalling 50 fits\n"
     ]
    },
    {
     "name": "stderr",
     "output_type": "stream",
     "text": [
      "[Parallel(n_jobs=-1)]: Using backend LokyBackend with 12 concurrent workers.\n",
      "[Parallel(n_jobs=-1)]: Done   1 tasks      | elapsed:   10.8s\n",
      "[Parallel(n_jobs=-1)]: Done   8 tasks      | elapsed:   19.3s\n",
      "[Parallel(n_jobs=-1)]: Done  17 tasks      | elapsed:   39.3s\n",
      "[Parallel(n_jobs=-1)]: Done  26 tasks      | elapsed:  1.2min\n",
      "[Parallel(n_jobs=-1)]: Done  33 out of  50 | elapsed:  1.7min remaining:   52.7s\n",
      "[Parallel(n_jobs=-1)]: Done  39 out of  50 | elapsed:  6.1min remaining:  1.7min\n",
      "[Parallel(n_jobs=-1)]: Done  45 out of  50 | elapsed:  7.4min remaining:   49.5s\n",
      "[Parallel(n_jobs=-1)]: Done  50 out of  50 | elapsed:  9.1min finished\n"
     ]
    },
    {
     "data": {
      "text/plain": [
       "RandomizedSearchCV(cv=5, estimator=RandomForestRegressor(), n_jobs=-1,\n",
       "                   param_distributions={'max_depth': [0, 1, 2, 3, 4, 5, 6, 7, 8,\n",
       "                                                      9, 10],\n",
       "                                        'max_features': ['auto', 'sqrt'],\n",
       "                                        'n_estimators': [200, 400, 600, 800,\n",
       "                                                         1000, 1200, 1400, 1600,\n",
       "                                                         1800, 2000]},\n",
       "                   random_state=42, verbose=10)"
      ]
     },
     "execution_count": 19,
     "metadata": {},
     "output_type": "execute_result"
    }
   ],
   "source": [
    "# create model\n",
    "rf_model = RandomForestRegressor()\n",
    "\n",
    "rf_random = RandomizedSearchCV(rf_model, parameters,n_iter=10, cv = 5, random_state=42, n_jobs=-1, verbose=10)\n",
    "\n",
    "rf_random.fit(X_train,y_train)"
   ]
  },
  {
   "cell_type": "code",
   "execution_count": 20,
   "metadata": {},
   "outputs": [
    {
     "data": {
      "text/plain": [
       "{'n_estimators': 2000, 'max_features': 'auto', 'max_depth': 10}"
      ]
     },
     "execution_count": 20,
     "metadata": {},
     "output_type": "execute_result"
    }
   ],
   "source": [
    "# display best parametesr\n",
    "rf_random.best_params_"
   ]
  },
  {
   "cell_type": "code",
   "execution_count": 21,
   "metadata": {},
   "outputs": [
    {
     "name": "stderr",
     "output_type": "stream",
     "text": [
      "[Parallel(n_jobs=1)]: Using backend SequentialBackend with 1 concurrent workers.\n",
      "[Parallel(n_jobs=1)]: Done   1 out of   1 | elapsed:    0.0s remaining:    0.0s\n"
     ]
    },
    {
     "name": "stdout",
     "output_type": "stream",
     "text": [
      "building tree 1 of 2000\n",
      "building tree 2 of 2000\n"
     ]
    },
    {
     "name": "stderr",
     "output_type": "stream",
     "text": [
      "[Parallel(n_jobs=1)]: Done   2 out of   2 | elapsed:    0.1s remaining:    0.0s\n",
      "[Parallel(n_jobs=1)]: Done   3 out of   3 | elapsed:    0.3s remaining:    0.0s\n"
     ]
    },
    {
     "name": "stdout",
     "output_type": "stream",
     "text": [
      "building tree 3 of 2000\n",
      "building tree 4 of 2000\n"
     ]
    },
    {
     "name": "stderr",
     "output_type": "stream",
     "text": [
      "[Parallel(n_jobs=1)]: Done   4 out of   4 | elapsed:    0.4s remaining:    0.0s\n",
      "[Parallel(n_jobs=1)]: Done   5 out of   5 | elapsed:    0.5s remaining:    0.0s\n"
     ]
    },
    {
     "name": "stdout",
     "output_type": "stream",
     "text": [
      "building tree 5 of 2000\n",
      "building tree 6 of 2000\n"
     ]
    },
    {
     "name": "stderr",
     "output_type": "stream",
     "text": [
      "[Parallel(n_jobs=1)]: Done   6 out of   6 | elapsed:    0.6s remaining:    0.0s\n",
      "[Parallel(n_jobs=1)]: Done   7 out of   7 | elapsed:    0.7s remaining:    0.0s\n"
     ]
    },
    {
     "name": "stdout",
     "output_type": "stream",
     "text": [
      "building tree 7 of 2000\n",
      "building tree 8 of 2000\n"
     ]
    },
    {
     "name": "stderr",
     "output_type": "stream",
     "text": [
      "[Parallel(n_jobs=1)]: Done   8 out of   8 | elapsed:    0.8s remaining:    0.0s\n",
      "[Parallel(n_jobs=1)]: Done   9 out of   9 | elapsed:    1.0s remaining:    0.0s\n"
     ]
    },
    {
     "name": "stdout",
     "output_type": "stream",
     "text": [
      "building tree 9 of 2000\n",
      "building tree 10 of 2000\n",
      "building tree 11 of 2000\n",
      "building tree 12 of 2000\n",
      "building tree 13 of 2000\n",
      "building tree 14 of 2000\n",
      "building tree 15 of 2000\n",
      "building tree 16 of 2000\n",
      "building tree 17 of 2000\n",
      "building tree 18 of 2000\n",
      "building tree 19 of 2000\n",
      "building tree 20 of 2000\n",
      "building tree 21 of 2000\n",
      "building tree 22 of 2000\n",
      "building tree 23 of 2000\n",
      "building tree 24 of 2000\n",
      "building tree 25 of 2000\n",
      "building tree 26 of 2000\n",
      "building tree 27 of 2000\n",
      "building tree 28 of 2000\n",
      "building tree 29 of 2000\n",
      "building tree 30 of 2000\n",
      "building tree 31 of 2000\n",
      "building tree 32 of 2000\n",
      "building tree 33 of 2000\n",
      "building tree 34 of 2000\n",
      "building tree 35 of 2000\n",
      "building tree 36 of 2000\n",
      "building tree 37 of 2000\n",
      "building tree 38 of 2000\n",
      "building tree 39 of 2000\n",
      "building tree 40 of 2000\n",
      "building tree 41 of 2000\n",
      "building tree 42 of 2000\n",
      "building tree 43 of 2000\n",
      "building tree 44 of 2000\n",
      "building tree 45 of 2000\n",
      "building tree 46 of 2000\n",
      "building tree 47 of 2000\n",
      "building tree 48 of 2000\n",
      "building tree 49 of 2000\n",
      "building tree 50 of 2000\n",
      "building tree 51 of 2000\n",
      "building tree 52 of 2000\n",
      "building tree 53 of 2000\n",
      "building tree 54 of 2000\n",
      "building tree 55 of 2000\n",
      "building tree 56 of 2000\n",
      "building tree 57 of 2000\n",
      "building tree 58 of 2000\n",
      "building tree 59 of 2000\n",
      "building tree 60 of 2000\n",
      "building tree 61 of 2000\n",
      "building tree 62 of 2000\n",
      "building tree 63 of 2000\n",
      "building tree 64 of 2000\n",
      "building tree 65 of 2000\n",
      "building tree 66 of 2000\n",
      "building tree 67 of 2000\n",
      "building tree 68 of 2000\n",
      "building tree 69 of 2000\n",
      "building tree 70 of 2000\n",
      "building tree 71 of 2000\n",
      "building tree 72 of 2000\n",
      "building tree 73 of 2000\n",
      "building tree 74 of 2000\n",
      "building tree 75 of 2000\n",
      "building tree 76 of 2000\n",
      "building tree 77 of 2000\n",
      "building tree 78 of 2000\n",
      "building tree 79 of 2000\n",
      "building tree 80 of 2000\n",
      "building tree 81 of 2000\n",
      "building tree 82 of 2000\n",
      "building tree 83 of 2000\n",
      "building tree 84 of 2000\n",
      "building tree 85 of 2000\n",
      "building tree 86 of 2000\n",
      "building tree 87 of 2000\n",
      "building tree 88 of 2000\n",
      "building tree 89 of 2000\n",
      "building tree 90 of 2000\n",
      "building tree 91 of 2000\n",
      "building tree 92 of 2000\n",
      "building tree 93 of 2000\n",
      "building tree 94 of 2000\n",
      "building tree 95 of 2000\n",
      "building tree 96 of 2000\n",
      "building tree 97 of 2000\n",
      "building tree 98 of 2000\n",
      "building tree 99 of 2000\n",
      "building tree 100 of 2000\n",
      "building tree 101 of 2000\n",
      "building tree 102 of 2000\n",
      "building tree 103 of 2000\n",
      "building tree 104 of 2000\n",
      "building tree 105 of 2000\n",
      "building tree 106 of 2000\n",
      "building tree 107 of 2000\n",
      "building tree 108 of 2000\n",
      "building tree 109 of 2000\n",
      "building tree 110 of 2000\n",
      "building tree 111 of 2000\n",
      "building tree 112 of 2000\n",
      "building tree 113 of 2000\n",
      "building tree 114 of 2000\n",
      "building tree 115 of 2000\n",
      "building tree 116 of 2000\n",
      "building tree 117 of 2000\n",
      "building tree 118 of 2000\n",
      "building tree 119 of 2000\n",
      "building tree 120 of 2000\n",
      "building tree 121 of 2000\n",
      "building tree 122 of 2000\n",
      "building tree 123 of 2000\n",
      "building tree 124 of 2000\n",
      "building tree 125 of 2000\n",
      "building tree 126 of 2000\n",
      "building tree 127 of 2000\n",
      "building tree 128 of 2000\n",
      "building tree 129 of 2000\n",
      "building tree 130 of 2000\n",
      "building tree 131 of 2000\n",
      "building tree 132 of 2000\n",
      "building tree 133 of 2000\n",
      "building tree 134 of 2000\n",
      "building tree 135 of 2000\n",
      "building tree 136 of 2000\n",
      "building tree 137 of 2000\n",
      "building tree 138 of 2000\n",
      "building tree 139 of 2000\n",
      "building tree 140 of 2000\n",
      "building tree 141 of 2000\n",
      "building tree 142 of 2000\n",
      "building tree 143 of 2000\n",
      "building tree 144 of 2000\n",
      "building tree 145 of 2000\n",
      "building tree 146 of 2000\n",
      "building tree 147 of 2000\n",
      "building tree 148 of 2000\n",
      "building tree 149 of 2000\n",
      "building tree 150 of 2000\n",
      "building tree 151 of 2000\n",
      "building tree 152 of 2000\n",
      "building tree 153 of 2000\n",
      "building tree 154 of 2000\n",
      "building tree 155 of 2000\n",
      "building tree 156 of 2000\n",
      "building tree 157 of 2000\n",
      "building tree 158 of 2000\n",
      "building tree 159 of 2000\n",
      "building tree 160 of 2000\n",
      "building tree 161 of 2000\n",
      "building tree 162 of 2000\n",
      "building tree 163 of 2000\n",
      "building tree 164 of 2000\n",
      "building tree 165 of 2000\n",
      "building tree 166 of 2000\n",
      "building tree 167 of 2000\n",
      "building tree 168 of 2000\n",
      "building tree 169 of 2000\n",
      "building tree 170 of 2000\n",
      "building tree 171 of 2000\n",
      "building tree 172 of 2000\n",
      "building tree 173 of 2000\n",
      "building tree 174 of 2000\n",
      "building tree 175 of 2000\n",
      "building tree 176 of 2000\n",
      "building tree 177 of 2000\n",
      "building tree 178 of 2000\n",
      "building tree 179 of 2000\n",
      "building tree 180 of 2000\n",
      "building tree 181 of 2000\n",
      "building tree 182 of 2000\n",
      "building tree 183 of 2000\n",
      "building tree 184 of 2000\n",
      "building tree 185 of 2000\n",
      "building tree 186 of 2000\n",
      "building tree 187 of 2000\n",
      "building tree 188 of 2000\n",
      "building tree 189 of 2000\n",
      "building tree 190 of 2000\n",
      "building tree 191 of 2000\n",
      "building tree 192 of 2000\n",
      "building tree 193 of 2000\n",
      "building tree 194 of 2000\n",
      "building tree 195 of 2000\n",
      "building tree 196 of 2000\n",
      "building tree 197 of 2000\n",
      "building tree 198 of 2000\n",
      "building tree 199 of 2000\n",
      "building tree 200 of 2000\n",
      "building tree 201 of 2000\n",
      "building tree 202 of 2000\n",
      "building tree 203 of 2000\n",
      "building tree 204 of 2000\n",
      "building tree 205 of 2000\n",
      "building tree 206 of 2000\n",
      "building tree 207 of 2000\n",
      "building tree 208 of 2000\n",
      "building tree 209 of 2000\n",
      "building tree 210 of 2000\n",
      "building tree 211 of 2000\n",
      "building tree 212 of 2000\n",
      "building tree 213 of 2000\n",
      "building tree 214 of 2000\n",
      "building tree 215 of 2000\n",
      "building tree 216 of 2000\n",
      "building tree 217 of 2000\n",
      "building tree 218 of 2000\n",
      "building tree 219 of 2000\n",
      "building tree 220 of 2000\n",
      "building tree 221 of 2000\n",
      "building tree 222 of 2000\n",
      "building tree 223 of 2000\n",
      "building tree 224 of 2000\n",
      "building tree 225 of 2000\n",
      "building tree 226 of 2000\n",
      "building tree 227 of 2000\n",
      "building tree 228 of 2000\n",
      "building tree 229 of 2000\n",
      "building tree 230 of 2000\n",
      "building tree 231 of 2000\n",
      "building tree 232 of 2000\n",
      "building tree 233 of 2000\n",
      "building tree 234 of 2000\n",
      "building tree 235 of 2000\n",
      "building tree 236 of 2000\n",
      "building tree 237 of 2000\n",
      "building tree 238 of 2000\n",
      "building tree 239 of 2000\n",
      "building tree 240 of 2000\n",
      "building tree 241 of 2000\n",
      "building tree 242 of 2000\n",
      "building tree 243 of 2000\n",
      "building tree 244 of 2000\n",
      "building tree 245 of 2000\n",
      "building tree 246 of 2000\n",
      "building tree 247 of 2000\n",
      "building tree 248 of 2000\n",
      "building tree 249 of 2000\n",
      "building tree 250 of 2000\n",
      "building tree 251 of 2000\n",
      "building tree 252 of 2000\n",
      "building tree 253 of 2000\n",
      "building tree 254 of 2000\n",
      "building tree 255 of 2000\n",
      "building tree 256 of 2000\n",
      "building tree 257 of 2000\n",
      "building tree 258 of 2000\n",
      "building tree 259 of 2000\n",
      "building tree 260 of 2000\n",
      "building tree 261 of 2000\n",
      "building tree 262 of 2000\n",
      "building tree 263 of 2000\n",
      "building tree 264 of 2000\n",
      "building tree 265 of 2000\n",
      "building tree 266 of 2000\n",
      "building tree 267 of 2000\n",
      "building tree 268 of 2000\n",
      "building tree 269 of 2000\n",
      "building tree 270 of 2000\n",
      "building tree 271 of 2000\n",
      "building tree 272 of 2000\n",
      "building tree 273 of 2000\n",
      "building tree 274 of 2000\n",
      "building tree 275 of 2000\n",
      "building tree 276 of 2000\n",
      "building tree 277 of 2000\n",
      "building tree 278 of 2000\n",
      "building tree 279 of 2000\n",
      "building tree 280 of 2000\n",
      "building tree 281 of 2000\n",
      "building tree 282 of 2000\n",
      "building tree 283 of 2000\n",
      "building tree 284 of 2000\n",
      "building tree 285 of 2000\n",
      "building tree 286 of 2000\n",
      "building tree 287 of 2000\n",
      "building tree 288 of 2000\n",
      "building tree 289 of 2000\n",
      "building tree 290 of 2000\n",
      "building tree 291 of 2000\n",
      "building tree 292 of 2000\n",
      "building tree 293 of 2000\n",
      "building tree 294 of 2000\n",
      "building tree 295 of 2000\n",
      "building tree 296 of 2000\n",
      "building tree 297 of 2000\n",
      "building tree 298 of 2000\n",
      "building tree 299 of 2000\n",
      "building tree 300 of 2000\n",
      "building tree 301 of 2000\n",
      "building tree 302 of 2000\n",
      "building tree 303 of 2000\n",
      "building tree 304 of 2000\n",
      "building tree 305 of 2000\n",
      "building tree 306 of 2000\n",
      "building tree 307 of 2000\n",
      "building tree 308 of 2000\n",
      "building tree 309 of 2000\n",
      "building tree 310 of 2000\n",
      "building tree 311 of 2000\n",
      "building tree 312 of 2000\n",
      "building tree 313 of 2000\n",
      "building tree 314 of 2000\n",
      "building tree 315 of 2000\n",
      "building tree 316 of 2000\n",
      "building tree 317 of 2000\n",
      "building tree 318 of 2000\n",
      "building tree 319 of 2000\n",
      "building tree 320 of 2000\n",
      "building tree 321 of 2000\n",
      "building tree 322 of 2000\n",
      "building tree 323 of 2000\n",
      "building tree 324 of 2000\n",
      "building tree 325 of 2000\n",
      "building tree 326 of 2000\n",
      "building tree 327 of 2000\n"
     ]
    },
    {
     "name": "stdout",
     "output_type": "stream",
     "text": [
      "building tree 328 of 2000\n",
      "building tree 329 of 2000\n",
      "building tree 330 of 2000\n",
      "building tree 331 of 2000\n",
      "building tree 332 of 2000\n",
      "building tree 333 of 2000\n",
      "building tree 334 of 2000\n",
      "building tree 335 of 2000\n",
      "building tree 336 of 2000\n",
      "building tree 337 of 2000\n",
      "building tree 338 of 2000\n",
      "building tree 339 of 2000\n",
      "building tree 340 of 2000\n",
      "building tree 341 of 2000\n",
      "building tree 342 of 2000\n",
      "building tree 343 of 2000\n",
      "building tree 344 of 2000\n",
      "building tree 345 of 2000\n",
      "building tree 346 of 2000\n",
      "building tree 347 of 2000\n",
      "building tree 348 of 2000\n",
      "building tree 349 of 2000\n",
      "building tree 350 of 2000\n",
      "building tree 351 of 2000\n",
      "building tree 352 of 2000\n",
      "building tree 353 of 2000\n",
      "building tree 354 of 2000\n",
      "building tree 355 of 2000\n",
      "building tree 356 of 2000\n",
      "building tree 357 of 2000\n",
      "building tree 358 of 2000\n",
      "building tree 359 of 2000\n",
      "building tree 360 of 2000\n",
      "building tree 361 of 2000\n",
      "building tree 362 of 2000\n",
      "building tree 363 of 2000\n",
      "building tree 364 of 2000\n",
      "building tree 365 of 2000\n",
      "building tree 366 of 2000\n",
      "building tree 367 of 2000\n",
      "building tree 368 of 2000\n",
      "building tree 369 of 2000\n",
      "building tree 370 of 2000\n",
      "building tree 371 of 2000\n",
      "building tree 372 of 2000\n",
      "building tree 373 of 2000\n",
      "building tree 374 of 2000\n",
      "building tree 375 of 2000\n",
      "building tree 376 of 2000\n",
      "building tree 377 of 2000\n",
      "building tree 378 of 2000\n",
      "building tree 379 of 2000\n",
      "building tree 380 of 2000\n",
      "building tree 381 of 2000\n",
      "building tree 382 of 2000\n",
      "building tree 383 of 2000\n",
      "building tree 384 of 2000\n",
      "building tree 385 of 2000\n",
      "building tree 386 of 2000\n",
      "building tree 387 of 2000\n",
      "building tree 388 of 2000\n",
      "building tree 389 of 2000\n",
      "building tree 390 of 2000\n",
      "building tree 391 of 2000\n",
      "building tree 392 of 2000\n",
      "building tree 393 of 2000\n",
      "building tree 394 of 2000\n",
      "building tree 395 of 2000\n",
      "building tree 396 of 2000\n",
      "building tree 397 of 2000\n",
      "building tree 398 of 2000\n",
      "building tree 399 of 2000\n",
      "building tree 400 of 2000\n",
      "building tree 401 of 2000\n",
      "building tree 402 of 2000\n",
      "building tree 403 of 2000\n",
      "building tree 404 of 2000\n",
      "building tree 405 of 2000\n",
      "building tree 406 of 2000\n",
      "building tree 407 of 2000\n",
      "building tree 408 of 2000\n",
      "building tree 409 of 2000\n",
      "building tree 410 of 2000\n",
      "building tree 411 of 2000\n",
      "building tree 412 of 2000\n",
      "building tree 413 of 2000\n",
      "building tree 414 of 2000\n",
      "building tree 415 of 2000\n",
      "building tree 416 of 2000\n",
      "building tree 417 of 2000\n",
      "building tree 418 of 2000\n",
      "building tree 419 of 2000\n",
      "building tree 420 of 2000\n",
      "building tree 421 of 2000\n",
      "building tree 422 of 2000\n",
      "building tree 423 of 2000\n",
      "building tree 424 of 2000\n",
      "building tree 425 of 2000\n",
      "building tree 426 of 2000\n",
      "building tree 427 of 2000\n",
      "building tree 428 of 2000\n",
      "building tree 429 of 2000\n",
      "building tree 430 of 2000\n",
      "building tree 431 of 2000\n",
      "building tree 432 of 2000\n",
      "building tree 433 of 2000\n",
      "building tree 434 of 2000\n",
      "building tree 435 of 2000\n",
      "building tree 436 of 2000\n",
      "building tree 437 of 2000\n",
      "building tree 438 of 2000\n",
      "building tree 439 of 2000\n",
      "building tree 440 of 2000\n",
      "building tree 441 of 2000\n",
      "building tree 442 of 2000\n",
      "building tree 443 of 2000\n",
      "building tree 444 of 2000\n",
      "building tree 445 of 2000\n",
      "building tree 446 of 2000\n",
      "building tree 447 of 2000\n",
      "building tree 448 of 2000\n",
      "building tree 449 of 2000\n",
      "building tree 450 of 2000\n",
      "building tree 451 of 2000\n",
      "building tree 452 of 2000\n",
      "building tree 453 of 2000\n",
      "building tree 454 of 2000\n",
      "building tree 455 of 2000\n",
      "building tree 456 of 2000\n",
      "building tree 457 of 2000\n",
      "building tree 458 of 2000\n",
      "building tree 459 of 2000\n",
      "building tree 460 of 2000\n",
      "building tree 461 of 2000\n",
      "building tree 462 of 2000\n",
      "building tree 463 of 2000\n",
      "building tree 464 of 2000\n",
      "building tree 465 of 2000\n",
      "building tree 466 of 2000\n",
      "building tree 467 of 2000\n",
      "building tree 468 of 2000\n",
      "building tree 469 of 2000\n",
      "building tree 470 of 2000\n",
      "building tree 471 of 2000\n",
      "building tree 472 of 2000\n",
      "building tree 473 of 2000\n",
      "building tree 474 of 2000\n",
      "building tree 475 of 2000\n",
      "building tree 476 of 2000\n",
      "building tree 477 of 2000\n",
      "building tree 478 of 2000\n",
      "building tree 479 of 2000\n",
      "building tree 480 of 2000\n",
      "building tree 481 of 2000\n",
      "building tree 482 of 2000\n",
      "building tree 483 of 2000\n",
      "building tree 484 of 2000\n",
      "building tree 485 of 2000\n",
      "building tree 486 of 2000\n",
      "building tree 487 of 2000\n",
      "building tree 488 of 2000\n",
      "building tree 489 of 2000\n",
      "building tree 490 of 2000\n",
      "building tree 491 of 2000\n",
      "building tree 492 of 2000\n",
      "building tree 493 of 2000\n",
      "building tree 494 of 2000\n",
      "building tree 495 of 2000\n",
      "building tree 496 of 2000\n",
      "building tree 497 of 2000\n",
      "building tree 498 of 2000\n",
      "building tree 499 of 2000\n",
      "building tree 500 of 2000\n",
      "building tree 501 of 2000\n",
      "building tree 502 of 2000\n",
      "building tree 503 of 2000\n",
      "building tree 504 of 2000\n",
      "building tree 505 of 2000\n",
      "building tree 506 of 2000\n",
      "building tree 507 of 2000\n",
      "building tree 508 of 2000\n",
      "building tree 509 of 2000\n",
      "building tree 510 of 2000\n",
      "building tree 511 of 2000\n",
      "building tree 512 of 2000\n",
      "building tree 513 of 2000\n",
      "building tree 514 of 2000\n",
      "building tree 515 of 2000\n",
      "building tree 516 of 2000\n",
      "building tree 517 of 2000\n",
      "building tree 518 of 2000\n",
      "building tree 519 of 2000\n",
      "building tree 520 of 2000\n",
      "building tree 521 of 2000\n",
      "building tree 522 of 2000\n",
      "building tree 523 of 2000\n",
      "building tree 524 of 2000\n",
      "building tree 525 of 2000\n",
      "building tree 526 of 2000\n",
      "building tree 527 of 2000\n",
      "building tree 528 of 2000\n",
      "building tree 529 of 2000\n",
      "building tree 530 of 2000\n",
      "building tree 531 of 2000\n",
      "building tree 532 of 2000\n",
      "building tree 533 of 2000\n",
      "building tree 534 of 2000\n",
      "building tree 535 of 2000\n",
      "building tree 536 of 2000\n",
      "building tree 537 of 2000\n",
      "building tree 538 of 2000\n",
      "building tree 539 of 2000\n",
      "building tree 540 of 2000\n",
      "building tree 541 of 2000\n",
      "building tree 542 of 2000\n",
      "building tree 543 of 2000\n",
      "building tree 544 of 2000\n",
      "building tree 545 of 2000\n",
      "building tree 546 of 2000\n",
      "building tree 547 of 2000\n",
      "building tree 548 of 2000\n",
      "building tree 549 of 2000\n",
      "building tree 550 of 2000\n",
      "building tree 551 of 2000\n",
      "building tree 552 of 2000\n",
      "building tree 553 of 2000\n",
      "building tree 554 of 2000\n",
      "building tree 555 of 2000\n",
      "building tree 556 of 2000\n",
      "building tree 557 of 2000\n",
      "building tree 558 of 2000\n",
      "building tree 559 of 2000\n",
      "building tree 560 of 2000\n",
      "building tree 561 of 2000\n",
      "building tree 562 of 2000\n",
      "building tree 563 of 2000\n",
      "building tree 564 of 2000\n",
      "building tree 565 of 2000\n",
      "building tree 566 of 2000\n",
      "building tree 567 of 2000\n",
      "building tree 568 of 2000\n",
      "building tree 569 of 2000\n",
      "building tree 570 of 2000\n",
      "building tree 571 of 2000\n",
      "building tree 572 of 2000\n",
      "building tree 573 of 2000\n",
      "building tree 574 of 2000\n",
      "building tree 575 of 2000\n",
      "building tree 576 of 2000\n",
      "building tree 577 of 2000\n",
      "building tree 578 of 2000\n",
      "building tree 579 of 2000\n",
      "building tree 580 of 2000\n",
      "building tree 581 of 2000\n",
      "building tree 582 of 2000\n",
      "building tree 583 of 2000\n",
      "building tree 584 of 2000\n",
      "building tree 585 of 2000\n",
      "building tree 586 of 2000\n",
      "building tree 587 of 2000\n",
      "building tree 588 of 2000\n",
      "building tree 589 of 2000\n",
      "building tree 590 of 2000\n",
      "building tree 591 of 2000\n",
      "building tree 592 of 2000\n",
      "building tree 593 of 2000\n",
      "building tree 594 of 2000\n",
      "building tree 595 of 2000\n",
      "building tree 596 of 2000\n",
      "building tree 597 of 2000\n",
      "building tree 598 of 2000\n",
      "building tree 599 of 2000\n",
      "building tree 600 of 2000\n",
      "building tree 601 of 2000\n",
      "building tree 602 of 2000\n",
      "building tree 603 of 2000\n",
      "building tree 604 of 2000\n",
      "building tree 605 of 2000\n",
      "building tree 606 of 2000\n",
      "building tree 607 of 2000\n",
      "building tree 608 of 2000\n",
      "building tree 609 of 2000\n",
      "building tree 610 of 2000\n",
      "building tree 611 of 2000\n",
      "building tree 612 of 2000\n",
      "building tree 613 of 2000\n",
      "building tree 614 of 2000\n",
      "building tree 615 of 2000\n",
      "building tree 616 of 2000\n",
      "building tree 617 of 2000\n",
      "building tree 618 of 2000\n",
      "building tree 619 of 2000\n",
      "building tree 620 of 2000\n",
      "building tree 621 of 2000\n",
      "building tree 622 of 2000\n",
      "building tree 623 of 2000\n",
      "building tree 624 of 2000\n",
      "building tree 625 of 2000\n",
      "building tree 626 of 2000\n",
      "building tree 627 of 2000\n",
      "building tree 628 of 2000\n",
      "building tree 629 of 2000\n",
      "building tree 630 of 2000\n",
      "building tree 631 of 2000\n",
      "building tree 632 of 2000\n",
      "building tree 633 of 2000\n",
      "building tree 634 of 2000\n",
      "building tree 635 of 2000\n",
      "building tree 636 of 2000\n",
      "building tree 637 of 2000\n",
      "building tree 638 of 2000\n",
      "building tree 639 of 2000\n",
      "building tree 640 of 2000\n",
      "building tree 641 of 2000\n",
      "building tree 642 of 2000\n",
      "building tree 643 of 2000\n"
     ]
    },
    {
     "name": "stdout",
     "output_type": "stream",
     "text": [
      "building tree 644 of 2000\n",
      "building tree 645 of 2000\n",
      "building tree 646 of 2000\n",
      "building tree 647 of 2000\n",
      "building tree 648 of 2000\n",
      "building tree 649 of 2000\n",
      "building tree 650 of 2000\n",
      "building tree 651 of 2000\n",
      "building tree 652 of 2000\n",
      "building tree 653 of 2000\n",
      "building tree 654 of 2000\n",
      "building tree 655 of 2000\n",
      "building tree 656 of 2000\n",
      "building tree 657 of 2000\n",
      "building tree 658 of 2000\n",
      "building tree 659 of 2000\n",
      "building tree 660 of 2000\n",
      "building tree 661 of 2000\n",
      "building tree 662 of 2000\n",
      "building tree 663 of 2000\n",
      "building tree 664 of 2000\n",
      "building tree 665 of 2000\n",
      "building tree 666 of 2000\n",
      "building tree 667 of 2000\n",
      "building tree 668 of 2000\n",
      "building tree 669 of 2000\n",
      "building tree 670 of 2000\n",
      "building tree 671 of 2000\n",
      "building tree 672 of 2000\n",
      "building tree 673 of 2000\n",
      "building tree 674 of 2000\n",
      "building tree 675 of 2000\n",
      "building tree 676 of 2000\n",
      "building tree 677 of 2000\n",
      "building tree 678 of 2000\n",
      "building tree 679 of 2000\n",
      "building tree 680 of 2000\n",
      "building tree 681 of 2000\n",
      "building tree 682 of 2000\n",
      "building tree 683 of 2000\n",
      "building tree 684 of 2000\n",
      "building tree 685 of 2000\n",
      "building tree 686 of 2000\n",
      "building tree 687 of 2000\n",
      "building tree 688 of 2000\n",
      "building tree 689 of 2000\n",
      "building tree 690 of 2000\n",
      "building tree 691 of 2000\n",
      "building tree 692 of 2000\n",
      "building tree 693 of 2000\n",
      "building tree 694 of 2000\n",
      "building tree 695 of 2000\n",
      "building tree 696 of 2000\n",
      "building tree 697 of 2000\n",
      "building tree 698 of 2000\n",
      "building tree 699 of 2000\n",
      "building tree 700 of 2000\n",
      "building tree 701 of 2000\n",
      "building tree 702 of 2000\n",
      "building tree 703 of 2000\n",
      "building tree 704 of 2000\n",
      "building tree 705 of 2000\n",
      "building tree 706 of 2000\n",
      "building tree 707 of 2000\n",
      "building tree 708 of 2000\n",
      "building tree 709 of 2000\n",
      "building tree 710 of 2000\n",
      "building tree 711 of 2000\n",
      "building tree 712 of 2000\n",
      "building tree 713 of 2000\n",
      "building tree 714 of 2000\n",
      "building tree 715 of 2000\n",
      "building tree 716 of 2000\n",
      "building tree 717 of 2000\n",
      "building tree 718 of 2000\n",
      "building tree 719 of 2000\n",
      "building tree 720 of 2000\n",
      "building tree 721 of 2000\n",
      "building tree 722 of 2000\n",
      "building tree 723 of 2000\n",
      "building tree 724 of 2000\n",
      "building tree 725 of 2000\n",
      "building tree 726 of 2000\n",
      "building tree 727 of 2000\n",
      "building tree 728 of 2000\n",
      "building tree 729 of 2000\n",
      "building tree 730 of 2000\n",
      "building tree 731 of 2000\n",
      "building tree 732 of 2000\n",
      "building tree 733 of 2000\n",
      "building tree 734 of 2000\n",
      "building tree 735 of 2000\n",
      "building tree 736 of 2000\n",
      "building tree 737 of 2000\n",
      "building tree 738 of 2000\n",
      "building tree 739 of 2000\n",
      "building tree 740 of 2000\n",
      "building tree 741 of 2000\n",
      "building tree 742 of 2000\n",
      "building tree 743 of 2000\n",
      "building tree 744 of 2000\n",
      "building tree 745 of 2000\n",
      "building tree 746 of 2000\n",
      "building tree 747 of 2000\n",
      "building tree 748 of 2000\n",
      "building tree 749 of 2000\n",
      "building tree 750 of 2000\n",
      "building tree 751 of 2000\n",
      "building tree 752 of 2000\n",
      "building tree 753 of 2000\n",
      "building tree 754 of 2000\n",
      "building tree 755 of 2000\n",
      "building tree 756 of 2000\n",
      "building tree 757 of 2000\n",
      "building tree 758 of 2000\n",
      "building tree 759 of 2000\n",
      "building tree 760 of 2000\n",
      "building tree 761 of 2000\n",
      "building tree 762 of 2000\n",
      "building tree 763 of 2000\n",
      "building tree 764 of 2000\n",
      "building tree 765 of 2000\n",
      "building tree 766 of 2000\n",
      "building tree 767 of 2000\n",
      "building tree 768 of 2000\n",
      "building tree 769 of 2000\n",
      "building tree 770 of 2000\n",
      "building tree 771 of 2000\n",
      "building tree 772 of 2000\n",
      "building tree 773 of 2000\n",
      "building tree 774 of 2000\n",
      "building tree 775 of 2000\n",
      "building tree 776 of 2000\n",
      "building tree 777 of 2000\n",
      "building tree 778 of 2000\n",
      "building tree 779 of 2000\n",
      "building tree 780 of 2000\n",
      "building tree 781 of 2000\n",
      "building tree 782 of 2000\n",
      "building tree 783 of 2000\n",
      "building tree 784 of 2000\n",
      "building tree 785 of 2000\n",
      "building tree 786 of 2000\n",
      "building tree 787 of 2000\n",
      "building tree 788 of 2000\n",
      "building tree 789 of 2000\n",
      "building tree 790 of 2000\n",
      "building tree 791 of 2000\n",
      "building tree 792 of 2000\n",
      "building tree 793 of 2000\n",
      "building tree 794 of 2000\n",
      "building tree 795 of 2000\n",
      "building tree 796 of 2000\n",
      "building tree 797 of 2000\n",
      "building tree 798 of 2000\n",
      "building tree 799 of 2000\n",
      "building tree 800 of 2000\n",
      "building tree 801 of 2000\n",
      "building tree 802 of 2000\n",
      "building tree 803 of 2000\n",
      "building tree 804 of 2000\n",
      "building tree 805 of 2000\n",
      "building tree 806 of 2000\n",
      "building tree 807 of 2000\n",
      "building tree 808 of 2000\n",
      "building tree 809 of 2000\n",
      "building tree 810 of 2000\n",
      "building tree 811 of 2000\n",
      "building tree 812 of 2000\n",
      "building tree 813 of 2000\n",
      "building tree 814 of 2000\n",
      "building tree 815 of 2000\n",
      "building tree 816 of 2000\n",
      "building tree 817 of 2000\n",
      "building tree 818 of 2000\n",
      "building tree 819 of 2000\n",
      "building tree 820 of 2000\n",
      "building tree 821 of 2000\n",
      "building tree 822 of 2000\n",
      "building tree 823 of 2000\n",
      "building tree 824 of 2000\n",
      "building tree 825 of 2000\n",
      "building tree 826 of 2000\n",
      "building tree 827 of 2000\n",
      "building tree 828 of 2000\n",
      "building tree 829 of 2000\n",
      "building tree 830 of 2000\n",
      "building tree 831 of 2000\n",
      "building tree 832 of 2000\n",
      "building tree 833 of 2000\n",
      "building tree 834 of 2000\n",
      "building tree 835 of 2000\n",
      "building tree 836 of 2000\n",
      "building tree 837 of 2000\n",
      "building tree 838 of 2000\n",
      "building tree 839 of 2000\n",
      "building tree 840 of 2000\n",
      "building tree 841 of 2000\n",
      "building tree 842 of 2000\n",
      "building tree 843 of 2000\n",
      "building tree 844 of 2000\n",
      "building tree 845 of 2000\n",
      "building tree 846 of 2000\n",
      "building tree 847 of 2000\n",
      "building tree 848 of 2000\n",
      "building tree 849 of 2000\n",
      "building tree 850 of 2000\n",
      "building tree 851 of 2000\n",
      "building tree 852 of 2000\n",
      "building tree 853 of 2000\n",
      "building tree 854 of 2000\n",
      "building tree 855 of 2000\n",
      "building tree 856 of 2000\n",
      "building tree 857 of 2000\n",
      "building tree 858 of 2000\n",
      "building tree 859 of 2000\n",
      "building tree 860 of 2000\n",
      "building tree 861 of 2000\n",
      "building tree 862 of 2000\n",
      "building tree 863 of 2000\n",
      "building tree 864 of 2000\n",
      "building tree 865 of 2000\n",
      "building tree 866 of 2000\n",
      "building tree 867 of 2000\n",
      "building tree 868 of 2000\n",
      "building tree 869 of 2000\n",
      "building tree 870 of 2000\n",
      "building tree 871 of 2000\n",
      "building tree 872 of 2000\n",
      "building tree 873 of 2000\n",
      "building tree 874 of 2000\n",
      "building tree 875 of 2000\n",
      "building tree 876 of 2000\n",
      "building tree 877 of 2000\n",
      "building tree 878 of 2000\n",
      "building tree 879 of 2000\n",
      "building tree 880 of 2000\n",
      "building tree 881 of 2000\n",
      "building tree 882 of 2000\n",
      "building tree 883 of 2000\n",
      "building tree 884 of 2000\n",
      "building tree 885 of 2000\n",
      "building tree 886 of 2000\n",
      "building tree 887 of 2000\n",
      "building tree 888 of 2000\n",
      "building tree 889 of 2000\n",
      "building tree 890 of 2000\n",
      "building tree 891 of 2000\n",
      "building tree 892 of 2000\n",
      "building tree 893 of 2000\n",
      "building tree 894 of 2000\n",
      "building tree 895 of 2000\n",
      "building tree 896 of 2000\n",
      "building tree 897 of 2000\n",
      "building tree 898 of 2000\n",
      "building tree 899 of 2000\n",
      "building tree 900 of 2000\n",
      "building tree 901 of 2000\n",
      "building tree 902 of 2000\n",
      "building tree 903 of 2000\n",
      "building tree 904 of 2000\n",
      "building tree 905 of 2000\n",
      "building tree 906 of 2000\n",
      "building tree 907 of 2000\n",
      "building tree 908 of 2000\n",
      "building tree 909 of 2000\n",
      "building tree 910 of 2000\n",
      "building tree 911 of 2000\n",
      "building tree 912 of 2000\n",
      "building tree 913 of 2000\n",
      "building tree 914 of 2000\n",
      "building tree 915 of 2000\n",
      "building tree 916 of 2000\n",
      "building tree 917 of 2000\n",
      "building tree 918 of 2000\n",
      "building tree 919 of 2000\n",
      "building tree 920 of 2000\n",
      "building tree 921 of 2000\n",
      "building tree 922 of 2000\n",
      "building tree 923 of 2000\n",
      "building tree 924 of 2000\n",
      "building tree 925 of 2000\n",
      "building tree 926 of 2000\n",
      "building tree 927 of 2000\n",
      "building tree 928 of 2000\n",
      "building tree 929 of 2000\n",
      "building tree 930 of 2000\n",
      "building tree 931 of 2000\n",
      "building tree 932 of 2000\n",
      "building tree 933 of 2000\n",
      "building tree 934 of 2000\n",
      "building tree 935 of 2000\n",
      "building tree 936 of 2000\n",
      "building tree 937 of 2000\n",
      "building tree 938 of 2000\n",
      "building tree 939 of 2000\n",
      "building tree 940 of 2000\n",
      "building tree 941 of 2000\n",
      "building tree 942 of 2000\n",
      "building tree 943 of 2000\n",
      "building tree 944 of 2000\n",
      "building tree 945 of 2000\n",
      "building tree 946 of 2000\n",
      "building tree 947 of 2000\n",
      "building tree 948 of 2000\n",
      "building tree 949 of 2000\n",
      "building tree 950 of 2000\n",
      "building tree 951 of 2000\n",
      "building tree 952 of 2000\n",
      "building tree 953 of 2000\n",
      "building tree 954 of 2000\n",
      "building tree 955 of 2000\n",
      "building tree 956 of 2000\n",
      "building tree 957 of 2000\n",
      "building tree 958 of 2000\n",
      "building tree 959 of 2000\n",
      "building tree 960 of 2000\n"
     ]
    },
    {
     "name": "stdout",
     "output_type": "stream",
     "text": [
      "building tree 961 of 2000\n",
      "building tree 962 of 2000\n",
      "building tree 963 of 2000\n",
      "building tree 964 of 2000\n",
      "building tree 965 of 2000\n",
      "building tree 966 of 2000\n",
      "building tree 967 of 2000\n",
      "building tree 968 of 2000\n",
      "building tree 969 of 2000\n",
      "building tree 970 of 2000\n",
      "building tree 971 of 2000\n",
      "building tree 972 of 2000\n",
      "building tree 973 of 2000\n",
      "building tree 974 of 2000\n",
      "building tree 975 of 2000\n",
      "building tree 976 of 2000\n",
      "building tree 977 of 2000\n",
      "building tree 978 of 2000\n",
      "building tree 979 of 2000\n",
      "building tree 980 of 2000\n",
      "building tree 981 of 2000\n",
      "building tree 982 of 2000\n",
      "building tree 983 of 2000\n",
      "building tree 984 of 2000\n",
      "building tree 985 of 2000\n",
      "building tree 986 of 2000\n",
      "building tree 987 of 2000\n",
      "building tree 988 of 2000\n",
      "building tree 989 of 2000\n",
      "building tree 990 of 2000\n",
      "building tree 991 of 2000\n",
      "building tree 992 of 2000\n",
      "building tree 993 of 2000\n",
      "building tree 994 of 2000\n",
      "building tree 995 of 2000\n",
      "building tree 996 of 2000\n",
      "building tree 997 of 2000\n",
      "building tree 998 of 2000\n",
      "building tree 999 of 2000\n",
      "building tree 1000 of 2000\n",
      "building tree 1001 of 2000\n",
      "building tree 1002 of 2000\n",
      "building tree 1003 of 2000\n",
      "building tree 1004 of 2000\n",
      "building tree 1005 of 2000\n",
      "building tree 1006 of 2000\n",
      "building tree 1007 of 2000\n",
      "building tree 1008 of 2000\n",
      "building tree 1009 of 2000\n",
      "building tree 1010 of 2000\n",
      "building tree 1011 of 2000\n",
      "building tree 1012 of 2000\n",
      "building tree 1013 of 2000\n",
      "building tree 1014 of 2000\n",
      "building tree 1015 of 2000\n",
      "building tree 1016 of 2000\n",
      "building tree 1017 of 2000\n",
      "building tree 1018 of 2000\n",
      "building tree 1019 of 2000\n",
      "building tree 1020 of 2000\n",
      "building tree 1021 of 2000\n",
      "building tree 1022 of 2000\n",
      "building tree 1023 of 2000\n",
      "building tree 1024 of 2000\n",
      "building tree 1025 of 2000\n",
      "building tree 1026 of 2000\n",
      "building tree 1027 of 2000\n",
      "building tree 1028 of 2000\n",
      "building tree 1029 of 2000\n",
      "building tree 1030 of 2000\n",
      "building tree 1031 of 2000\n",
      "building tree 1032 of 2000\n",
      "building tree 1033 of 2000\n",
      "building tree 1034 of 2000\n",
      "building tree 1035 of 2000\n",
      "building tree 1036 of 2000\n",
      "building tree 1037 of 2000\n",
      "building tree 1038 of 2000\n",
      "building tree 1039 of 2000\n",
      "building tree 1040 of 2000\n",
      "building tree 1041 of 2000\n",
      "building tree 1042 of 2000\n",
      "building tree 1043 of 2000\n",
      "building tree 1044 of 2000\n",
      "building tree 1045 of 2000\n",
      "building tree 1046 of 2000\n",
      "building tree 1047 of 2000\n",
      "building tree 1048 of 2000\n",
      "building tree 1049 of 2000\n",
      "building tree 1050 of 2000\n",
      "building tree 1051 of 2000\n",
      "building tree 1052 of 2000\n",
      "building tree 1053 of 2000\n",
      "building tree 1054 of 2000\n",
      "building tree 1055 of 2000\n",
      "building tree 1056 of 2000\n",
      "building tree 1057 of 2000\n",
      "building tree 1058 of 2000\n",
      "building tree 1059 of 2000\n",
      "building tree 1060 of 2000\n",
      "building tree 1061 of 2000\n",
      "building tree 1062 of 2000\n",
      "building tree 1063 of 2000\n",
      "building tree 1064 of 2000\n",
      "building tree 1065 of 2000\n",
      "building tree 1066 of 2000\n",
      "building tree 1067 of 2000\n",
      "building tree 1068 of 2000\n",
      "building tree 1069 of 2000\n",
      "building tree 1070 of 2000\n",
      "building tree 1071 of 2000\n",
      "building tree 1072 of 2000\n",
      "building tree 1073 of 2000\n",
      "building tree 1074 of 2000\n",
      "building tree 1075 of 2000\n",
      "building tree 1076 of 2000\n",
      "building tree 1077 of 2000\n",
      "building tree 1078 of 2000\n",
      "building tree 1079 of 2000\n",
      "building tree 1080 of 2000\n",
      "building tree 1081 of 2000\n",
      "building tree 1082 of 2000\n",
      "building tree 1083 of 2000\n",
      "building tree 1084 of 2000\n",
      "building tree 1085 of 2000\n",
      "building tree 1086 of 2000\n",
      "building tree 1087 of 2000\n",
      "building tree 1088 of 2000\n",
      "building tree 1089 of 2000\n",
      "building tree 1090 of 2000\n",
      "building tree 1091 of 2000\n",
      "building tree 1092 of 2000\n",
      "building tree 1093 of 2000\n",
      "building tree 1094 of 2000\n",
      "building tree 1095 of 2000\n",
      "building tree 1096 of 2000\n",
      "building tree 1097 of 2000\n",
      "building tree 1098 of 2000\n",
      "building tree 1099 of 2000\n",
      "building tree 1100 of 2000\n",
      "building tree 1101 of 2000\n",
      "building tree 1102 of 2000\n",
      "building tree 1103 of 2000\n",
      "building tree 1104 of 2000\n",
      "building tree 1105 of 2000\n",
      "building tree 1106 of 2000\n",
      "building tree 1107 of 2000\n",
      "building tree 1108 of 2000\n",
      "building tree 1109 of 2000\n",
      "building tree 1110 of 2000\n",
      "building tree 1111 of 2000\n",
      "building tree 1112 of 2000\n",
      "building tree 1113 of 2000\n",
      "building tree 1114 of 2000\n",
      "building tree 1115 of 2000\n",
      "building tree 1116 of 2000\n",
      "building tree 1117 of 2000\n",
      "building tree 1118 of 2000\n",
      "building tree 1119 of 2000\n",
      "building tree 1120 of 2000\n",
      "building tree 1121 of 2000\n",
      "building tree 1122 of 2000\n",
      "building tree 1123 of 2000\n",
      "building tree 1124 of 2000\n",
      "building tree 1125 of 2000\n",
      "building tree 1126 of 2000\n",
      "building tree 1127 of 2000\n",
      "building tree 1128 of 2000\n",
      "building tree 1129 of 2000\n",
      "building tree 1130 of 2000\n",
      "building tree 1131 of 2000\n",
      "building tree 1132 of 2000\n",
      "building tree 1133 of 2000\n",
      "building tree 1134 of 2000\n",
      "building tree 1135 of 2000\n",
      "building tree 1136 of 2000\n",
      "building tree 1137 of 2000\n",
      "building tree 1138 of 2000\n",
      "building tree 1139 of 2000\n",
      "building tree 1140 of 2000\n",
      "building tree 1141 of 2000\n",
      "building tree 1142 of 2000\n",
      "building tree 1143 of 2000\n",
      "building tree 1144 of 2000\n",
      "building tree 1145 of 2000\n",
      "building tree 1146 of 2000\n",
      "building tree 1147 of 2000\n",
      "building tree 1148 of 2000\n",
      "building tree 1149 of 2000\n",
      "building tree 1150 of 2000\n",
      "building tree 1151 of 2000\n",
      "building tree 1152 of 2000\n",
      "building tree 1153 of 2000\n",
      "building tree 1154 of 2000\n",
      "building tree 1155 of 2000\n",
      "building tree 1156 of 2000\n",
      "building tree 1157 of 2000\n",
      "building tree 1158 of 2000\n",
      "building tree 1159 of 2000\n",
      "building tree 1160 of 2000\n",
      "building tree 1161 of 2000\n",
      "building tree 1162 of 2000\n",
      "building tree 1163 of 2000\n",
      "building tree 1164 of 2000\n",
      "building tree 1165 of 2000\n",
      "building tree 1166 of 2000\n",
      "building tree 1167 of 2000\n",
      "building tree 1168 of 2000\n",
      "building tree 1169 of 2000\n",
      "building tree 1170 of 2000\n",
      "building tree 1171 of 2000\n",
      "building tree 1172 of 2000\n",
      "building tree 1173 of 2000\n",
      "building tree 1174 of 2000\n",
      "building tree 1175 of 2000\n",
      "building tree 1176 of 2000\n",
      "building tree 1177 of 2000\n",
      "building tree 1178 of 2000\n",
      "building tree 1179 of 2000\n",
      "building tree 1180 of 2000\n",
      "building tree 1181 of 2000\n",
      "building tree 1182 of 2000\n",
      "building tree 1183 of 2000\n",
      "building tree 1184 of 2000\n",
      "building tree 1185 of 2000\n",
      "building tree 1186 of 2000\n",
      "building tree 1187 of 2000\n",
      "building tree 1188 of 2000\n",
      "building tree 1189 of 2000\n",
      "building tree 1190 of 2000\n",
      "building tree 1191 of 2000\n",
      "building tree 1192 of 2000\n",
      "building tree 1193 of 2000\n",
      "building tree 1194 of 2000\n",
      "building tree 1195 of 2000\n",
      "building tree 1196 of 2000\n",
      "building tree 1197 of 2000\n",
      "building tree 1198 of 2000\n",
      "building tree 1199 of 2000\n",
      "building tree 1200 of 2000\n",
      "building tree 1201 of 2000\n",
      "building tree 1202 of 2000\n",
      "building tree 1203 of 2000\n",
      "building tree 1204 of 2000\n",
      "building tree 1205 of 2000\n",
      "building tree 1206 of 2000\n",
      "building tree 1207 of 2000\n",
      "building tree 1208 of 2000\n",
      "building tree 1209 of 2000\n",
      "building tree 1210 of 2000\n",
      "building tree 1211 of 2000\n",
      "building tree 1212 of 2000\n",
      "building tree 1213 of 2000\n",
      "building tree 1214 of 2000\n",
      "building tree 1215 of 2000\n",
      "building tree 1216 of 2000\n",
      "building tree 1217 of 2000\n",
      "building tree 1218 of 2000\n",
      "building tree 1219 of 2000\n",
      "building tree 1220 of 2000\n",
      "building tree 1221 of 2000\n",
      "building tree 1222 of 2000\n",
      "building tree 1223 of 2000\n",
      "building tree 1224 of 2000\n",
      "building tree 1225 of 2000\n",
      "building tree 1226 of 2000\n",
      "building tree 1227 of 2000\n",
      "building tree 1228 of 2000\n",
      "building tree 1229 of 2000\n",
      "building tree 1230 of 2000\n",
      "building tree 1231 of 2000\n",
      "building tree 1232 of 2000\n",
      "building tree 1233 of 2000\n",
      "building tree 1234 of 2000\n",
      "building tree 1235 of 2000\n",
      "building tree 1236 of 2000\n",
      "building tree 1237 of 2000\n",
      "building tree 1238 of 2000\n",
      "building tree 1239 of 2000\n",
      "building tree 1240 of 2000\n",
      "building tree 1241 of 2000\n",
      "building tree 1242 of 2000\n",
      "building tree 1243 of 2000\n",
      "building tree 1244 of 2000\n",
      "building tree 1245 of 2000\n",
      "building tree 1246 of 2000\n",
      "building tree 1247 of 2000\n",
      "building tree 1248 of 2000\n",
      "building tree 1249 of 2000\n",
      "building tree 1250 of 2000\n",
      "building tree 1251 of 2000\n",
      "building tree 1252 of 2000\n",
      "building tree 1253 of 2000\n",
      "building tree 1254 of 2000\n",
      "building tree 1255 of 2000\n",
      "building tree 1256 of 2000\n",
      "building tree 1257 of 2000\n",
      "building tree 1258 of 2000\n",
      "building tree 1259 of 2000\n",
      "building tree 1260 of 2000\n",
      "building tree 1261 of 2000\n",
      "building tree 1262 of 2000\n",
      "building tree 1263 of 2000\n",
      "building tree 1264 of 2000\n",
      "building tree 1265 of 2000\n",
      "building tree 1266 of 2000\n"
     ]
    },
    {
     "name": "stdout",
     "output_type": "stream",
     "text": [
      "building tree 1267 of 2000\n",
      "building tree 1268 of 2000\n",
      "building tree 1269 of 2000\n",
      "building tree 1270 of 2000\n",
      "building tree 1271 of 2000\n",
      "building tree 1272 of 2000\n",
      "building tree 1273 of 2000\n",
      "building tree 1274 of 2000\n",
      "building tree 1275 of 2000\n",
      "building tree 1276 of 2000\n",
      "building tree 1277 of 2000\n",
      "building tree 1278 of 2000\n",
      "building tree 1279 of 2000\n",
      "building tree 1280 of 2000\n",
      "building tree 1281 of 2000\n",
      "building tree 1282 of 2000\n",
      "building tree 1283 of 2000\n",
      "building tree 1284 of 2000\n",
      "building tree 1285 of 2000\n",
      "building tree 1286 of 2000\n",
      "building tree 1287 of 2000\n",
      "building tree 1288 of 2000\n",
      "building tree 1289 of 2000\n",
      "building tree 1290 of 2000\n",
      "building tree 1291 of 2000\n",
      "building tree 1292 of 2000\n",
      "building tree 1293 of 2000\n",
      "building tree 1294 of 2000\n",
      "building tree 1295 of 2000\n",
      "building tree 1296 of 2000\n",
      "building tree 1297 of 2000\n",
      "building tree 1298 of 2000\n",
      "building tree 1299 of 2000\n",
      "building tree 1300 of 2000\n",
      "building tree 1301 of 2000\n",
      "building tree 1302 of 2000\n",
      "building tree 1303 of 2000\n",
      "building tree 1304 of 2000\n",
      "building tree 1305 of 2000\n",
      "building tree 1306 of 2000\n",
      "building tree 1307 of 2000\n",
      "building tree 1308 of 2000\n",
      "building tree 1309 of 2000\n",
      "building tree 1310 of 2000\n",
      "building tree 1311 of 2000\n",
      "building tree 1312 of 2000\n",
      "building tree 1313 of 2000\n",
      "building tree 1314 of 2000\n",
      "building tree 1315 of 2000\n",
      "building tree 1316 of 2000\n",
      "building tree 1317 of 2000\n",
      "building tree 1318 of 2000\n",
      "building tree 1319 of 2000\n",
      "building tree 1320 of 2000\n",
      "building tree 1321 of 2000\n",
      "building tree 1322 of 2000\n",
      "building tree 1323 of 2000\n",
      "building tree 1324 of 2000\n",
      "building tree 1325 of 2000\n",
      "building tree 1326 of 2000\n",
      "building tree 1327 of 2000\n",
      "building tree 1328 of 2000\n",
      "building tree 1329 of 2000\n",
      "building tree 1330 of 2000\n",
      "building tree 1331 of 2000\n",
      "building tree 1332 of 2000\n",
      "building tree 1333 of 2000\n",
      "building tree 1334 of 2000\n",
      "building tree 1335 of 2000\n",
      "building tree 1336 of 2000\n",
      "building tree 1337 of 2000\n",
      "building tree 1338 of 2000\n",
      "building tree 1339 of 2000\n",
      "building tree 1340 of 2000\n",
      "building tree 1341 of 2000\n",
      "building tree 1342 of 2000\n",
      "building tree 1343 of 2000\n",
      "building tree 1344 of 2000\n",
      "building tree 1345 of 2000\n",
      "building tree 1346 of 2000\n",
      "building tree 1347 of 2000\n",
      "building tree 1348 of 2000\n",
      "building tree 1349 of 2000\n",
      "building tree 1350 of 2000\n",
      "building tree 1351 of 2000\n",
      "building tree 1352 of 2000\n",
      "building tree 1353 of 2000\n",
      "building tree 1354 of 2000\n",
      "building tree 1355 of 2000\n",
      "building tree 1356 of 2000\n",
      "building tree 1357 of 2000\n",
      "building tree 1358 of 2000\n",
      "building tree 1359 of 2000\n",
      "building tree 1360 of 2000\n",
      "building tree 1361 of 2000\n",
      "building tree 1362 of 2000\n",
      "building tree 1363 of 2000\n",
      "building tree 1364 of 2000\n",
      "building tree 1365 of 2000\n",
      "building tree 1366 of 2000\n",
      "building tree 1367 of 2000\n",
      "building tree 1368 of 2000\n",
      "building tree 1369 of 2000\n",
      "building tree 1370 of 2000\n",
      "building tree 1371 of 2000\n",
      "building tree 1372 of 2000\n",
      "building tree 1373 of 2000\n",
      "building tree 1374 of 2000\n",
      "building tree 1375 of 2000\n",
      "building tree 1376 of 2000\n",
      "building tree 1377 of 2000\n",
      "building tree 1378 of 2000\n",
      "building tree 1379 of 2000\n",
      "building tree 1380 of 2000\n",
      "building tree 1381 of 2000\n",
      "building tree 1382 of 2000\n",
      "building tree 1383 of 2000\n",
      "building tree 1384 of 2000\n",
      "building tree 1385 of 2000\n",
      "building tree 1386 of 2000\n",
      "building tree 1387 of 2000\n",
      "building tree 1388 of 2000\n",
      "building tree 1389 of 2000\n",
      "building tree 1390 of 2000\n",
      "building tree 1391 of 2000\n",
      "building tree 1392 of 2000\n",
      "building tree 1393 of 2000\n",
      "building tree 1394 of 2000\n",
      "building tree 1395 of 2000\n",
      "building tree 1396 of 2000\n",
      "building tree 1397 of 2000\n",
      "building tree 1398 of 2000\n",
      "building tree 1399 of 2000\n",
      "building tree 1400 of 2000\n",
      "building tree 1401 of 2000\n",
      "building tree 1402 of 2000\n",
      "building tree 1403 of 2000\n",
      "building tree 1404 of 2000\n",
      "building tree 1405 of 2000\n",
      "building tree 1406 of 2000\n",
      "building tree 1407 of 2000\n",
      "building tree 1408 of 2000\n",
      "building tree 1409 of 2000\n",
      "building tree 1410 of 2000\n",
      "building tree 1411 of 2000\n",
      "building tree 1412 of 2000\n",
      "building tree 1413 of 2000\n",
      "building tree 1414 of 2000\n",
      "building tree 1415 of 2000\n",
      "building tree 1416 of 2000\n",
      "building tree 1417 of 2000\n",
      "building tree 1418 of 2000\n",
      "building tree 1419 of 2000\n",
      "building tree 1420 of 2000\n",
      "building tree 1421 of 2000\n",
      "building tree 1422 of 2000\n",
      "building tree 1423 of 2000\n",
      "building tree 1424 of 2000\n",
      "building tree 1425 of 2000\n",
      "building tree 1426 of 2000\n",
      "building tree 1427 of 2000\n",
      "building tree 1428 of 2000\n",
      "building tree 1429 of 2000\n",
      "building tree 1430 of 2000\n",
      "building tree 1431 of 2000\n",
      "building tree 1432 of 2000\n",
      "building tree 1433 of 2000\n",
      "building tree 1434 of 2000\n",
      "building tree 1435 of 2000\n",
      "building tree 1436 of 2000\n",
      "building tree 1437 of 2000\n",
      "building tree 1438 of 2000\n",
      "building tree 1439 of 2000\n",
      "building tree 1440 of 2000\n",
      "building tree 1441 of 2000\n",
      "building tree 1442 of 2000\n",
      "building tree 1443 of 2000\n",
      "building tree 1444 of 2000\n",
      "building tree 1445 of 2000\n",
      "building tree 1446 of 2000\n",
      "building tree 1447 of 2000\n",
      "building tree 1448 of 2000\n",
      "building tree 1449 of 2000\n",
      "building tree 1450 of 2000\n",
      "building tree 1451 of 2000\n",
      "building tree 1452 of 2000\n",
      "building tree 1453 of 2000\n",
      "building tree 1454 of 2000\n",
      "building tree 1455 of 2000\n",
      "building tree 1456 of 2000\n",
      "building tree 1457 of 2000\n",
      "building tree 1458 of 2000\n",
      "building tree 1459 of 2000\n",
      "building tree 1460 of 2000\n",
      "building tree 1461 of 2000\n",
      "building tree 1462 of 2000\n",
      "building tree 1463 of 2000\n",
      "building tree 1464 of 2000\n",
      "building tree 1465 of 2000\n",
      "building tree 1466 of 2000\n",
      "building tree 1467 of 2000\n",
      "building tree 1468 of 2000\n",
      "building tree 1469 of 2000\n",
      "building tree 1470 of 2000\n",
      "building tree 1471 of 2000\n",
      "building tree 1472 of 2000\n",
      "building tree 1473 of 2000\n",
      "building tree 1474 of 2000\n",
      "building tree 1475 of 2000\n",
      "building tree 1476 of 2000\n",
      "building tree 1477 of 2000\n",
      "building tree 1478 of 2000\n",
      "building tree 1479 of 2000\n",
      "building tree 1480 of 2000\n",
      "building tree 1481 of 2000\n",
      "building tree 1482 of 2000\n",
      "building tree 1483 of 2000\n",
      "building tree 1484 of 2000\n",
      "building tree 1485 of 2000\n",
      "building tree 1486 of 2000\n",
      "building tree 1487 of 2000\n",
      "building tree 1488 of 2000\n",
      "building tree 1489 of 2000\n",
      "building tree 1490 of 2000\n",
      "building tree 1491 of 2000\n",
      "building tree 1492 of 2000\n",
      "building tree 1493 of 2000\n",
      "building tree 1494 of 2000\n",
      "building tree 1495 of 2000\n",
      "building tree 1496 of 2000\n",
      "building tree 1497 of 2000\n",
      "building tree 1498 of 2000\n",
      "building tree 1499 of 2000\n",
      "building tree 1500 of 2000\n",
      "building tree 1501 of 2000\n",
      "building tree 1502 of 2000\n",
      "building tree 1503 of 2000\n",
      "building tree 1504 of 2000\n",
      "building tree 1505 of 2000\n",
      "building tree 1506 of 2000\n",
      "building tree 1507 of 2000\n",
      "building tree 1508 of 2000\n",
      "building tree 1509 of 2000\n",
      "building tree 1510 of 2000\n",
      "building tree 1511 of 2000\n",
      "building tree 1512 of 2000\n",
      "building tree 1513 of 2000\n",
      "building tree 1514 of 2000\n",
      "building tree 1515 of 2000\n",
      "building tree 1516 of 2000\n",
      "building tree 1517 of 2000\n",
      "building tree 1518 of 2000\n",
      "building tree 1519 of 2000\n",
      "building tree 1520 of 2000\n",
      "building tree 1521 of 2000\n",
      "building tree 1522 of 2000\n",
      "building tree 1523 of 2000\n",
      "building tree 1524 of 2000\n",
      "building tree 1525 of 2000\n",
      "building tree 1526 of 2000\n",
      "building tree 1527 of 2000\n",
      "building tree 1528 of 2000\n",
      "building tree 1529 of 2000\n",
      "building tree 1530 of 2000\n",
      "building tree 1531 of 2000\n",
      "building tree 1532 of 2000\n",
      "building tree 1533 of 2000\n",
      "building tree 1534 of 2000\n",
      "building tree 1535 of 2000\n",
      "building tree 1536 of 2000\n",
      "building tree 1537 of 2000\n",
      "building tree 1538 of 2000\n",
      "building tree 1539 of 2000\n",
      "building tree 1540 of 2000\n",
      "building tree 1541 of 2000\n",
      "building tree 1542 of 2000\n",
      "building tree 1543 of 2000\n",
      "building tree 1544 of 2000\n",
      "building tree 1545 of 2000\n",
      "building tree 1546 of 2000\n",
      "building tree 1547 of 2000\n",
      "building tree 1548 of 2000\n",
      "building tree 1549 of 2000\n",
      "building tree 1550 of 2000\n",
      "building tree 1551 of 2000\n",
      "building tree 1552 of 2000\n",
      "building tree 1553 of 2000\n",
      "building tree 1554 of 2000\n",
      "building tree 1555 of 2000\n",
      "building tree 1556 of 2000\n",
      "building tree 1557 of 2000\n",
      "building tree 1558 of 2000\n",
      "building tree 1559 of 2000\n",
      "building tree 1560 of 2000\n",
      "building tree 1561 of 2000\n",
      "building tree 1562 of 2000\n",
      "building tree 1563 of 2000\n",
      "building tree 1564 of 2000\n",
      "building tree 1565 of 2000\n",
      "building tree 1566 of 2000\n",
      "building tree 1567 of 2000\n",
      "building tree 1568 of 2000\n",
      "building tree 1569 of 2000\n",
      "building tree 1570 of 2000\n"
     ]
    },
    {
     "name": "stdout",
     "output_type": "stream",
     "text": [
      "building tree 1571 of 2000\n",
      "building tree 1572 of 2000\n",
      "building tree 1573 of 2000\n",
      "building tree 1574 of 2000\n",
      "building tree 1575 of 2000\n",
      "building tree 1576 of 2000\n",
      "building tree 1577 of 2000\n",
      "building tree 1578 of 2000\n",
      "building tree 1579 of 2000\n",
      "building tree 1580 of 2000\n",
      "building tree 1581 of 2000\n",
      "building tree 1582 of 2000\n",
      "building tree 1583 of 2000\n",
      "building tree 1584 of 2000\n",
      "building tree 1585 of 2000\n",
      "building tree 1586 of 2000\n",
      "building tree 1587 of 2000\n",
      "building tree 1588 of 2000\n",
      "building tree 1589 of 2000\n",
      "building tree 1590 of 2000\n",
      "building tree 1591 of 2000\n",
      "building tree 1592 of 2000\n",
      "building tree 1593 of 2000\n",
      "building tree 1594 of 2000\n",
      "building tree 1595 of 2000\n",
      "building tree 1596 of 2000\n",
      "building tree 1597 of 2000\n",
      "building tree 1598 of 2000\n",
      "building tree 1599 of 2000\n",
      "building tree 1600 of 2000\n",
      "building tree 1601 of 2000\n",
      "building tree 1602 of 2000\n",
      "building tree 1603 of 2000\n",
      "building tree 1604 of 2000\n",
      "building tree 1605 of 2000\n",
      "building tree 1606 of 2000\n",
      "building tree 1607 of 2000\n",
      "building tree 1608 of 2000\n",
      "building tree 1609 of 2000\n",
      "building tree 1610 of 2000\n",
      "building tree 1611 of 2000\n",
      "building tree 1612 of 2000\n",
      "building tree 1613 of 2000\n",
      "building tree 1614 of 2000\n",
      "building tree 1615 of 2000\n",
      "building tree 1616 of 2000\n",
      "building tree 1617 of 2000\n",
      "building tree 1618 of 2000\n",
      "building tree 1619 of 2000\n",
      "building tree 1620 of 2000\n",
      "building tree 1621 of 2000\n",
      "building tree 1622 of 2000\n",
      "building tree 1623 of 2000\n",
      "building tree 1624 of 2000\n",
      "building tree 1625 of 2000\n",
      "building tree 1626 of 2000\n",
      "building tree 1627 of 2000\n",
      "building tree 1628 of 2000\n",
      "building tree 1629 of 2000\n",
      "building tree 1630 of 2000\n",
      "building tree 1631 of 2000\n",
      "building tree 1632 of 2000\n",
      "building tree 1633 of 2000\n",
      "building tree 1634 of 2000\n",
      "building tree 1635 of 2000\n",
      "building tree 1636 of 2000\n",
      "building tree 1637 of 2000\n",
      "building tree 1638 of 2000\n",
      "building tree 1639 of 2000\n",
      "building tree 1640 of 2000\n",
      "building tree 1641 of 2000\n",
      "building tree 1642 of 2000\n",
      "building tree 1643 of 2000\n",
      "building tree 1644 of 2000\n",
      "building tree 1645 of 2000\n",
      "building tree 1646 of 2000\n",
      "building tree 1647 of 2000\n",
      "building tree 1648 of 2000\n",
      "building tree 1649 of 2000\n",
      "building tree 1650 of 2000\n",
      "building tree 1651 of 2000\n",
      "building tree 1652 of 2000\n",
      "building tree 1653 of 2000\n",
      "building tree 1654 of 2000\n",
      "building tree 1655 of 2000\n",
      "building tree 1656 of 2000\n",
      "building tree 1657 of 2000\n",
      "building tree 1658 of 2000\n",
      "building tree 1659 of 2000\n",
      "building tree 1660 of 2000\n",
      "building tree 1661 of 2000\n",
      "building tree 1662 of 2000\n",
      "building tree 1663 of 2000\n",
      "building tree 1664 of 2000\n",
      "building tree 1665 of 2000\n",
      "building tree 1666 of 2000\n",
      "building tree 1667 of 2000\n",
      "building tree 1668 of 2000\n",
      "building tree 1669 of 2000\n",
      "building tree 1670 of 2000\n",
      "building tree 1671 of 2000\n",
      "building tree 1672 of 2000\n",
      "building tree 1673 of 2000\n",
      "building tree 1674 of 2000\n",
      "building tree 1675 of 2000\n",
      "building tree 1676 of 2000\n",
      "building tree 1677 of 2000\n",
      "building tree 1678 of 2000\n",
      "building tree 1679 of 2000\n",
      "building tree 1680 of 2000\n",
      "building tree 1681 of 2000\n",
      "building tree 1682 of 2000\n",
      "building tree 1683 of 2000\n",
      "building tree 1684 of 2000\n",
      "building tree 1685 of 2000\n",
      "building tree 1686 of 2000\n",
      "building tree 1687 of 2000\n",
      "building tree 1688 of 2000\n",
      "building tree 1689 of 2000\n",
      "building tree 1690 of 2000\n",
      "building tree 1691 of 2000\n",
      "building tree 1692 of 2000\n",
      "building tree 1693 of 2000\n",
      "building tree 1694 of 2000\n",
      "building tree 1695 of 2000\n",
      "building tree 1696 of 2000\n",
      "building tree 1697 of 2000\n",
      "building tree 1698 of 2000\n",
      "building tree 1699 of 2000\n",
      "building tree 1700 of 2000\n",
      "building tree 1701 of 2000\n",
      "building tree 1702 of 2000\n",
      "building tree 1703 of 2000\n",
      "building tree 1704 of 2000\n",
      "building tree 1705 of 2000\n",
      "building tree 1706 of 2000\n",
      "building tree 1707 of 2000\n",
      "building tree 1708 of 2000\n",
      "building tree 1709 of 2000\n",
      "building tree 1710 of 2000\n",
      "building tree 1711 of 2000\n",
      "building tree 1712 of 2000\n",
      "building tree 1713 of 2000\n",
      "building tree 1714 of 2000\n",
      "building tree 1715 of 2000\n",
      "building tree 1716 of 2000\n",
      "building tree 1717 of 2000\n",
      "building tree 1718 of 2000\n",
      "building tree 1719 of 2000\n",
      "building tree 1720 of 2000\n",
      "building tree 1721 of 2000\n",
      "building tree 1722 of 2000\n",
      "building tree 1723 of 2000\n",
      "building tree 1724 of 2000\n",
      "building tree 1725 of 2000\n",
      "building tree 1726 of 2000\n",
      "building tree 1727 of 2000\n",
      "building tree 1728 of 2000\n",
      "building tree 1729 of 2000\n",
      "building tree 1730 of 2000\n",
      "building tree 1731 of 2000\n",
      "building tree 1732 of 2000\n",
      "building tree 1733 of 2000\n",
      "building tree 1734 of 2000\n",
      "building tree 1735 of 2000\n",
      "building tree 1736 of 2000\n",
      "building tree 1737 of 2000\n",
      "building tree 1738 of 2000\n",
      "building tree 1739 of 2000\n",
      "building tree 1740 of 2000\n",
      "building tree 1741 of 2000\n",
      "building tree 1742 of 2000\n",
      "building tree 1743 of 2000\n",
      "building tree 1744 of 2000\n",
      "building tree 1745 of 2000\n",
      "building tree 1746 of 2000\n",
      "building tree 1747 of 2000\n",
      "building tree 1748 of 2000\n",
      "building tree 1749 of 2000\n",
      "building tree 1750 of 2000\n",
      "building tree 1751 of 2000\n",
      "building tree 1752 of 2000\n",
      "building tree 1753 of 2000\n",
      "building tree 1754 of 2000\n",
      "building tree 1755 of 2000\n",
      "building tree 1756 of 2000\n",
      "building tree 1757 of 2000\n",
      "building tree 1758 of 2000\n",
      "building tree 1759 of 2000\n",
      "building tree 1760 of 2000\n",
      "building tree 1761 of 2000\n",
      "building tree 1762 of 2000\n",
      "building tree 1763 of 2000\n",
      "building tree 1764 of 2000\n",
      "building tree 1765 of 2000\n",
      "building tree 1766 of 2000\n",
      "building tree 1767 of 2000\n",
      "building tree 1768 of 2000\n",
      "building tree 1769 of 2000\n",
      "building tree 1770 of 2000\n",
      "building tree 1771 of 2000\n",
      "building tree 1772 of 2000\n",
      "building tree 1773 of 2000\n",
      "building tree 1774 of 2000\n",
      "building tree 1775 of 2000\n",
      "building tree 1776 of 2000\n",
      "building tree 1777 of 2000\n",
      "building tree 1778 of 2000\n",
      "building tree 1779 of 2000\n",
      "building tree 1780 of 2000\n",
      "building tree 1781 of 2000\n",
      "building tree 1782 of 2000\n",
      "building tree 1783 of 2000\n",
      "building tree 1784 of 2000\n",
      "building tree 1785 of 2000\n",
      "building tree 1786 of 2000\n",
      "building tree 1787 of 2000\n",
      "building tree 1788 of 2000\n",
      "building tree 1789 of 2000\n",
      "building tree 1790 of 2000\n",
      "building tree 1791 of 2000\n",
      "building tree 1792 of 2000\n",
      "building tree 1793 of 2000\n",
      "building tree 1794 of 2000\n",
      "building tree 1795 of 2000\n",
      "building tree 1796 of 2000\n",
      "building tree 1797 of 2000\n",
      "building tree 1798 of 2000\n",
      "building tree 1799 of 2000\n",
      "building tree 1800 of 2000\n",
      "building tree 1801 of 2000\n",
      "building tree 1802 of 2000\n",
      "building tree 1803 of 2000\n",
      "building tree 1804 of 2000\n",
      "building tree 1805 of 2000\n",
      "building tree 1806 of 2000\n",
      "building tree 1807 of 2000\n",
      "building tree 1808 of 2000\n",
      "building tree 1809 of 2000\n",
      "building tree 1810 of 2000\n",
      "building tree 1811 of 2000\n",
      "building tree 1812 of 2000\n",
      "building tree 1813 of 2000\n",
      "building tree 1814 of 2000\n",
      "building tree 1815 of 2000\n",
      "building tree 1816 of 2000\n",
      "building tree 1817 of 2000\n",
      "building tree 1818 of 2000\n",
      "building tree 1819 of 2000\n",
      "building tree 1820 of 2000\n",
      "building tree 1821 of 2000\n",
      "building tree 1822 of 2000\n",
      "building tree 1823 of 2000\n",
      "building tree 1824 of 2000\n",
      "building tree 1825 of 2000\n",
      "building tree 1826 of 2000\n",
      "building tree 1827 of 2000\n",
      "building tree 1828 of 2000\n",
      "building tree 1829 of 2000\n",
      "building tree 1830 of 2000\n",
      "building tree 1831 of 2000\n",
      "building tree 1832 of 2000\n",
      "building tree 1833 of 2000\n",
      "building tree 1834 of 2000\n",
      "building tree 1835 of 2000\n",
      "building tree 1836 of 2000\n",
      "building tree 1837 of 2000\n",
      "building tree 1838 of 2000\n",
      "building tree 1839 of 2000\n",
      "building tree 1840 of 2000\n",
      "building tree 1841 of 2000\n",
      "building tree 1842 of 2000\n",
      "building tree 1843 of 2000\n",
      "building tree 1844 of 2000\n",
      "building tree 1845 of 2000\n",
      "building tree 1846 of 2000\n",
      "building tree 1847 of 2000\n",
      "building tree 1848 of 2000\n",
      "building tree 1849 of 2000\n",
      "building tree 1850 of 2000\n",
      "building tree 1851 of 2000\n",
      "building tree 1852 of 2000\n",
      "building tree 1853 of 2000\n",
      "building tree 1854 of 2000\n",
      "building tree 1855 of 2000\n",
      "building tree 1856 of 2000\n",
      "building tree 1857 of 2000\n",
      "building tree 1858 of 2000\n",
      "building tree 1859 of 2000\n",
      "building tree 1860 of 2000\n",
      "building tree 1861 of 2000\n",
      "building tree 1862 of 2000\n",
      "building tree 1863 of 2000\n",
      "building tree 1864 of 2000\n",
      "building tree 1865 of 2000\n",
      "building tree 1866 of 2000\n",
      "building tree 1867 of 2000\n",
      "building tree 1868 of 2000\n",
      "building tree 1869 of 2000\n",
      "building tree 1870 of 2000\n",
      "building tree 1871 of 2000\n",
      "building tree 1872 of 2000\n",
      "building tree 1873 of 2000\n",
      "building tree 1874 of 2000\n"
     ]
    },
    {
     "name": "stdout",
     "output_type": "stream",
     "text": [
      "building tree 1875 of 2000\n",
      "building tree 1876 of 2000\n",
      "building tree 1877 of 2000\n",
      "building tree 1878 of 2000\n",
      "building tree 1879 of 2000\n",
      "building tree 1880 of 2000\n",
      "building tree 1881 of 2000\n",
      "building tree 1882 of 2000\n",
      "building tree 1883 of 2000\n",
      "building tree 1884 of 2000\n",
      "building tree 1885 of 2000\n",
      "building tree 1886 of 2000\n",
      "building tree 1887 of 2000\n",
      "building tree 1888 of 2000\n",
      "building tree 1889 of 2000\n",
      "building tree 1890 of 2000\n",
      "building tree 1891 of 2000\n",
      "building tree 1892 of 2000\n",
      "building tree 1893 of 2000\n",
      "building tree 1894 of 2000\n",
      "building tree 1895 of 2000\n",
      "building tree 1896 of 2000\n",
      "building tree 1897 of 2000\n",
      "building tree 1898 of 2000\n",
      "building tree 1899 of 2000\n",
      "building tree 1900 of 2000\n",
      "building tree 1901 of 2000\n",
      "building tree 1902 of 2000\n",
      "building tree 1903 of 2000\n",
      "building tree 1904 of 2000\n",
      "building tree 1905 of 2000\n",
      "building tree 1906 of 2000\n",
      "building tree 1907 of 2000\n",
      "building tree 1908 of 2000\n",
      "building tree 1909 of 2000\n",
      "building tree 1910 of 2000\n",
      "building tree 1911 of 2000\n",
      "building tree 1912 of 2000\n",
      "building tree 1913 of 2000\n",
      "building tree 1914 of 2000\n",
      "building tree 1915 of 2000\n",
      "building tree 1916 of 2000\n",
      "building tree 1917 of 2000\n",
      "building tree 1918 of 2000\n",
      "building tree 1919 of 2000\n",
      "building tree 1920 of 2000\n",
      "building tree 1921 of 2000\n",
      "building tree 1922 of 2000\n",
      "building tree 1923 of 2000\n",
      "building tree 1924 of 2000\n",
      "building tree 1925 of 2000\n",
      "building tree 1926 of 2000\n",
      "building tree 1927 of 2000\n",
      "building tree 1928 of 2000\n",
      "building tree 1929 of 2000\n",
      "building tree 1930 of 2000\n",
      "building tree 1931 of 2000\n",
      "building tree 1932 of 2000\n",
      "building tree 1933 of 2000\n",
      "building tree 1934 of 2000\n",
      "building tree 1935 of 2000\n",
      "building tree 1936 of 2000\n",
      "building tree 1937 of 2000\n",
      "building tree 1938 of 2000\n",
      "building tree 1939 of 2000\n",
      "building tree 1940 of 2000\n",
      "building tree 1941 of 2000\n",
      "building tree 1942 of 2000\n",
      "building tree 1943 of 2000\n",
      "building tree 1944 of 2000\n",
      "building tree 1945 of 2000\n",
      "building tree 1946 of 2000\n",
      "building tree 1947 of 2000\n",
      "building tree 1948 of 2000\n",
      "building tree 1949 of 2000\n",
      "building tree 1950 of 2000\n",
      "building tree 1951 of 2000\n",
      "building tree 1952 of 2000\n",
      "building tree 1953 of 2000\n",
      "building tree 1954 of 2000\n",
      "building tree 1955 of 2000\n",
      "building tree 1956 of 2000\n",
      "building tree 1957 of 2000\n",
      "building tree 1958 of 2000\n",
      "building tree 1959 of 2000\n",
      "building tree 1960 of 2000\n",
      "building tree 1961 of 2000\n",
      "building tree 1962 of 2000\n",
      "building tree 1963 of 2000\n",
      "building tree 1964 of 2000\n",
      "building tree 1965 of 2000\n",
      "building tree 1966 of 2000\n",
      "building tree 1967 of 2000\n",
      "building tree 1968 of 2000\n",
      "building tree 1969 of 2000\n",
      "building tree 1970 of 2000\n",
      "building tree 1971 of 2000\n",
      "building tree 1972 of 2000\n",
      "building tree 1973 of 2000\n",
      "building tree 1974 of 2000\n",
      "building tree 1975 of 2000\n",
      "building tree 1976 of 2000\n",
      "building tree 1977 of 2000\n",
      "building tree 1978 of 2000\n",
      "building tree 1979 of 2000\n",
      "building tree 1980 of 2000\n",
      "building tree 1981 of 2000\n",
      "building tree 1982 of 2000\n",
      "building tree 1983 of 2000\n",
      "building tree 1984 of 2000\n",
      "building tree 1985 of 2000\n",
      "building tree 1986 of 2000\n",
      "building tree 1987 of 2000\n",
      "building tree 1988 of 2000\n",
      "building tree 1989 of 2000\n",
      "building tree 1990 of 2000\n",
      "building tree 1991 of 2000\n",
      "building tree 1992 of 2000\n",
      "building tree 1993 of 2000\n",
      "building tree 1994 of 2000\n",
      "building tree 1995 of 2000\n",
      "building tree 1996 of 2000\n",
      "building tree 1997 of 2000\n",
      "building tree 1998 of 2000\n",
      "building tree 1999 of 2000\n",
      "building tree 2000 of 2000\n"
     ]
    },
    {
     "name": "stderr",
     "output_type": "stream",
     "text": [
      "[Parallel(n_jobs=1)]: Done 2000 out of 2000 | elapsed:  4.0min finished\n"
     ]
    },
    {
     "data": {
      "text/plain": [
       "RandomForestRegressor(max_depth=10, n_estimators=2000, random_state=42,\n",
       "                      verbose=10)"
      ]
     },
     "execution_count": 21,
     "metadata": {},
     "output_type": "execute_result"
    }
   ],
   "source": [
    "# create random forest regressor model\n",
    "rf_model = RandomForestRegressor(n_estimators=2000, max_depth=10, max_features='auto', random_state=42, verbose=10)\n",
    "\n",
    "# fit random forest regressor model\n",
    "rf_model.fit(X_train, y_train)"
   ]
  },
  {
   "cell_type": "code",
   "execution_count": 22,
   "metadata": {},
   "outputs": [
    {
     "name": "stderr",
     "output_type": "stream",
     "text": [
      "[Parallel(n_jobs=1)]: Using backend SequentialBackend with 1 concurrent workers.\n",
      "[Parallel(n_jobs=1)]: Done   1 out of   1 | elapsed:    0.0s remaining:    0.0s\n",
      "[Parallel(n_jobs=1)]: Done   2 out of   2 | elapsed:    0.0s remaining:    0.0s\n",
      "[Parallel(n_jobs=1)]: Done   3 out of   3 | elapsed:    0.0s remaining:    0.0s\n",
      "[Parallel(n_jobs=1)]: Done   4 out of   4 | elapsed:    0.0s remaining:    0.0s\n",
      "[Parallel(n_jobs=1)]: Done   5 out of   5 | elapsed:    0.0s remaining:    0.0s\n",
      "[Parallel(n_jobs=1)]: Done   6 out of   6 | elapsed:    0.0s remaining:    0.0s\n",
      "[Parallel(n_jobs=1)]: Done   7 out of   7 | elapsed:    0.0s remaining:    0.0s\n",
      "[Parallel(n_jobs=1)]: Done   8 out of   8 | elapsed:    0.0s remaining:    0.0s\n",
      "[Parallel(n_jobs=1)]: Done   9 out of   9 | elapsed:    0.0s remaining:    0.0s\n",
      "[Parallel(n_jobs=1)]: Done 2000 out of 2000 | elapsed:    3.4s finished\n",
      "[Parallel(n_jobs=1)]: Using backend SequentialBackend with 1 concurrent workers.\n",
      "[Parallel(n_jobs=1)]: Done   1 out of   1 | elapsed:    0.0s remaining:    0.0s\n",
      "[Parallel(n_jobs=1)]: Done   2 out of   2 | elapsed:    0.0s remaining:    0.0s\n",
      "[Parallel(n_jobs=1)]: Done   3 out of   3 | elapsed:    0.0s remaining:    0.0s\n",
      "[Parallel(n_jobs=1)]: Done   4 out of   4 | elapsed:    0.0s remaining:    0.0s\n",
      "[Parallel(n_jobs=1)]: Done   5 out of   5 | elapsed:    0.0s remaining:    0.0s\n",
      "[Parallel(n_jobs=1)]: Done   6 out of   6 | elapsed:    0.0s remaining:    0.0s\n",
      "[Parallel(n_jobs=1)]: Done   7 out of   7 | elapsed:    0.0s remaining:    0.0s\n",
      "[Parallel(n_jobs=1)]: Done   8 out of   8 | elapsed:    0.0s remaining:    0.0s\n",
      "[Parallel(n_jobs=1)]: Done   9 out of   9 | elapsed:    0.0s remaining:    0.0s\n",
      "[Parallel(n_jobs=1)]: Done 2000 out of 2000 | elapsed:    1.3s finished\n"
     ]
    }
   ],
   "source": [
    "# creating y predictions for training and test data\n",
    "y_train_pred = rf_model.predict(X_train)\n",
    "y_test_pred = rf_model.predict(X_test)"
   ]
  },
  {
   "cell_type": "code",
   "execution_count": 23,
   "metadata": {},
   "outputs": [
    {
     "name": "stdout",
     "output_type": "stream",
     "text": [
      "RF Model Train MSE: 0.10420658223840724\n",
      "RF Model Test MSE: 0.14381869624251067\n"
     ]
    }
   ],
   "source": [
    "# rf model training score\n",
    "rf_train_mse = mean_squared_error(y_train_pred, y_train)\n",
    "rf_test_mse = mean_squared_error(y_test_pred, y_test)\n",
    "\n",
    "# display train and test mse\n",
    "print(f'RF Model Train MSE: {rf_train_mse}')\n",
    "print(f'RF Model Test MSE: {rf_test_mse}')"
   ]
  },
  {
   "cell_type": "code",
   "execution_count": 24,
   "metadata": {},
   "outputs": [
    {
     "name": "stdout",
     "output_type": "stream",
     "text": [
      "RF Model Train R2: 0.7624144566029152\n",
      "RF Model Test R2: 0.14381869624251067\n"
     ]
    }
   ],
   "source": [
    "# rf model training score\n",
    "rf_train_r2 = r2_score(y_train_pred, y_train)\n",
    "rf_test_r2 = mean_squared_error(y_test_pred, y_test)\n",
    "\n",
    "# display train and test mse\n",
    "print(f'RF Model Train R2: {rf_train_r2}')\n",
    "print(f'RF Model Test R2: {rf_test_r2}')"
   ]
  },
  {
   "cell_type": "markdown",
   "metadata": {},
   "source": [
    "Initial model with default parameters aren't too great. Need to tune parameters to get a better prediction on the test/validation set."
   ]
  },
  {
   "cell_type": "code",
   "execution_count": 25,
   "metadata": {},
   "outputs": [
    {
     "data": {
      "text/plain": [
       "RandomForestRegressor(max_features='sqrt')"
      ]
     },
     "execution_count": 25,
     "metadata": {},
     "output_type": "execute_result"
    }
   ],
   "source": [
    "# create model again this time using m=sqrt(p)\n",
    "rf_model = RandomForestRegressor(max_features='sqrt')\n",
    "rf_model.fit(X_train, y_train)"
   ]
  },
  {
   "cell_type": "code",
   "execution_count": 26,
   "metadata": {},
   "outputs": [],
   "source": [
    "# creating y predictions for training and test data\n",
    "y_train_pred = rf_model.predict(X_train)\n",
    "y_test_pred = rf_model.predict(X_test)"
   ]
  },
  {
   "cell_type": "code",
   "execution_count": 27,
   "metadata": {},
   "outputs": [
    {
     "name": "stdout",
     "output_type": "stream",
     "text": [
      "RF Model Train MSE: 0.016358273992646385\n",
      "RF Model Test MSE: 0.12262850350577952\n"
     ]
    }
   ],
   "source": [
    "# rf model training score\n",
    "rf_train_mse = mean_squared_error(y_train_pred, y_train)\n",
    "rf_test_mse = mean_squared_error(y_test_pred, y_test)\n",
    "\n",
    "# display train and test mse\n",
    "print(f'RF Model Train MSE: {rf_train_mse}')\n",
    "print(f'RF Model Test MSE: {rf_test_mse}')"
   ]
  },
  {
   "cell_type": "code",
   "execution_count": 28,
   "metadata": {},
   "outputs": [
    {
     "name": "stdout",
     "output_type": "stream",
     "text": [
      "RF Model Train R2: 0.9669196238300526\n",
      "RF Model Test R2: 0.12262850350577952\n"
     ]
    }
   ],
   "source": [
    "# rf model training score\n",
    "rf_train_r2 = r2_score(y_train_pred, y_train)\n",
    "rf_test_r2 = mean_squared_error(y_test_pred, y_test)\n",
    "\n",
    "# display train and test mse\n",
    "print(f'RF Model Train R2: {rf_train_r2}')\n",
    "print(f'RF Model Test R2: {rf_test_r2}')"
   ]
  },
  {
   "cell_type": "markdown",
   "metadata": {},
   "source": [
    "Let's try with more trees this time around."
   ]
  },
  {
   "cell_type": "code",
   "execution_count": 29,
   "metadata": {},
   "outputs": [
    {
     "data": {
      "text/plain": [
       "RandomForestRegressor(max_features='sqrt', n_estimators=500)"
      ]
     },
     "execution_count": 29,
     "metadata": {},
     "output_type": "execute_result"
    }
   ],
   "source": [
    "# create model again this time using m=sqrt(p) and 500 regressor trees\n",
    "rf_model = RandomForestRegressor(n_estimators=500, max_features='sqrt')\n",
    "rf_model.fit(X_train, y_train)"
   ]
  },
  {
   "cell_type": "code",
   "execution_count": 30,
   "metadata": {},
   "outputs": [
    {
     "name": "stdout",
     "output_type": "stream",
     "text": [
      "RF Model Train MSE: 0.016358273992646385\n",
      "RF Model Test MSE: 0.12262850350577952\n"
     ]
    }
   ],
   "source": [
    "# rf model training score\n",
    "rf_train_mse = mean_squared_error(y_train_pred, y_train)\n",
    "rf_test_mse = mean_squared_error(y_test_pred, y_test)\n",
    "\n",
    "# display train and test mse\n",
    "print(f'RF Model Train MSE: {rf_train_mse}')\n",
    "print(f'RF Model Test MSE: {rf_test_mse}')"
   ]
  },
  {
   "cell_type": "code",
   "execution_count": 31,
   "metadata": {},
   "outputs": [
    {
     "name": "stdout",
     "output_type": "stream",
     "text": [
      "RF Model Train R2: 0.9669196238300526\n",
      "RF Model Test R2: 0.12262850350577952\n"
     ]
    }
   ],
   "source": [
    "# rf model training score\n",
    "rf_train_r2 = r2_score(y_train_pred, y_train)\n",
    "rf_test_r2 = mean_squared_error(y_test_pred, y_test)\n",
    "\n",
    "# display train and test mse\n",
    "print(f'RF Model Train R2: {rf_train_r2}')\n",
    "print(f'RF Model Test R2: {rf_test_r2}')"
   ]
  },
  {
   "cell_type": "markdown",
   "metadata": {},
   "source": [
    "Trying with 200 Trees"
   ]
  },
  {
   "cell_type": "code",
   "execution_count": 32,
   "metadata": {},
   "outputs": [
    {
     "data": {
      "text/plain": [
       "RandomForestRegressor(max_features='sqrt', n_estimators=200)"
      ]
     },
     "execution_count": 32,
     "metadata": {},
     "output_type": "execute_result"
    }
   ],
   "source": [
    "# create model again this time using m=sqrt(p)\n",
    "rf_model = RandomForestRegressor(n_estimators=200, max_features='sqrt')\n",
    "rf_model.fit(X_train, y_train)"
   ]
  },
  {
   "cell_type": "code",
   "execution_count": 33,
   "metadata": {},
   "outputs": [
    {
     "name": "stdout",
     "output_type": "stream",
     "text": [
      "RF Model Train MSE: 0.016358273992646385\n",
      "RF Model Test MSE: 0.12262850350577952\n"
     ]
    }
   ],
   "source": [
    "# rf model training score\n",
    "rf_train_mse = mean_squared_error(y_train_pred, y_train)\n",
    "rf_test_mse = mean_squared_error(y_test_pred, y_test)\n",
    "\n",
    "# display train and test mse\n",
    "print(f'RF Model Train MSE: {rf_train_mse}')\n",
    "print(f'RF Model Test MSE: {rf_test_mse}')"
   ]
  },
  {
   "cell_type": "code",
   "execution_count": 34,
   "metadata": {},
   "outputs": [
    {
     "name": "stdout",
     "output_type": "stream",
     "text": [
      "RF Model Train R2: 0.9669196238300526\n",
      "RF Model Test R2: 0.12262850350577952\n"
     ]
    }
   ],
   "source": [
    "# rf model training score\n",
    "rf_train_r2 = r2_score(y_train_pred, y_train)\n",
    "rf_test_r2 = mean_squared_error(y_test_pred, y_test)\n",
    "\n",
    "# display train and test mse\n",
    "print(f'RF Model Train R2: {rf_train_r2}')\n",
    "print(f'RF Model Test R2: {rf_test_r2}')"
   ]
  },
  {
   "cell_type": "markdown",
   "metadata": {},
   "source": [
    "# Trying another grid search with only sqrt(p) features"
   ]
  },
  {
   "cell_type": "code",
   "execution_count": 35,
   "metadata": {},
   "outputs": [],
   "source": [
    "# defining grid search parameters\n",
    "parameters = {'n_estimators':[int(x) for x in np.arange(2000,4000,200)], 'max_depth':[int(x) for x in np.arange(0,11)], 'max_features':['sqrt']}"
   ]
  },
  {
   "cell_type": "code",
   "execution_count": 36,
   "metadata": {},
   "outputs": [
    {
     "name": "stdout",
     "output_type": "stream",
     "text": [
      "Fitting 5 folds for each of 50 candidates, totalling 250 fits\n"
     ]
    },
    {
     "name": "stderr",
     "output_type": "stream",
     "text": [
      "[Parallel(n_jobs=-1)]: Using backend LokyBackend with 12 concurrent workers.\n",
      "[Parallel(n_jobs=-1)]: Done   1 tasks      | elapsed:    3.9s\n",
      "[Parallel(n_jobs=-1)]: Done   8 tasks      | elapsed:   10.2s\n",
      "[Parallel(n_jobs=-1)]: Done  17 tasks      | elapsed:  1.2min\n",
      "[Parallel(n_jobs=-1)]: Done  26 tasks      | elapsed:  1.5min\n",
      "[Parallel(n_jobs=-1)]: Done  37 tasks      | elapsed:  2.1min\n",
      "[Parallel(n_jobs=-1)]: Done  48 tasks      | elapsed:  3.1min\n",
      "[Parallel(n_jobs=-1)]: Done  61 tasks      | elapsed:  3.4min\n",
      "[Parallel(n_jobs=-1)]: Done  74 tasks      | elapsed:  4.1min\n",
      "[Parallel(n_jobs=-1)]: Done  89 tasks      | elapsed:  5.1min\n",
      "[Parallel(n_jobs=-1)]: Done 104 tasks      | elapsed:  5.9min\n",
      "[Parallel(n_jobs=-1)]: Done 121 tasks      | elapsed:  6.5min\n",
      "[Parallel(n_jobs=-1)]: Done 138 tasks      | elapsed:  7.2min\n",
      "[Parallel(n_jobs=-1)]: Done 157 tasks      | elapsed:  8.3min\n",
      "[Parallel(n_jobs=-1)]: Done 176 tasks      | elapsed:  9.4min\n",
      "[Parallel(n_jobs=-1)]: Done 197 tasks      | elapsed: 10.2min\n",
      "[Parallel(n_jobs=-1)]: Done 218 tasks      | elapsed: 10.7min\n",
      "[Parallel(n_jobs=-1)]: Done 250 out of 250 | elapsed: 12.4min finished\n"
     ]
    },
    {
     "name": "stdout",
     "output_type": "stream",
     "text": [
      "Wall time: 13min 10s\n"
     ]
    },
    {
     "data": {
      "text/plain": [
       "RandomizedSearchCV(cv=5, estimator=RandomForestRegressor(), n_iter=50,\n",
       "                   n_jobs=-1,\n",
       "                   param_distributions={'max_depth': [0, 1, 2, 3, 4, 5, 6, 7, 8,\n",
       "                                                      9, 10],\n",
       "                                        'max_features': ['sqrt'],\n",
       "                                        'n_estimators': [2000, 2200, 2400, 2600,\n",
       "                                                         2800, 3000, 3200, 3400,\n",
       "                                                         3600, 3800]},\n",
       "                   random_state=42, verbose=10)"
      ]
     },
     "execution_count": 36,
     "metadata": {},
     "output_type": "execute_result"
    }
   ],
   "source": [
    "%%time\n",
    "# create model\n",
    "rf_model = RandomForestRegressor()\n",
    "\n",
    "rf_random = RandomizedSearchCV(rf_model, parameters,n_iter=50, cv = 5, random_state=42, n_jobs=-1, verbose=10)\n",
    "\n",
    "rf_random.fit(X_train,y_train)"
   ]
  },
  {
   "cell_type": "code",
   "execution_count": 37,
   "metadata": {},
   "outputs": [
    {
     "data": {
      "text/plain": [
       "{'n_estimators': 3600, 'max_features': 'sqrt', 'max_depth': 10}"
      ]
     },
     "execution_count": 37,
     "metadata": {},
     "output_type": "execute_result"
    }
   ],
   "source": [
    "# display best parameters for random forest regressor\n",
    "rf_random.best_params_"
   ]
  },
  {
   "cell_type": "code",
   "execution_count": 38,
   "metadata": {},
   "outputs": [
    {
     "data": {
      "text/plain": [
       "RandomForestRegressor(max_depth=10, max_features='sqrt', n_estimators=3600)"
      ]
     },
     "execution_count": 38,
     "metadata": {},
     "output_type": "execute_result"
    }
   ],
   "source": [
    "# create model again this time using {'max_depth': 10, 'max_features': 'sqrt', 'n_estimators': 3600} from the grid search\n",
    "rf_model = RandomForestRegressor(n_estimators=3600, max_features='sqrt', max_depth=10)\n",
    "rf_model.fit(X_train, y_train)"
   ]
  },
  {
   "cell_type": "code",
   "execution_count": 39,
   "metadata": {},
   "outputs": [],
   "source": [
    "# creating y predictions for training and test data\n",
    "y_train_pred = rf_model.predict(X_train)\n",
    "y_test_pred = rf_model.predict(X_test)"
   ]
  },
  {
   "cell_type": "code",
   "execution_count": 40,
   "metadata": {},
   "outputs": [
    {
     "name": "stdout",
     "output_type": "stream",
     "text": [
      "RF Model Train MSE: 0.17961789352897967\n",
      "RF Model Test MSE: 0.20225153692274275\n"
     ]
    }
   ],
   "source": [
    "# rf model training score\n",
    "rf_train_mse = mean_squared_error(y_train_pred, y_train)\n",
    "rf_test_mse = mean_squared_error(y_test_pred, y_test)\n",
    "\n",
    "# display train and test mse\n",
    "print(f'RF Model Train MSE: {rf_train_mse}')\n",
    "print(f'RF Model Test MSE: {rf_test_mse}')"
   ]
  },
  {
   "cell_type": "code",
   "execution_count": 41,
   "metadata": {},
   "outputs": [
    {
     "name": "stdout",
     "output_type": "stream",
     "text": [
      "RF Model Train R2: 0.2150654260162994\n",
      "RF Model Test R2: 0.20225153692274275\n"
     ]
    }
   ],
   "source": [
    "# rf model training score\n",
    "rf_train_r2 = r2_score(y_train_pred, y_train)\n",
    "rf_test_r2 = mean_squared_error(y_test_pred, y_test)\n",
    "\n",
    "# display train and test mse\n",
    "print(f'RF Model Train R2: {rf_train_r2}')\n",
    "print(f'RF Model Test R2: {rf_test_r2}')"
   ]
  },
  {
   "cell_type": "markdown",
   "metadata": {},
   "source": [
    "The R2 score for the random forest regressor algorithm is low when evaluating the test set. Move on to trying AdaBoost and Gradient Boosting algorithms."
   ]
  },
  {
   "cell_type": "markdown",
   "metadata": {},
   "source": [
    "# AdaBoost Regressor"
   ]
  },
  {
   "cell_type": "code",
   "execution_count": 42,
   "metadata": {},
   "outputs": [
    {
     "data": {
      "text/plain": [
       "AdaBoostRegressor()"
      ]
     },
     "execution_count": 42,
     "metadata": {},
     "output_type": "execute_result"
    }
   ],
   "source": [
    "# creating and fitting adaboost model\n",
    "ab_model1 = AdaBoostRegressor()\n",
    "ab_model1.fit(X_train,y_train)"
   ]
  },
  {
   "cell_type": "code",
   "execution_count": 43,
   "metadata": {},
   "outputs": [],
   "source": [
    "# finding y^ for train and test\n",
    "ab_y_train_pred1 = ab_model1.predict(X_train)\n",
    "ab_y_test_pred1 = ab_model1.predict(X_test)"
   ]
  },
  {
   "cell_type": "code",
   "execution_count": 44,
   "metadata": {},
   "outputs": [
    {
     "name": "stdout",
     "output_type": "stream",
     "text": [
      "AB Model Train MSE: 0.24503291539581498\n",
      "AB Model Test MSE: 0.25577657332965764\n",
      "AB Model Train R2: 0.5872390977154249\n",
      "AB Model Test R2: 0.5801614599424069\n"
     ]
    }
   ],
   "source": [
    "# calculating MSE and R2 scores for train and test\n",
    "ab_train_mse1 = mean_squared_error(y_train, ab_y_train_pred1)\n",
    "ab_test_mse1 = mean_squared_error(y_test, ab_y_test_pred1)\n",
    "\n",
    "ab_train_r21 = r2_score(y_train, ab_y_train_pred1)\n",
    "ab_test_r21 = r2_score(y_test, ab_y_test_pred1)\n",
    "\n",
    "# display MSE and R2 scores\n",
    "print(f'AB Model Train MSE: {ab_train_mse1}')\n",
    "print(f'AB Model Test MSE: {ab_test_mse1}')\n",
    "\n",
    "print(f'AB Model Train R2: {ab_train_r21}')\n",
    "print(f'AB Model Test R2: {ab_test_r21}')"
   ]
  },
  {
   "cell_type": "markdown",
   "metadata": {},
   "source": [
    "This does better than the random forest regressor so let's try tuning this model.\n",
    "\n",
    "Let's try tuning our hyper parameters with a randomized grid search."
   ]
  },
  {
   "cell_type": "code",
   "execution_count": 45,
   "metadata": {},
   "outputs": [],
   "source": [
    "# defining grid search parameters\n",
    "parameters = {'n_estimators':[int(x) for x in np.arange(50,500,50)], 'learning_rate': [0.001, 0.01, 0.1]}"
   ]
  },
  {
   "cell_type": "code",
   "execution_count": 46,
   "metadata": {},
   "outputs": [
    {
     "name": "stdout",
     "output_type": "stream",
     "text": [
      "Fitting 5 folds for each of 27 candidates, totalling 135 fits\n"
     ]
    },
    {
     "name": "stderr",
     "output_type": "stream",
     "text": [
      "C:\\Users\\s64wa\\anaconda3\\lib\\site-packages\\sklearn\\model_selection\\_search.py:278: UserWarning: The total space of parameters 27 is smaller than n_iter=50. Running 27 iterations. For exhaustive searches, use GridSearchCV.\n",
      "  warnings.warn(\n",
      "[Parallel(n_jobs=-1)]: Using backend LokyBackend with 12 concurrent workers.\n",
      "[Parallel(n_jobs=-1)]: Done   1 tasks      | elapsed:   20.4s\n",
      "[Parallel(n_jobs=-1)]: Done   8 tasks      | elapsed:   43.1s\n",
      "[Parallel(n_jobs=-1)]: Done  17 tasks      | elapsed:  1.8min\n",
      "[Parallel(n_jobs=-1)]: Done  26 tasks      | elapsed:  3.4min\n",
      "[Parallel(n_jobs=-1)]: Done  37 tasks      | elapsed:  5.5min\n",
      "[Parallel(n_jobs=-1)]: Done  48 tasks      | elapsed:  6.5min\n",
      "[Parallel(n_jobs=-1)]: Done  61 tasks      | elapsed:  7.9min\n",
      "[Parallel(n_jobs=-1)]: Done  74 tasks      | elapsed: 10.3min\n",
      "[Parallel(n_jobs=-1)]: Done  89 tasks      | elapsed: 12.5min\n",
      "[Parallel(n_jobs=-1)]: Done 104 tasks      | elapsed: 14.1min\n",
      "[Parallel(n_jobs=-1)]: Done 126 out of 135 | elapsed: 17.4min remaining:  1.2min\n",
      "[Parallel(n_jobs=-1)]: Done 135 out of 135 | elapsed: 18.0min finished\n"
     ]
    },
    {
     "name": "stdout",
     "output_type": "stream",
     "text": [
      "Wall time: 18min 3s\n"
     ]
    },
    {
     "data": {
      "text/plain": [
       "RandomizedSearchCV(cv=5, estimator=AdaBoostRegressor(), n_iter=50, n_jobs=-1,\n",
       "                   param_distributions={'learning_rate': [0.001, 0.01, 0.1],\n",
       "                                        'n_estimators': [50, 100, 150, 200, 250,\n",
       "                                                         300, 350, 400, 450]},\n",
       "                   random_state=42, verbose=10)"
      ]
     },
     "execution_count": 46,
     "metadata": {},
     "output_type": "execute_result"
    }
   ],
   "source": [
    "%%time\n",
    "# create model\n",
    "ab_model = AdaBoostRegressor()\n",
    "\n",
    "ab_random = RandomizedSearchCV(ab_model, parameters,n_iter=50, cv = 5, random_state=42, n_jobs=-1, verbose=10)\n",
    "\n",
    "ab_random.fit(X_train,y_train)"
   ]
  },
  {
   "cell_type": "code",
   "execution_count": 47,
   "metadata": {},
   "outputs": [
    {
     "data": {
      "text/plain": [
       "{'n_estimators': 50, 'learning_rate': 0.1}"
      ]
     },
     "execution_count": 47,
     "metadata": {},
     "output_type": "execute_result"
    }
   ],
   "source": [
    "# displaying best parametesr\n",
    "ab_random.best_params_"
   ]
  },
  {
   "cell_type": "code",
   "execution_count": 48,
   "metadata": {},
   "outputs": [
    {
     "data": {
      "text/plain": [
       "AdaBoostRegressor(n_estimators=100)"
      ]
     },
     "execution_count": 48,
     "metadata": {},
     "output_type": "execute_result"
    }
   ],
   "source": [
    "# fitting a new adaboost model with the parameters found above (n_estimators = 100)\n",
    "ab_model2 = AdaBoostRegressor(n_estimators=100)\n",
    "ab_model2.fit(X_train,y_train)"
   ]
  },
  {
   "cell_type": "code",
   "execution_count": 49,
   "metadata": {},
   "outputs": [],
   "source": [
    "# finding y^ for train and test\n",
    "ab_y_train_pred2 = ab_model2.predict(X_train)\n",
    "ab_y_test_pred2 = ab_model2.predict(X_test)"
   ]
  },
  {
   "cell_type": "code",
   "execution_count": 50,
   "metadata": {},
   "outputs": [
    {
     "name": "stdout",
     "output_type": "stream",
     "text": [
      "AB Model Train MSE: 0.24470788080565936\n",
      "AB Model Test MSE: 0.2555989390547531\n",
      "AB Model Train R2: 0.5877866224040555\n",
      "AB Model Test R2: 0.5804530336141831\n"
     ]
    }
   ],
   "source": [
    "# calculating MSE and R2 scores for train and test\n",
    "ab_train_mse2 = mean_squared_error(y_train, ab_y_train_pred2)\n",
    "ab_test_mse2 = mean_squared_error(y_test, ab_y_test_pred2)\n",
    "\n",
    "ab_train_r22 = r2_score(y_train, ab_y_train_pred2)\n",
    "ab_test_r22 = r2_score(y_test, ab_y_test_pred2)\n",
    "\n",
    "# display MSE and R2 scores\n",
    "print(f'AB Model Train MSE: {ab_train_mse2}')\n",
    "print(f'AB Model Test MSE: {ab_test_mse2}')\n",
    "\n",
    "print(f'AB Model Train R2: {ab_train_r22}')\n",
    "print(f'AB Model Test R2: {ab_test_r22}')"
   ]
  },
  {
   "cell_type": "markdown",
   "metadata": {},
   "source": [
    "After tuning, our best model returns an MSE of about 0.245 and an R2 score of 0.585. Let's try the gradient boosting model to see if it does better."
   ]
  },
  {
   "cell_type": "markdown",
   "metadata": {},
   "source": [
    "# Gradient Boosting Regressor"
   ]
  },
  {
   "cell_type": "code",
   "execution_count": 52,
   "metadata": {},
   "outputs": [
    {
     "data": {
      "text/plain": [
       "GradientBoostingRegressor()"
      ]
     },
     "execution_count": 52,
     "metadata": {},
     "output_type": "execute_result"
    }
   ],
   "source": [
    "# creating a gradient boosting regressor\n",
    "gb_model1 = GradientBoostingRegressor()\n",
    "\n",
    "# fitting the model\n",
    "gb_model1.fit(X_train,y_train)"
   ]
  },
  {
   "cell_type": "code",
   "execution_count": 61,
   "metadata": {},
   "outputs": [],
   "source": [
    "# finding y^ for train and test\n",
    "gb_y_train_pred1 = gb_model1.predict(X_train)\n",
    "gb_y_test_pred1 = gb_model1.predict(X_test)"
   ]
  },
  {
   "cell_type": "code",
   "execution_count": 62,
   "metadata": {},
   "outputs": [
    {
     "name": "stdout",
     "output_type": "stream",
     "text": [
      "GB Model Train MSE: 0.13026160586042831\n",
      "GB Model Test MSE: 0.14332188611048433\n",
      "GB Model Train R2: 0.7805727533334226\n",
      "GB Model Test R2: 0.7647476051476629\n"
     ]
    }
   ],
   "source": [
    "# calculating MSE and R2 scores for train and test\n",
    "gb_train_mse1 = mean_squared_error(y_train, gb_y_train_pred1)\n",
    "gb_test_mse1 = mean_squared_error(y_test, gb_y_test_pred1)\n",
    "\n",
    "gb_train_r21 = r2_score(y_train, gb_y_train_pred1)\n",
    "gb_test_r21 = r2_score(y_test, gb_y_test_pred1)\n",
    "\n",
    "# display MSE and R2 scores\n",
    "print(f'GB Model Train MSE: {gb_train_mse1}')\n",
    "print(f'GB Model Test MSE: {gb_test_mse1}')\n",
    "\n",
    "print(f'GB Model Train R2: {gb_train_r21}')\n",
    "print(f'GB Model Test R2: {gb_test_r21}')"
   ]
  },
  {
   "cell_type": "markdown",
   "metadata": {},
   "source": [
    "The gradient boosting regressor does better than the adaboost and random forest regressor model. Let's try tuning our hyper parameters to improve it."
   ]
  },
  {
   "cell_type": "code",
   "execution_count": 63,
   "metadata": {},
   "outputs": [],
   "source": [
    "# defining grid search parameters\n",
    "parameters = {'n_estimators':[int(x) for x in np.arange(50,750,50)], 'learning_rate': [0.001, 0.01, 0.1], 'max_depth': [1,2,3]}"
   ]
  },
  {
   "cell_type": "code",
   "execution_count": 64,
   "metadata": {},
   "outputs": [
    {
     "name": "stdout",
     "output_type": "stream",
     "text": [
      "Fitting 5 folds for each of 126 candidates, totalling 630 fits\n"
     ]
    },
    {
     "name": "stderr",
     "output_type": "stream",
     "text": [
      "[Parallel(n_jobs=-1)]: Using backend LokyBackend with 12 concurrent workers.\n",
      "[Parallel(n_jobs=-1)]: Done   1 tasks      | elapsed:    3.3s\n",
      "[Parallel(n_jobs=-1)]: Done   8 tasks      | elapsed:    4.8s\n",
      "[Parallel(n_jobs=-1)]: Done  17 tasks      | elapsed:    9.2s\n",
      "[Parallel(n_jobs=-1)]: Done  26 tasks      | elapsed:   15.5s\n",
      "[Parallel(n_jobs=-1)]: Done  37 tasks      | elapsed:   24.5s\n",
      "[Parallel(n_jobs=-1)]: Done  48 tasks      | elapsed:   36.5s\n",
      "[Parallel(n_jobs=-1)]: Done  61 tasks      | elapsed:   53.2s\n",
      "[Parallel(n_jobs=-1)]: Done  74 tasks      | elapsed:  1.0min\n",
      "[Parallel(n_jobs=-1)]: Done  89 tasks      | elapsed:  1.2min\n",
      "[Parallel(n_jobs=-1)]: Done 104 tasks      | elapsed:  1.6min\n",
      "[Parallel(n_jobs=-1)]: Done 121 tasks      | elapsed:  2.3min\n",
      "[Parallel(n_jobs=-1)]: Done 138 tasks      | elapsed:  2.8min\n",
      "[Parallel(n_jobs=-1)]: Done 157 tasks      | elapsed:  3.2min\n",
      "[Parallel(n_jobs=-1)]: Done 176 tasks      | elapsed:  4.0min\n",
      "[Parallel(n_jobs=-1)]: Done 197 tasks      | elapsed:  5.3min\n",
      "[Parallel(n_jobs=-1)]: Done 218 tasks      | elapsed:  5.8min\n",
      "[Parallel(n_jobs=-1)]: Done 241 tasks      | elapsed:  6.2min\n",
      "[Parallel(n_jobs=-1)]: Done 264 tasks      | elapsed:  6.6min\n",
      "[Parallel(n_jobs=-1)]: Done 289 tasks      | elapsed:  7.0min\n",
      "[Parallel(n_jobs=-1)]: Done 314 tasks      | elapsed:  7.5min\n",
      "[Parallel(n_jobs=-1)]: Done 341 tasks      | elapsed:  8.6min\n",
      "[Parallel(n_jobs=-1)]: Done 368 tasks      | elapsed:  9.1min\n",
      "[Parallel(n_jobs=-1)]: Done 397 tasks      | elapsed: 10.5min\n",
      "[Parallel(n_jobs=-1)]: Done 426 tasks      | elapsed: 11.6min\n",
      "[Parallel(n_jobs=-1)]: Done 457 tasks      | elapsed: 12.1min\n",
      "[Parallel(n_jobs=-1)]: Done 488 tasks      | elapsed: 12.7min\n",
      "[Parallel(n_jobs=-1)]: Done 521 tasks      | elapsed: 13.3min\n",
      "[Parallel(n_jobs=-1)]: Done 554 tasks      | elapsed: 14.5min\n",
      "[Parallel(n_jobs=-1)]: Done 589 tasks      | elapsed: 15.4min\n",
      "[Parallel(n_jobs=-1)]: Done 630 out of 630 | elapsed: 17.7min finished\n"
     ]
    },
    {
     "name": "stdout",
     "output_type": "stream",
     "text": [
      "Wall time: 18min 16s\n"
     ]
    },
    {
     "data": {
      "text/plain": [
       "GridSearchCV(cv=5, estimator=GradientBoostingRegressor(), n_jobs=-1,\n",
       "             param_grid={'learning_rate': [0.001, 0.01, 0.1],\n",
       "                         'max_depth': [1, 2, 3],\n",
       "                         'n_estimators': [50, 100, 150, 200, 250, 300, 350, 400,\n",
       "                                          450, 500, 550, 600, 650, 700]},\n",
       "             verbose=10)"
      ]
     },
     "execution_count": 64,
     "metadata": {},
     "output_type": "execute_result"
    }
   ],
   "source": [
    "%%time\n",
    "# create model\n",
    "gb_model = GradientBoostingRegressor()\n",
    "\n",
    "gb_random = GridSearchCV(gb_model, parameters, cv = 5, n_jobs=-1, verbose=10)\n",
    "\n",
    "gb_random.fit(X_train,y_train)"
   ]
  },
  {
   "cell_type": "code",
   "execution_count": 65,
   "metadata": {},
   "outputs": [
    {
     "data": {
      "text/plain": [
       "{'learning_rate': 0.1, 'max_depth': 3, 'n_estimators': 700}"
      ]
     },
     "execution_count": 65,
     "metadata": {},
     "output_type": "execute_result"
    }
   ],
   "source": [
    "# displaying the best parameters, it seems like the best learning rate is about\n",
    "gb_random.best_params_"
   ]
  },
  {
   "cell_type": "code",
   "execution_count": 66,
   "metadata": {},
   "outputs": [
    {
     "data": {
      "text/plain": [
       "GradientBoostingRegressor(n_estimators=450)"
      ]
     },
     "execution_count": 66,
     "metadata": {},
     "output_type": "execute_result"
    }
   ],
   "source": [
    "# creating a new gradient boosting regressor with the parameters found above\n",
    "gb_model2 = GradientBoostingRegressor(n_estimators=450, learning_rate=0.1)\n",
    "gb_model2.fit(X_train,y_train)"
   ]
  },
  {
   "cell_type": "code",
   "execution_count": 67,
   "metadata": {},
   "outputs": [],
   "source": [
    "# finding y^ for train and test\n",
    "gb_y_train_pred2 = gb_model2.predict(X_train)\n",
    "gb_y_test_pred2 = gb_model2.predict(X_test)"
   ]
  },
  {
   "cell_type": "code",
   "execution_count": 68,
   "metadata": {},
   "outputs": [
    {
     "name": "stdout",
     "output_type": "stream",
     "text": [
      "GB Model Train MSE: 0.10275060459001258\n",
      "GB Model Test MSE: 0.12243594068740844\n",
      "GB Model Train R2: 0.8269153668912207\n",
      "GB Model Test R2: 0.799030357160472\n"
     ]
    }
   ],
   "source": [
    "# calculating MSE and R2 scores for train and test\n",
    "gb_train_mse2 = mean_squared_error(y_train, gb_y_train_pred2)\n",
    "gb_test_mse2 = mean_squared_error(y_test, gb_y_test_pred2)\n",
    "\n",
    "gb_train_r22 = r2_score(y_train, gb_y_train_pred2)\n",
    "gb_test_r22 = r2_score(y_test, gb_y_test_pred2)\n",
    "\n",
    "# display MSE and R2 scores\n",
    "print(f'GB Model Train MSE: {gb_train_mse2}')\n",
    "print(f'GB Model Test MSE: {gb_test_mse2}')\n",
    "\n",
    "print(f'GB Model Train R2: {gb_train_r22}')\n",
    "print(f'GB Model Test R2: {gb_test_r22}')"
   ]
  },
  {
   "cell_type": "markdown",
   "metadata": {},
   "source": [
    "# Gradient Boosting Tuning Part 2"
   ]
  },
  {
   "cell_type": "code",
   "execution_count": 69,
   "metadata": {},
   "outputs": [],
   "source": [
    "# defining grid search parameters\n",
    "parameters = {'n_estimators':[int(x) for x in np.arange(400,750,50)], 'learning_rate': [0.01, 0.1], 'max_depth': [1,2,3]}"
   ]
  },
  {
   "cell_type": "code",
   "execution_count": 70,
   "metadata": {},
   "outputs": [
    {
     "name": "stdout",
     "output_type": "stream",
     "text": [
      "Fitting 5 folds for each of 42 candidates, totalling 210 fits\n"
     ]
    },
    {
     "name": "stderr",
     "output_type": "stream",
     "text": [
      "[Parallel(n_jobs=-1)]: Using backend LokyBackend with 12 concurrent workers.\n",
      "[Parallel(n_jobs=-1)]: Done   1 tasks      | elapsed:    9.7s\n",
      "[Parallel(n_jobs=-1)]: Done   8 tasks      | elapsed:   11.4s\n",
      "[Parallel(n_jobs=-1)]: Done  17 tasks      | elapsed:   24.7s\n",
      "[Parallel(n_jobs=-1)]: Done  26 tasks      | elapsed:   40.5s\n",
      "[Parallel(n_jobs=-1)]: Done  37 tasks      | elapsed:  1.0min\n",
      "[Parallel(n_jobs=-1)]: Done  48 tasks      | elapsed:  1.4min\n",
      "[Parallel(n_jobs=-1)]: Done  61 tasks      | elapsed:  2.2min\n",
      "[Parallel(n_jobs=-1)]: Done  74 tasks      | elapsed:  2.9min\n",
      "[Parallel(n_jobs=-1)]: Done  89 tasks      | elapsed:  4.0min\n",
      "[Parallel(n_jobs=-1)]: Done 104 tasks      | elapsed:  4.8min\n",
      "[Parallel(n_jobs=-1)]: Done 121 tasks      | elapsed:  5.2min\n",
      "[Parallel(n_jobs=-1)]: Done 138 tasks      | elapsed:  5.7min\n",
      "[Parallel(n_jobs=-1)]: Done 157 tasks      | elapsed:  6.5min\n",
      "[Parallel(n_jobs=-1)]: Done 176 tasks      | elapsed:  7.5min\n",
      "[Parallel(n_jobs=-1)]: Done 210 out of 210 | elapsed:  9.7min finished\n"
     ]
    },
    {
     "name": "stdout",
     "output_type": "stream",
     "text": [
      "Wall time: 10min 18s\n"
     ]
    },
    {
     "data": {
      "text/plain": [
       "GridSearchCV(cv=5, estimator=GradientBoostingRegressor(), n_jobs=-1,\n",
       "             param_grid={'learning_rate': [0.01, 0.1], 'max_depth': [1, 2, 3],\n",
       "                         'n_estimators': [400, 450, 500, 550, 600, 650, 700]},\n",
       "             verbose=10)"
      ]
     },
     "execution_count": 70,
     "metadata": {},
     "output_type": "execute_result"
    }
   ],
   "source": [
    "%%time\n",
    "# create model\n",
    "gb_model = GradientBoostingRegressor()\n",
    "\n",
    "gb_random = GridSearchCV(gb_model, parameters, cv = 5, n_jobs=-1, verbose=10)\n",
    "\n",
    "gb_random.fit(X_train,y_train)"
   ]
  },
  {
   "cell_type": "code",
   "execution_count": 71,
   "metadata": {},
   "outputs": [
    {
     "data": {
      "text/plain": [
       "{'learning_rate': 0.1, 'max_depth': 3, 'n_estimators': 700}"
      ]
     },
     "execution_count": 71,
     "metadata": {},
     "output_type": "execute_result"
    }
   ],
   "source": [
    "# displaying new best parameters\n",
    "gb_random.best_params_"
   ]
  },
  {
   "cell_type": "code",
   "execution_count": 72,
   "metadata": {},
   "outputs": [
    {
     "data": {
      "text/plain": [
       "GradientBoostingRegressor(n_estimators=700)"
      ]
     },
     "execution_count": 72,
     "metadata": {},
     "output_type": "execute_result"
    }
   ],
   "source": [
    "# Trying model 3 w/ new parameters\n",
    "gb_model3 = GradientBoostingRegressor(n_estimators=700, learning_rate=0.1)\n",
    "gb_model3.fit(X_train,y_train)"
   ]
  },
  {
   "cell_type": "code",
   "execution_count": 73,
   "metadata": {},
   "outputs": [],
   "source": [
    "# finding y^ for train and test\n",
    "gb_y_train_pred3 = gb_model3.predict(X_train)\n",
    "gb_y_test_pred3 = gb_model3.predict(X_test)"
   ]
  },
  {
   "cell_type": "code",
   "execution_count": 74,
   "metadata": {},
   "outputs": [
    {
     "name": "stdout",
     "output_type": "stream",
     "text": [
      "GB Model Train MSE: 0.09380170225828412\n",
      "GB Model Test MSE: 0.11813565863624838\n",
      "GB Model Train R2: 0.8419899008367278\n",
      "GB Model Test R2: 0.8060889556657698\n"
     ]
    }
   ],
   "source": [
    "# calculating MSE and R2 scores for train and test\n",
    "gb_train_mse3 = mean_squared_error(y_train, gb_y_train_pred3)\n",
    "gb_test_mse3 = mean_squared_error(y_test, gb_y_test_pred3)\n",
    "\n",
    "gb_train_r23 = r2_score(y_train, gb_y_train_pred3)\n",
    "gb_test_r23 = r2_score(y_test, gb_y_test_pred3)\n",
    "\n",
    "# display MSE and R2 scores\n",
    "print(f'GB Model Train MSE: {gb_train_mse3}')\n",
    "print(f'GB Model Test MSE: {gb_test_mse3}')\n",
    "\n",
    "print(f'GB Model Train R2: {gb_train_r23}')\n",
    "print(f'GB Model Test R2: {gb_test_r23}')"
   ]
  },
  {
   "cell_type": "markdown",
   "metadata": {},
   "source": [
    "## Gradient Boosting Model Tuning Part 3"
   ]
  },
  {
   "cell_type": "code",
   "execution_count": 75,
   "metadata": {},
   "outputs": [
    {
     "name": "stdout",
     "output_type": "stream",
     "text": [
      "400\n"
     ]
    },
    {
     "name": "stderr",
     "output_type": "stream",
     "text": [
      "[Parallel(n_jobs=-1)]: Using backend LokyBackend with 12 concurrent workers.\n",
      "[Parallel(n_jobs=-1)]: Done   2 out of   5 | elapsed:    6.5s remaining:    9.9s\n",
      "[Parallel(n_jobs=-1)]: Done   3 out of   5 | elapsed:    6.6s remaining:    4.4s\n",
      "[Parallel(n_jobs=-1)]: Done   5 out of   5 | elapsed:    6.6s remaining:    0.0s\n",
      "[Parallel(n_jobs=-1)]: Done   5 out of   5 | elapsed:    6.6s finished\n"
     ]
    },
    {
     "name": "stdout",
     "output_type": "stream",
     "text": [
      "450\n"
     ]
    },
    {
     "name": "stderr",
     "output_type": "stream",
     "text": [
      "[Parallel(n_jobs=-1)]: Using backend LokyBackend with 12 concurrent workers.\n",
      "[Parallel(n_jobs=-1)]: Done   2 out of   5 | elapsed:    7.3s remaining:   11.0s\n",
      "[Parallel(n_jobs=-1)]: Done   3 out of   5 | elapsed:    7.3s remaining:    4.8s\n",
      "[Parallel(n_jobs=-1)]: Done   5 out of   5 | elapsed:    7.3s remaining:    0.0s\n",
      "[Parallel(n_jobs=-1)]: Done   5 out of   5 | elapsed:    7.3s finished\n",
      "[Parallel(n_jobs=-1)]: Using backend LokyBackend with 12 concurrent workers.\n"
     ]
    },
    {
     "name": "stdout",
     "output_type": "stream",
     "text": [
      "500\n"
     ]
    },
    {
     "name": "stderr",
     "output_type": "stream",
     "text": [
      "[Parallel(n_jobs=-1)]: Done   2 out of   5 | elapsed:    7.9s remaining:   12.0s\n",
      "[Parallel(n_jobs=-1)]: Done   3 out of   5 | elapsed:    8.0s remaining:    5.3s\n",
      "[Parallel(n_jobs=-1)]: Done   5 out of   5 | elapsed:    8.0s remaining:    0.0s\n",
      "[Parallel(n_jobs=-1)]: Done   5 out of   5 | elapsed:    8.0s finished\n",
      "[Parallel(n_jobs=-1)]: Using backend LokyBackend with 12 concurrent workers.\n"
     ]
    },
    {
     "name": "stdout",
     "output_type": "stream",
     "text": [
      "550\n"
     ]
    },
    {
     "name": "stderr",
     "output_type": "stream",
     "text": [
      "[Parallel(n_jobs=-1)]: Done   2 out of   5 | elapsed:    9.1s remaining:   13.7s\n",
      "[Parallel(n_jobs=-1)]: Done   3 out of   5 | elapsed:    9.2s remaining:    6.1s\n",
      "[Parallel(n_jobs=-1)]: Done   5 out of   5 | elapsed:    9.2s remaining:    0.0s\n",
      "[Parallel(n_jobs=-1)]: Done   5 out of   5 | elapsed:    9.2s finished\n"
     ]
    },
    {
     "name": "stdout",
     "output_type": "stream",
     "text": [
      "600\n"
     ]
    },
    {
     "name": "stderr",
     "output_type": "stream",
     "text": [
      "[Parallel(n_jobs=-1)]: Using backend LokyBackend with 12 concurrent workers.\n",
      "[Parallel(n_jobs=-1)]: Done   2 out of   5 | elapsed:   10.2s remaining:   15.3s\n",
      "[Parallel(n_jobs=-1)]: Done   3 out of   5 | elapsed:   10.2s remaining:    6.8s\n",
      "[Parallel(n_jobs=-1)]: Done   5 out of   5 | elapsed:   10.3s remaining:    0.0s\n",
      "[Parallel(n_jobs=-1)]: Done   5 out of   5 | elapsed:   10.3s finished\n"
     ]
    },
    {
     "name": "stdout",
     "output_type": "stream",
     "text": [
      "650\n"
     ]
    },
    {
     "name": "stderr",
     "output_type": "stream",
     "text": [
      "[Parallel(n_jobs=-1)]: Using backend LokyBackend with 12 concurrent workers.\n",
      "[Parallel(n_jobs=-1)]: Done   2 out of   5 | elapsed:   11.6s remaining:   17.4s\n",
      "[Parallel(n_jobs=-1)]: Done   3 out of   5 | elapsed:   11.6s remaining:    7.7s\n",
      "[Parallel(n_jobs=-1)]: Done   5 out of   5 | elapsed:   11.7s remaining:    0.0s\n",
      "[Parallel(n_jobs=-1)]: Done   5 out of   5 | elapsed:   11.7s finished\n"
     ]
    },
    {
     "name": "stdout",
     "output_type": "stream",
     "text": [
      "700\n"
     ]
    },
    {
     "name": "stderr",
     "output_type": "stream",
     "text": [
      "[Parallel(n_jobs=-1)]: Using backend LokyBackend with 12 concurrent workers.\n",
      "[Parallel(n_jobs=-1)]: Done   2 out of   5 | elapsed:   11.5s remaining:   17.2s\n",
      "[Parallel(n_jobs=-1)]: Done   3 out of   5 | elapsed:   11.5s remaining:    7.6s\n",
      "[Parallel(n_jobs=-1)]: Done   5 out of   5 | elapsed:   11.5s remaining:    0.0s\n",
      "[Parallel(n_jobs=-1)]: Done   5 out of   5 | elapsed:   11.5s finished\n",
      "[Parallel(n_jobs=-1)]: Using backend LokyBackend with 12 concurrent workers.\n"
     ]
    },
    {
     "name": "stdout",
     "output_type": "stream",
     "text": [
      "750\n"
     ]
    },
    {
     "name": "stderr",
     "output_type": "stream",
     "text": [
      "[Parallel(n_jobs=-1)]: Done   2 out of   5 | elapsed:   11.7s remaining:   17.7s\n",
      "[Parallel(n_jobs=-1)]: Done   3 out of   5 | elapsed:   11.8s remaining:    7.9s\n",
      "[Parallel(n_jobs=-1)]: Done   5 out of   5 | elapsed:   12.0s remaining:    0.0s\n",
      "[Parallel(n_jobs=-1)]: Done   5 out of   5 | elapsed:   12.0s finished\n",
      "[Parallel(n_jobs=-1)]: Using backend LokyBackend with 12 concurrent workers.\n"
     ]
    },
    {
     "name": "stdout",
     "output_type": "stream",
     "text": [
      "800\n"
     ]
    },
    {
     "name": "stderr",
     "output_type": "stream",
     "text": [
      "[Parallel(n_jobs=-1)]: Done   2 out of   5 | elapsed:   12.8s remaining:   19.3s\n",
      "[Parallel(n_jobs=-1)]: Done   3 out of   5 | elapsed:   12.9s remaining:    8.6s\n",
      "[Parallel(n_jobs=-1)]: Done   5 out of   5 | elapsed:   12.9s remaining:    0.0s\n",
      "[Parallel(n_jobs=-1)]: Done   5 out of   5 | elapsed:   12.9s finished\n"
     ]
    },
    {
     "name": "stdout",
     "output_type": "stream",
     "text": [
      "850\n"
     ]
    },
    {
     "name": "stderr",
     "output_type": "stream",
     "text": [
      "[Parallel(n_jobs=-1)]: Using backend LokyBackend with 12 concurrent workers.\n",
      "[Parallel(n_jobs=-1)]: Done   2 out of   5 | elapsed:   13.6s remaining:   20.5s\n",
      "[Parallel(n_jobs=-1)]: Done   3 out of   5 | elapsed:   13.8s remaining:    9.2s\n",
      "[Parallel(n_jobs=-1)]: Done   5 out of   5 | elapsed:   14.1s remaining:    0.0s\n",
      "[Parallel(n_jobs=-1)]: Done   5 out of   5 | elapsed:   14.1s finished\n",
      "[Parallel(n_jobs=-1)]: Using backend LokyBackend with 12 concurrent workers.\n"
     ]
    },
    {
     "name": "stdout",
     "output_type": "stream",
     "text": [
      "900\n"
     ]
    },
    {
     "name": "stderr",
     "output_type": "stream",
     "text": [
      "[Parallel(n_jobs=-1)]: Done   2 out of   5 | elapsed:   15.3s remaining:   23.0s\n",
      "[Parallel(n_jobs=-1)]: Done   3 out of   5 | elapsed:   15.4s remaining:   10.2s\n",
      "[Parallel(n_jobs=-1)]: Done   5 out of   5 | elapsed:   15.4s remaining:    0.0s\n",
      "[Parallel(n_jobs=-1)]: Done   5 out of   5 | elapsed:   15.4s finished\n"
     ]
    },
    {
     "name": "stdout",
     "output_type": "stream",
     "text": [
      "950\n"
     ]
    },
    {
     "name": "stderr",
     "output_type": "stream",
     "text": [
      "[Parallel(n_jobs=-1)]: Using backend LokyBackend with 12 concurrent workers.\n",
      "[Parallel(n_jobs=-1)]: Done   2 out of   5 | elapsed:   17.1s remaining:   25.7s\n",
      "[Parallel(n_jobs=-1)]: Done   3 out of   5 | elapsed:   17.1s remaining:   11.4s\n",
      "[Parallel(n_jobs=-1)]: Done   5 out of   5 | elapsed:   17.2s remaining:    0.0s\n",
      "[Parallel(n_jobs=-1)]: Done   5 out of   5 | elapsed:   17.2s finished\n",
      "[Parallel(n_jobs=-1)]: Using backend LokyBackend with 12 concurrent workers.\n"
     ]
    },
    {
     "name": "stdout",
     "output_type": "stream",
     "text": [
      "1000\n"
     ]
    },
    {
     "name": "stderr",
     "output_type": "stream",
     "text": [
      "[Parallel(n_jobs=-1)]: Done   2 out of   5 | elapsed:   16.8s remaining:   25.3s\n",
      "[Parallel(n_jobs=-1)]: Done   3 out of   5 | elapsed:   16.8s remaining:   11.2s\n",
      "[Parallel(n_jobs=-1)]: Done   5 out of   5 | elapsed:   17.0s remaining:    0.0s\n",
      "[Parallel(n_jobs=-1)]: Done   5 out of   5 | elapsed:   17.0s finished\n"
     ]
    },
    {
     "name": "stdout",
     "output_type": "stream",
     "text": [
      "1050\n"
     ]
    },
    {
     "name": "stderr",
     "output_type": "stream",
     "text": [
      "[Parallel(n_jobs=-1)]: Using backend LokyBackend with 12 concurrent workers.\n",
      "[Parallel(n_jobs=-1)]: Done   2 out of   5 | elapsed:   18.0s remaining:   27.1s\n",
      "[Parallel(n_jobs=-1)]: Done   3 out of   5 | elapsed:   18.2s remaining:   12.1s\n",
      "[Parallel(n_jobs=-1)]: Done   5 out of   5 | elapsed:   18.3s remaining:    0.0s\n",
      "[Parallel(n_jobs=-1)]: Done   5 out of   5 | elapsed:   18.3s finished\n",
      "[Parallel(n_jobs=-1)]: Using backend LokyBackend with 12 concurrent workers.\n"
     ]
    },
    {
     "name": "stdout",
     "output_type": "stream",
     "text": [
      "1100\n"
     ]
    },
    {
     "name": "stderr",
     "output_type": "stream",
     "text": [
      "[Parallel(n_jobs=-1)]: Done   2 out of   5 | elapsed:   19.6s remaining:   29.4s\n",
      "[Parallel(n_jobs=-1)]: Done   3 out of   5 | elapsed:   19.6s remaining:   13.1s\n",
      "[Parallel(n_jobs=-1)]: Done   5 out of   5 | elapsed:   19.8s remaining:    0.0s\n",
      "[Parallel(n_jobs=-1)]: Done   5 out of   5 | elapsed:   19.8s finished\n",
      "[Parallel(n_jobs=-1)]: Using backend LokyBackend with 12 concurrent workers.\n"
     ]
    },
    {
     "name": "stdout",
     "output_type": "stream",
     "text": [
      "1150\n"
     ]
    },
    {
     "name": "stderr",
     "output_type": "stream",
     "text": [
      "[Parallel(n_jobs=-1)]: Done   2 out of   5 | elapsed:   19.4s remaining:   29.2s\n",
      "[Parallel(n_jobs=-1)]: Done   3 out of   5 | elapsed:   19.6s remaining:   13.1s\n",
      "[Parallel(n_jobs=-1)]: Done   5 out of   5 | elapsed:   19.8s remaining:    0.0s\n",
      "[Parallel(n_jobs=-1)]: Done   5 out of   5 | elapsed:   19.8s finished\n"
     ]
    },
    {
     "name": "stdout",
     "output_type": "stream",
     "text": [
      "1200\n"
     ]
    },
    {
     "name": "stderr",
     "output_type": "stream",
     "text": [
      "[Parallel(n_jobs=-1)]: Using backend LokyBackend with 12 concurrent workers.\n",
      "[Parallel(n_jobs=-1)]: Done   2 out of   5 | elapsed:   19.1s remaining:   28.7s\n",
      "[Parallel(n_jobs=-1)]: Done   3 out of   5 | elapsed:   19.1s remaining:   12.7s\n",
      "[Parallel(n_jobs=-1)]: Done   5 out of   5 | elapsed:   19.3s remaining:    0.0s\n",
      "[Parallel(n_jobs=-1)]: Done   5 out of   5 | elapsed:   19.3s finished\n"
     ]
    }
   ],
   "source": [
    "# Using cross_validate, let's run through a few different model scenarios\n",
    "# It looks like our MSE and R2 scores improve as we use more n_estimators\n",
    "# let's plot this and see what's a good cut off number for n_estimators is\n",
    "scoring = ['neg_mean_squared_error', 'r2']\n",
    "n_estimators_list = []\n",
    "train_mse=[]\n",
    "test_mse=[]\n",
    "train_r2=[]\n",
    "test_r2=[]\n",
    "\n",
    "# use for loop for n_estimators from 400 to 1250 in steps of 50\n",
    "for n in np.arange(400, 1250, 50):\n",
    "  # display n_estimator\n",
    "  print(n)\n",
    "\n",
    "  # create model\n",
    "  gb_model_tune = GradientBoostingRegressor(n_estimators=n, learning_rate=0.1, max_depth=1)\n",
    "\n",
    "  # save model score in score\n",
    "  score = cross_validate(gb_model_tune, X_train, y_train, scoring=scoring, cv=5, n_jobs=-1, return_train_score=True, verbose = 10)\n",
    "  \n",
    "  # add the individual scores to the appropriate list for train_mse, test_mse, train_r2 and test_r2\n",
    "  n_estimators_list.append(n)\n",
    "  train_mse.append(np.abs(score['train_neg_mean_squared_error'].mean()))\n",
    "  test_mse.append(np.abs(score['test_neg_mean_squared_error'].mean()))\n",
    "  train_r2.append(np.abs(score['train_r2'].mean()))\n",
    "  test_r2.append(np.abs(score['test_r2'].mean()))"
   ]
  },
  {
   "cell_type": "code",
   "execution_count": 76,
   "metadata": {},
   "outputs": [
    {
     "data": {
      "image/png": "[encoded data removed]",
      "text/plain": [
       "<Figure size 1008x432 with 2 Axes>"
      ]
     },
     "metadata": {
      "needs_background": "light"
     },
     "output_type": "display_data"
    }
   ],
   "source": [
    "# plotting the scores on two different plots\n",
    "fig, axs = plt.subplots(1,2, figsize=(14,6))\n",
    "axs[0].plot(n_estimators_list, train_mse, label='Train MSE')\n",
    "axs[0].plot(n_estimators_list, test_mse, label='Test MSE')\n",
    "axs[0].set_title('MSE')\n",
    "\n",
    "axs[1].plot(n_estimators_list, train_r2, label='Train R2')\n",
    "axs[1].plot(n_estimators_list, test_r2, label='Test R2')\n",
    "axs[1].set_title('R2')\n",
    "\n",
    "plt.legend()\n",
    "\n",
    "plt.show()"
   ]
  },
  {
   "cell_type": "code",
   "execution_count": 77,
   "metadata": {},
   "outputs": [
    {
     "name": "stdout",
     "output_type": "stream",
     "text": [
      "400\n"
     ]
    },
    {
     "name": "stderr",
     "output_type": "stream",
     "text": [
      "[Parallel(n_jobs=-1)]: Using backend LokyBackend with 12 concurrent workers.\n",
      "[Parallel(n_jobs=-1)]: Done   2 out of   5 | elapsed:   12.9s remaining:   19.3s\n",
      "[Parallel(n_jobs=-1)]: Done   3 out of   5 | elapsed:   12.9s remaining:    8.6s\n",
      "[Parallel(n_jobs=-1)]: Done   5 out of   5 | elapsed:   13.0s remaining:    0.0s\n",
      "[Parallel(n_jobs=-1)]: Done   5 out of   5 | elapsed:   13.0s finished\n"
     ]
    },
    {
     "name": "stdout",
     "output_type": "stream",
     "text": [
      "450\n"
     ]
    },
    {
     "name": "stderr",
     "output_type": "stream",
     "text": [
      "[Parallel(n_jobs=-1)]: Using backend LokyBackend with 12 concurrent workers.\n",
      "[Parallel(n_jobs=-1)]: Done   2 out of   5 | elapsed:   14.4s remaining:   21.7s\n",
      "[Parallel(n_jobs=-1)]: Done   3 out of   5 | elapsed:   14.4s remaining:    9.6s\n",
      "[Parallel(n_jobs=-1)]: Done   5 out of   5 | elapsed:   14.5s remaining:    0.0s\n",
      "[Parallel(n_jobs=-1)]: Done   5 out of   5 | elapsed:   14.5s finished\n"
     ]
    },
    {
     "name": "stdout",
     "output_type": "stream",
     "text": [
      "500\n"
     ]
    },
    {
     "name": "stderr",
     "output_type": "stream",
     "text": [
      "[Parallel(n_jobs=-1)]: Using backend LokyBackend with 12 concurrent workers.\n",
      "[Parallel(n_jobs=-1)]: Done   2 out of   5 | elapsed:   15.4s remaining:   23.1s\n",
      "[Parallel(n_jobs=-1)]: Done   3 out of   5 | elapsed:   15.5s remaining:   10.3s\n",
      "[Parallel(n_jobs=-1)]: Done   5 out of   5 | elapsed:   15.6s remaining:    0.0s\n",
      "[Parallel(n_jobs=-1)]: Done   5 out of   5 | elapsed:   15.6s finished\n",
      "[Parallel(n_jobs=-1)]: Using backend LokyBackend with 12 concurrent workers.\n"
     ]
    },
    {
     "name": "stdout",
     "output_type": "stream",
     "text": [
      "550\n"
     ]
    },
    {
     "name": "stderr",
     "output_type": "stream",
     "text": [
      "[Parallel(n_jobs=-1)]: Done   2 out of   5 | elapsed:   18.4s remaining:   27.7s\n",
      "[Parallel(n_jobs=-1)]: Done   3 out of   5 | elapsed:   18.5s remaining:   12.3s\n",
      "[Parallel(n_jobs=-1)]: Done   5 out of   5 | elapsed:   18.5s remaining:    0.0s\n",
      "[Parallel(n_jobs=-1)]: Done   5 out of   5 | elapsed:   18.5s finished\n"
     ]
    },
    {
     "name": "stdout",
     "output_type": "stream",
     "text": [
      "600\n"
     ]
    },
    {
     "name": "stderr",
     "output_type": "stream",
     "text": [
      "[Parallel(n_jobs=-1)]: Using backend LokyBackend with 12 concurrent workers.\n",
      "[Parallel(n_jobs=-1)]: Done   2 out of   5 | elapsed:   19.8s remaining:   29.7s\n",
      "[Parallel(n_jobs=-1)]: Done   3 out of   5 | elapsed:   19.8s remaining:   13.2s\n",
      "[Parallel(n_jobs=-1)]: Done   5 out of   5 | elapsed:   19.9s remaining:    0.0s\n",
      "[Parallel(n_jobs=-1)]: Done   5 out of   5 | elapsed:   19.9s finished\n"
     ]
    },
    {
     "name": "stdout",
     "output_type": "stream",
     "text": [
      "650\n"
     ]
    },
    {
     "name": "stderr",
     "output_type": "stream",
     "text": [
      "[Parallel(n_jobs=-1)]: Using backend LokyBackend with 12 concurrent workers.\n",
      "[Parallel(n_jobs=-1)]: Done   2 out of   5 | elapsed:   21.0s remaining:   31.6s\n",
      "[Parallel(n_jobs=-1)]: Done   3 out of   5 | elapsed:   21.0s remaining:   14.0s\n",
      "[Parallel(n_jobs=-1)]: Done   5 out of   5 | elapsed:   21.2s remaining:    0.0s\n",
      "[Parallel(n_jobs=-1)]: Done   5 out of   5 | elapsed:   21.2s finished\n",
      "[Parallel(n_jobs=-1)]: Using backend LokyBackend with 12 concurrent workers.\n"
     ]
    },
    {
     "name": "stdout",
     "output_type": "stream",
     "text": [
      "700\n"
     ]
    },
    {
     "name": "stderr",
     "output_type": "stream",
     "text": [
      "[Parallel(n_jobs=-1)]: Done   2 out of   5 | elapsed:   22.7s remaining:   34.1s\n",
      "[Parallel(n_jobs=-1)]: Done   3 out of   5 | elapsed:   22.7s remaining:   15.1s\n",
      "[Parallel(n_jobs=-1)]: Done   5 out of   5 | elapsed:   22.9s remaining:    0.0s\n",
      "[Parallel(n_jobs=-1)]: Done   5 out of   5 | elapsed:   22.9s finished\n"
     ]
    },
    {
     "name": "stdout",
     "output_type": "stream",
     "text": [
      "750\n"
     ]
    },
    {
     "name": "stderr",
     "output_type": "stream",
     "text": [
      "[Parallel(n_jobs=-1)]: Using backend LokyBackend with 12 concurrent workers.\n",
      "[Parallel(n_jobs=-1)]: Done   2 out of   5 | elapsed:   24.7s remaining:   37.1s\n",
      "[Parallel(n_jobs=-1)]: Done   3 out of   5 | elapsed:   24.8s remaining:   16.5s\n",
      "[Parallel(n_jobs=-1)]: Done   5 out of   5 | elapsed:   24.9s remaining:    0.0s\n",
      "[Parallel(n_jobs=-1)]: Done   5 out of   5 | elapsed:   24.9s finished\n",
      "[Parallel(n_jobs=-1)]: Using backend LokyBackend with 12 concurrent workers.\n"
     ]
    },
    {
     "name": "stdout",
     "output_type": "stream",
     "text": [
      "800\n"
     ]
    },
    {
     "name": "stderr",
     "output_type": "stream",
     "text": [
      "[Parallel(n_jobs=-1)]: Done   2 out of   5 | elapsed:   25.4s remaining:   38.1s\n",
      "[Parallel(n_jobs=-1)]: Done   3 out of   5 | elapsed:   25.5s remaining:   16.9s\n",
      "[Parallel(n_jobs=-1)]: Done   5 out of   5 | elapsed:   25.6s remaining:    0.0s\n",
      "[Parallel(n_jobs=-1)]: Done   5 out of   5 | elapsed:   25.6s finished\n",
      "[Parallel(n_jobs=-1)]: Using backend LokyBackend with 12 concurrent workers.\n"
     ]
    },
    {
     "name": "stdout",
     "output_type": "stream",
     "text": [
      "850\n"
     ]
    },
    {
     "name": "stderr",
     "output_type": "stream",
     "text": [
      "[Parallel(n_jobs=-1)]: Done   2 out of   5 | elapsed:   27.5s remaining:   41.3s\n",
      "[Parallel(n_jobs=-1)]: Done   3 out of   5 | elapsed:   27.6s remaining:   18.3s\n",
      "[Parallel(n_jobs=-1)]: Done   5 out of   5 | elapsed:   27.7s remaining:    0.0s\n",
      "[Parallel(n_jobs=-1)]: Done   5 out of   5 | elapsed:   27.7s finished\n",
      "[Parallel(n_jobs=-1)]: Using backend LokyBackend with 12 concurrent workers.\n"
     ]
    },
    {
     "name": "stdout",
     "output_type": "stream",
     "text": [
      "900\n"
     ]
    },
    {
     "name": "stderr",
     "output_type": "stream",
     "text": [
      "[Parallel(n_jobs=-1)]: Done   2 out of   5 | elapsed:   33.3s remaining:   49.9s\n",
      "[Parallel(n_jobs=-1)]: Done   3 out of   5 | elapsed:   33.3s remaining:   22.1s\n",
      "[Parallel(n_jobs=-1)]: Done   5 out of   5 | elapsed:   33.4s remaining:    0.0s\n",
      "[Parallel(n_jobs=-1)]: Done   5 out of   5 | elapsed:   33.4s finished\n"
     ]
    },
    {
     "name": "stdout",
     "output_type": "stream",
     "text": [
      "950\n"
     ]
    },
    {
     "name": "stderr",
     "output_type": "stream",
     "text": [
      "[Parallel(n_jobs=-1)]: Using backend LokyBackend with 12 concurrent workers.\n",
      "[Parallel(n_jobs=-1)]: Done   2 out of   5 | elapsed:   33.8s remaining:   50.8s\n",
      "[Parallel(n_jobs=-1)]: Done   3 out of   5 | elapsed:   33.9s remaining:   22.6s\n",
      "[Parallel(n_jobs=-1)]: Done   5 out of   5 | elapsed:   34.0s remaining:    0.0s\n",
      "[Parallel(n_jobs=-1)]: Done   5 out of   5 | elapsed:   34.0s finished\n",
      "[Parallel(n_jobs=-1)]: Using backend LokyBackend with 12 concurrent workers.\n"
     ]
    },
    {
     "name": "stdout",
     "output_type": "stream",
     "text": [
      "1000\n"
     ]
    },
    {
     "name": "stderr",
     "output_type": "stream",
     "text": [
      "[Parallel(n_jobs=-1)]: Done   2 out of   5 | elapsed:   33.1s remaining:   49.6s\n",
      "[Parallel(n_jobs=-1)]: Done   3 out of   5 | elapsed:   33.1s remaining:   22.0s\n",
      "[Parallel(n_jobs=-1)]: Done   5 out of   5 | elapsed:   33.2s remaining:    0.0s\n",
      "[Parallel(n_jobs=-1)]: Done   5 out of   5 | elapsed:   33.2s finished\n"
     ]
    },
    {
     "name": "stdout",
     "output_type": "stream",
     "text": [
      "1050\n"
     ]
    },
    {
     "name": "stderr",
     "output_type": "stream",
     "text": [
      "[Parallel(n_jobs=-1)]: Using backend LokyBackend with 12 concurrent workers.\n",
      "[Parallel(n_jobs=-1)]: Done   2 out of   5 | elapsed:   37.5s remaining:   56.2s\n",
      "[Parallel(n_jobs=-1)]: Done   3 out of   5 | elapsed:   37.5s remaining:   24.9s\n",
      "[Parallel(n_jobs=-1)]: Done   5 out of   5 | elapsed:   37.6s remaining:    0.0s\n",
      "[Parallel(n_jobs=-1)]: Done   5 out of   5 | elapsed:   37.6s finished\n"
     ]
    },
    {
     "name": "stdout",
     "output_type": "stream",
     "text": [
      "1100\n"
     ]
    },
    {
     "name": "stderr",
     "output_type": "stream",
     "text": [
      "[Parallel(n_jobs=-1)]: Using backend LokyBackend with 12 concurrent workers.\n",
      "[Parallel(n_jobs=-1)]: Done   2 out of   5 | elapsed:   34.7s remaining:   52.2s\n",
      "[Parallel(n_jobs=-1)]: Done   3 out of   5 | elapsed:   34.7s remaining:   23.1s\n",
      "[Parallel(n_jobs=-1)]: Done   5 out of   5 | elapsed:   34.8s remaining:    0.0s\n",
      "[Parallel(n_jobs=-1)]: Done   5 out of   5 | elapsed:   34.8s finished\n"
     ]
    },
    {
     "name": "stdout",
     "output_type": "stream",
     "text": [
      "1150\n"
     ]
    },
    {
     "name": "stderr",
     "output_type": "stream",
     "text": [
      "[Parallel(n_jobs=-1)]: Using backend LokyBackend with 12 concurrent workers.\n",
      "[Parallel(n_jobs=-1)]: Done   2 out of   5 | elapsed:   33.6s remaining:   50.5s\n",
      "[Parallel(n_jobs=-1)]: Done   3 out of   5 | elapsed:   33.8s remaining:   22.5s\n",
      "[Parallel(n_jobs=-1)]: Done   5 out of   5 | elapsed:   33.8s remaining:    0.0s\n",
      "[Parallel(n_jobs=-1)]: Done   5 out of   5 | elapsed:   33.8s finished\n",
      "[Parallel(n_jobs=-1)]: Using backend LokyBackend with 12 concurrent workers.\n"
     ]
    },
    {
     "name": "stdout",
     "output_type": "stream",
     "text": [
      "1200\n"
     ]
    },
    {
     "name": "stderr",
     "output_type": "stream",
     "text": [
      "[Parallel(n_jobs=-1)]: Done   2 out of   5 | elapsed:   35.1s remaining:   52.8s\n",
      "[Parallel(n_jobs=-1)]: Done   3 out of   5 | elapsed:   35.2s remaining:   23.4s\n",
      "[Parallel(n_jobs=-1)]: Done   5 out of   5 | elapsed:   35.3s remaining:    0.0s\n",
      "[Parallel(n_jobs=-1)]: Done   5 out of   5 | elapsed:   35.3s finished\n"
     ]
    }
   ],
   "source": [
    "# repeating the same process but using a max_depth of 2\n",
    "scoring = ['neg_mean_squared_error', 'r2']\n",
    "n_estimators_list = []\n",
    "train_mse_2=[]\n",
    "test_mse_2=[]\n",
    "train_r2_2=[]\n",
    "test_r2_2=[]\n",
    "\n",
    "for n in np.arange(400, 1250, 50):\n",
    "  print(n)\n",
    "  gb_model_tune = GradientBoostingRegressor(n_estimators=n, learning_rate=0.1, max_depth=2)\n",
    "\n",
    "  score = cross_validate(gb_model_tune, X_train, y_train, scoring=scoring, cv=5, n_jobs=-1, return_train_score=True, verbose = 10)\n",
    "  \n",
    "  n_estimators_list.append(n)\n",
    "  train_mse_2.append(np.abs(score['train_neg_mean_squared_error'].mean()))\n",
    "  test_mse_2.append(np.abs(score['test_neg_mean_squared_error'].mean()))\n",
    "  train_r2_2.append(np.abs(score['train_r2'].mean()))\n",
    "  test_r2_2.append(np.abs(score['test_r2'].mean()))"
   ]
  },
  {
   "cell_type": "code",
   "execution_count": 78,
   "metadata": {},
   "outputs": [
    {
     "data": {
      "image/png": "[encoded data removed]",
      "text/plain": [
       "<Figure size 1008x432 with 2 Axes>"
      ]
     },
     "metadata": {
      "needs_background": "light"
     },
     "output_type": "display_data"
    }
   ],
   "source": [
    "# plotting the scores on two different plots\n",
    "fig, axs = plt.subplots(1,2, figsize=(14,6))\n",
    "axs[0].plot(n_estimators_list, train_mse, label='Train MSE')\n",
    "axs[0].plot(n_estimators_list, test_mse, label='Test MSE')\n",
    "axs[0].plot(n_estimators_list, train_mse_2, label='Train MSE Depth 2')\n",
    "axs[0].plot(n_estimators_list, test_mse_2, label='Test MSE Depth 2')\n",
    "axs[0].set_title('MSE')\n",
    "axs[0].legend()\n",
    "\n",
    "axs[1].plot(n_estimators_list, train_r2, label='Train R2')\n",
    "axs[1].plot(n_estimators_list, test_r2, label='Test R2')\n",
    "axs[1].plot(n_estimators_list, train_r2_2, label='Train R2 Depth 2')\n",
    "axs[1].plot(n_estimators_list, test_r2_2, label='Test R2 Depth 2')\n",
    "axs[1].set_title('R2')\n",
    "axs[1].legend()\n",
    "\n",
    "plt.show()"
   ]
  },
  {
   "cell_type": "code",
   "execution_count": 79,
   "metadata": {},
   "outputs": [
    {
     "name": "stdout",
     "output_type": "stream",
     "text": [
      "400\n"
     ]
    },
    {
     "name": "stderr",
     "output_type": "stream",
     "text": [
      "[Parallel(n_jobs=-1)]: Using backend LokyBackend with 12 concurrent workers.\n",
      "[Parallel(n_jobs=-1)]: Done   2 out of   5 | elapsed:   17.5s remaining:   26.4s\n",
      "[Parallel(n_jobs=-1)]: Done   3 out of   5 | elapsed:   17.8s remaining:   11.8s\n",
      "[Parallel(n_jobs=-1)]: Done   5 out of   5 | elapsed:   18.5s remaining:    0.0s\n",
      "[Parallel(n_jobs=-1)]: Done   5 out of   5 | elapsed:   18.5s finished\n",
      "[Parallel(n_jobs=-1)]: Using backend LokyBackend with 12 concurrent workers.\n"
     ]
    },
    {
     "name": "stdout",
     "output_type": "stream",
     "text": [
      "450\n"
     ]
    },
    {
     "name": "stderr",
     "output_type": "stream",
     "text": [
      "[Parallel(n_jobs=-1)]: Done   2 out of   5 | elapsed:   21.0s remaining:   31.6s\n",
      "[Parallel(n_jobs=-1)]: Done   3 out of   5 | elapsed:   21.3s remaining:   14.2s\n",
      "[Parallel(n_jobs=-1)]: Done   5 out of   5 | elapsed:   21.5s remaining:    0.0s\n",
      "[Parallel(n_jobs=-1)]: Done   5 out of   5 | elapsed:   21.5s finished\n"
     ]
    },
    {
     "name": "stdout",
     "output_type": "stream",
     "text": [
      "500\n"
     ]
    },
    {
     "name": "stderr",
     "output_type": "stream",
     "text": [
      "[Parallel(n_jobs=-1)]: Using backend LokyBackend with 12 concurrent workers.\n",
      "[Parallel(n_jobs=-1)]: Done   2 out of   5 | elapsed:   23.1s remaining:   34.7s\n",
      "[Parallel(n_jobs=-1)]: Done   3 out of   5 | elapsed:   23.2s remaining:   15.4s\n",
      "[Parallel(n_jobs=-1)]: Done   5 out of   5 | elapsed:   24.2s remaining:    0.0s\n",
      "[Parallel(n_jobs=-1)]: Done   5 out of   5 | elapsed:   24.2s finished\n",
      "[Parallel(n_jobs=-1)]: Using backend LokyBackend with 12 concurrent workers.\n"
     ]
    },
    {
     "name": "stdout",
     "output_type": "stream",
     "text": [
      "550\n"
     ]
    },
    {
     "name": "stderr",
     "output_type": "stream",
     "text": [
      "[Parallel(n_jobs=-1)]: Done   2 out of   5 | elapsed:   25.2s remaining:   37.9s\n",
      "[Parallel(n_jobs=-1)]: Done   3 out of   5 | elapsed:   25.4s remaining:   16.9s\n",
      "[Parallel(n_jobs=-1)]: Done   5 out of   5 | elapsed:   25.9s remaining:    0.0s\n",
      "[Parallel(n_jobs=-1)]: Done   5 out of   5 | elapsed:   25.9s finished\n",
      "[Parallel(n_jobs=-1)]: Using backend LokyBackend with 12 concurrent workers.\n"
     ]
    },
    {
     "name": "stdout",
     "output_type": "stream",
     "text": [
      "600\n"
     ]
    },
    {
     "name": "stderr",
     "output_type": "stream",
     "text": [
      "[Parallel(n_jobs=-1)]: Done   2 out of   5 | elapsed:   28.1s remaining:   42.1s\n",
      "[Parallel(n_jobs=-1)]: Done   3 out of   5 | elapsed:   28.1s remaining:   18.7s\n",
      "[Parallel(n_jobs=-1)]: Done   5 out of   5 | elapsed:   28.1s remaining:    0.0s\n",
      "[Parallel(n_jobs=-1)]: Done   5 out of   5 | elapsed:   28.1s finished\n",
      "[Parallel(n_jobs=-1)]: Using backend LokyBackend with 12 concurrent workers.\n"
     ]
    },
    {
     "name": "stdout",
     "output_type": "stream",
     "text": [
      "650\n"
     ]
    },
    {
     "name": "stderr",
     "output_type": "stream",
     "text": [
      "[Parallel(n_jobs=-1)]: Done   2 out of   5 | elapsed:   28.9s remaining:   43.4s\n",
      "[Parallel(n_jobs=-1)]: Done   3 out of   5 | elapsed:   29.1s remaining:   19.4s\n",
      "[Parallel(n_jobs=-1)]: Done   5 out of   5 | elapsed:   29.3s remaining:    0.0s\n",
      "[Parallel(n_jobs=-1)]: Done   5 out of   5 | elapsed:   29.3s finished\n",
      "[Parallel(n_jobs=-1)]: Using backend LokyBackend with 12 concurrent workers.\n"
     ]
    },
    {
     "name": "stdout",
     "output_type": "stream",
     "text": [
      "700\n"
     ]
    },
    {
     "name": "stderr",
     "output_type": "stream",
     "text": [
      "[Parallel(n_jobs=-1)]: Done   2 out of   5 | elapsed:   30.9s remaining:   46.5s\n",
      "[Parallel(n_jobs=-1)]: Done   3 out of   5 | elapsed:   30.9s remaining:   20.6s\n",
      "[Parallel(n_jobs=-1)]: Done   5 out of   5 | elapsed:   31.7s remaining:    0.0s\n",
      "[Parallel(n_jobs=-1)]: Done   5 out of   5 | elapsed:   31.7s finished\n",
      "[Parallel(n_jobs=-1)]: Using backend LokyBackend with 12 concurrent workers.\n"
     ]
    },
    {
     "name": "stdout",
     "output_type": "stream",
     "text": [
      "750\n"
     ]
    },
    {
     "name": "stderr",
     "output_type": "stream",
     "text": [
      "[Parallel(n_jobs=-1)]: Done   2 out of   5 | elapsed:   34.8s remaining:   52.3s\n",
      "[Parallel(n_jobs=-1)]: Done   3 out of   5 | elapsed:   34.9s remaining:   23.3s\n",
      "[Parallel(n_jobs=-1)]: Done   5 out of   5 | elapsed:   35.0s remaining:    0.0s\n",
      "[Parallel(n_jobs=-1)]: Done   5 out of   5 | elapsed:   35.0s finished\n"
     ]
    },
    {
     "name": "stdout",
     "output_type": "stream",
     "text": [
      "800\n"
     ]
    },
    {
     "name": "stderr",
     "output_type": "stream",
     "text": [
      "[Parallel(n_jobs=-1)]: Using backend LokyBackend with 12 concurrent workers.\n",
      "[Parallel(n_jobs=-1)]: Done   2 out of   5 | elapsed:   35.5s remaining:   53.3s\n",
      "[Parallel(n_jobs=-1)]: Done   3 out of   5 | elapsed:   35.6s remaining:   23.7s\n",
      "[Parallel(n_jobs=-1)]: Done   5 out of   5 | elapsed:   35.6s remaining:    0.0s\n",
      "[Parallel(n_jobs=-1)]: Done   5 out of   5 | elapsed:   35.6s finished\n"
     ]
    },
    {
     "name": "stdout",
     "output_type": "stream",
     "text": [
      "850\n"
     ]
    },
    {
     "name": "stderr",
     "output_type": "stream",
     "text": [
      "[Parallel(n_jobs=-1)]: Using backend LokyBackend with 12 concurrent workers.\n",
      "[Parallel(n_jobs=-1)]: Done   2 out of   5 | elapsed:   38.5s remaining:   57.8s\n",
      "[Parallel(n_jobs=-1)]: Done   3 out of   5 | elapsed:   38.6s remaining:   25.7s\n",
      "[Parallel(n_jobs=-1)]: Done   5 out of   5 | elapsed:   38.6s remaining:    0.0s\n",
      "[Parallel(n_jobs=-1)]: Done   5 out of   5 | elapsed:   38.6s finished\n"
     ]
    },
    {
     "name": "stdout",
     "output_type": "stream",
     "text": [
      "900\n"
     ]
    },
    {
     "name": "stderr",
     "output_type": "stream",
     "text": [
      "[Parallel(n_jobs=-1)]: Using backend LokyBackend with 12 concurrent workers.\n",
      "[Parallel(n_jobs=-1)]: Done   2 out of   5 | elapsed:   39.6s remaining:   59.4s\n",
      "[Parallel(n_jobs=-1)]: Done   3 out of   5 | elapsed:   39.8s remaining:   26.5s\n",
      "[Parallel(n_jobs=-1)]: Done   5 out of   5 | elapsed:   40.3s remaining:    0.0s\n",
      "[Parallel(n_jobs=-1)]: Done   5 out of   5 | elapsed:   40.3s finished\n",
      "[Parallel(n_jobs=-1)]: Using backend LokyBackend with 12 concurrent workers.\n"
     ]
    },
    {
     "name": "stdout",
     "output_type": "stream",
     "text": [
      "950\n"
     ]
    },
    {
     "name": "stderr",
     "output_type": "stream",
     "text": [
      "[Parallel(n_jobs=-1)]: Done   2 out of   5 | elapsed:   44.2s remaining:  1.1min\n",
      "[Parallel(n_jobs=-1)]: Done   3 out of   5 | elapsed:   44.3s remaining:   29.5s\n",
      "[Parallel(n_jobs=-1)]: Done   5 out of   5 | elapsed:   44.4s remaining:    0.0s\n",
      "[Parallel(n_jobs=-1)]: Done   5 out of   5 | elapsed:   44.4s finished\n",
      "[Parallel(n_jobs=-1)]: Using backend LokyBackend with 12 concurrent workers.\n"
     ]
    },
    {
     "name": "stdout",
     "output_type": "stream",
     "text": [
      "1000\n"
     ]
    },
    {
     "name": "stderr",
     "output_type": "stream",
     "text": [
      "[Parallel(n_jobs=-1)]: Done   2 out of   5 | elapsed:   46.7s remaining:  1.2min\n",
      "[Parallel(n_jobs=-1)]: Done   3 out of   5 | elapsed:   46.8s remaining:   31.1s\n",
      "[Parallel(n_jobs=-1)]: Done   5 out of   5 | elapsed:   46.9s remaining:    0.0s\n",
      "[Parallel(n_jobs=-1)]: Done   5 out of   5 | elapsed:   46.9s finished\n",
      "[Parallel(n_jobs=-1)]: Using backend LokyBackend with 12 concurrent workers.\n"
     ]
    },
    {
     "name": "stdout",
     "output_type": "stream",
     "text": [
      "1050\n"
     ]
    },
    {
     "name": "stderr",
     "output_type": "stream",
     "text": [
      "[Parallel(n_jobs=-1)]: Done   2 out of   5 | elapsed:   46.6s remaining:  1.2min\n",
      "[Parallel(n_jobs=-1)]: Done   3 out of   5 | elapsed:   46.8s remaining:   31.1s\n",
      "[Parallel(n_jobs=-1)]: Done   5 out of   5 | elapsed:   46.9s remaining:    0.0s\n",
      "[Parallel(n_jobs=-1)]: Done   5 out of   5 | elapsed:   46.9s finished\n",
      "[Parallel(n_jobs=-1)]: Using backend LokyBackend with 12 concurrent workers.\n"
     ]
    },
    {
     "name": "stdout",
     "output_type": "stream",
     "text": [
      "1100\n"
     ]
    },
    {
     "name": "stderr",
     "output_type": "stream",
     "text": [
      "[Parallel(n_jobs=-1)]: Done   2 out of   5 | elapsed:   49.8s remaining:  1.2min\n",
      "[Parallel(n_jobs=-1)]: Done   3 out of   5 | elapsed:   50.0s remaining:   33.3s\n",
      "[Parallel(n_jobs=-1)]: Done   5 out of   5 | elapsed:   50.2s remaining:    0.0s\n",
      "[Parallel(n_jobs=-1)]: Done   5 out of   5 | elapsed:   50.2s finished\n"
     ]
    },
    {
     "name": "stdout",
     "output_type": "stream",
     "text": [
      "1150\n"
     ]
    },
    {
     "name": "stderr",
     "output_type": "stream",
     "text": [
      "[Parallel(n_jobs=-1)]: Using backend LokyBackend with 12 concurrent workers.\n",
      "[Parallel(n_jobs=-1)]: Done   2 out of   5 | elapsed:   50.7s remaining:  1.3min\n",
      "[Parallel(n_jobs=-1)]: Done   3 out of   5 | elapsed:   50.9s remaining:   33.9s\n",
      "[Parallel(n_jobs=-1)]: Done   5 out of   5 | elapsed:   51.7s remaining:    0.0s\n",
      "[Parallel(n_jobs=-1)]: Done   5 out of   5 | elapsed:   51.7s finished\n",
      "[Parallel(n_jobs=-1)]: Using backend LokyBackend with 12 concurrent workers.\n"
     ]
    },
    {
     "name": "stdout",
     "output_type": "stream",
     "text": [
      "1200\n"
     ]
    },
    {
     "name": "stderr",
     "output_type": "stream",
     "text": [
      "[Parallel(n_jobs=-1)]: Done   2 out of   5 | elapsed:   55.2s remaining:  1.4min\n",
      "[Parallel(n_jobs=-1)]: Done   3 out of   5 | elapsed:   55.5s remaining:   37.0s\n",
      "[Parallel(n_jobs=-1)]: Done   5 out of   5 | elapsed:   55.7s remaining:    0.0s\n",
      "[Parallel(n_jobs=-1)]: Done   5 out of   5 | elapsed:   55.7s finished\n"
     ]
    }
   ],
   "source": [
    "# repeating the process but using a max depth of 3\n",
    "scoring = ['neg_mean_squared_error', 'r2']\n",
    "n_estimators_list = []\n",
    "train_mse_3=[]\n",
    "test_mse_3=[]\n",
    "train_r2_3=[]\n",
    "test_r2_3=[]\n",
    "\n",
    "for n in np.arange(400, 1250, 50):\n",
    "  print(n)\n",
    "  gb_model_tune = GradientBoostingRegressor(n_estimators=n, learning_rate=0.1, max_depth=3)\n",
    "\n",
    "  score = cross_validate(gb_model_tune, X_train, y_train, scoring=scoring, cv=5, n_jobs=-1, return_train_score=True, verbose = 10)\n",
    "  \n",
    "  n_estimators_list.append(n)\n",
    "  train_mse_3.append(np.abs(score['train_neg_mean_squared_error'].mean()))\n",
    "  test_mse_3.append(np.abs(score['test_neg_mean_squared_error'].mean()))\n",
    "  train_r2_3.append(np.abs(score['train_r2'].mean()))\n",
    "  test_r2_3.append(np.abs(score['test_r2'].mean()))"
   ]
  },
  {
   "cell_type": "code",
   "execution_count": 80,
   "metadata": {},
   "outputs": [
    {
     "data": {
      "image/png": "[encoded data removed]",
      "text/plain": [
       "<Figure size 1008x432 with 2 Axes>"
      ]
     },
     "metadata": {
      "needs_background": "light"
     },
     "output_type": "display_data"
    }
   ],
   "source": [
    "#plotting the scores on two different plots\n",
    "fig, axs = plt.subplots(1,2, figsize=(14,6))\n",
    "axs[0].plot(n_estimators_list, train_mse, label='Train MSE')\n",
    "axs[0].plot(n_estimators_list, test_mse, label='Test MSE')\n",
    "axs[0].plot(n_estimators_list, train_mse_2, label='Train MSE Depth 2')\n",
    "axs[0].plot(n_estimators_list, test_mse_2, label='Test MSE Depth 2')\n",
    "axs[0].plot(n_estimators_list, train_mse_3, label='Train MSE Depth 3')\n",
    "axs[0].plot(n_estimators_list, test_mse_3, label='Test MSE Depth 3')\n",
    "axs[0].set_title('MSE')\n",
    "axs[0].legend()\n",
    "\n",
    "axs[1].plot(n_estimators_list, train_r2, label='Train R2')\n",
    "axs[1].plot(n_estimators_list, test_r2, label='Test R2')\n",
    "axs[1].plot(n_estimators_list, train_r2_2, label='Train R2 Depth 2')\n",
    "axs[1].plot(n_estimators_list, test_r2_2, label='Test R2 Depth 2')\n",
    "axs[1].plot(n_estimators_list, train_r2_3, label='Train R2 Depth 3')\n",
    "axs[1].plot(n_estimators_list, test_r2_3, label='Test R2 Depth 3')\n",
    "axs[1].set_title('R2')\n",
    "axs[1].legend()\n",
    "\n",
    "plt.show()"
   ]
  },
  {
   "cell_type": "code",
   "execution_count": 81,
   "metadata": {},
   "outputs": [
    {
     "data": {
      "text/plain": [
       "GradientBoostingRegressor(max_depth=2, n_estimators=2000)"
      ]
     },
     "execution_count": 81,
     "metadata": {},
     "output_type": "execute_result"
    }
   ],
   "source": [
    "# Final model\n",
    "gb_model4 = GradientBoostingRegressor(n_estimators=2000, learning_rate=0.1, max_depth=2)\n",
    "gb_model4.fit(X_train,y_train)"
   ]
  },
  {
   "cell_type": "code",
   "execution_count": 82,
   "metadata": {},
   "outputs": [],
   "source": [
    "# finding y^ for train and test\n",
    "gb_y_train_pred4 = gb_model4.predict(X_train)\n",
    "gb_y_test_pred4 = gb_model4.predict(X_test)"
   ]
  },
  {
   "cell_type": "code",
   "execution_count": 83,
   "metadata": {},
   "outputs": [
    {
     "name": "stdout",
     "output_type": "stream",
     "text": [
      "GB Model Train MSE: 0.09687840957457815\n",
      "GB Model Test MSE: 0.11878712542540501\n",
      "GB Model Train R2: 0.8368071502422305\n",
      "GB Model Test R2: 0.8050196205734468\n"
     ]
    }
   ],
   "source": [
    "# calculating MSE and R2 scores for train and test\n",
    "gb_train_mse4 = mean_squared_error(y_train, gb_y_train_pred4)\n",
    "gb_test_mse4 = mean_squared_error(y_test, gb_y_test_pred4)\n",
    "\n",
    "gb_train_r24 = r2_score(y_train, gb_y_train_pred4)\n",
    "gb_test_r24 = r2_score(y_test, gb_y_test_pred4)\n",
    "\n",
    "# display MSE and R2 scores\n",
    "print(f'GB Model Train MSE: {gb_train_mse4}')\n",
    "print(f'GB Model Test MSE: {gb_test_mse4}')\n",
    "\n",
    "print(f'GB Model Train R2: {gb_train_r24}')\n",
    "print(f'GB Model Test R2: {gb_test_r24}')"
   ]
  },
  {
   "cell_type": "markdown",
   "metadata": {},
   "source": [
    "## Trying to Tune again, this time with larger number of n_estimators"
   ]
  },
  {
   "cell_type": "code",
   "execution_count": 84,
   "metadata": {},
   "outputs": [
    {
     "name": "stdout",
     "output_type": "stream",
     "text": [
      "700\n"
     ]
    },
    {
     "name": "stderr",
     "output_type": "stream",
     "text": [
      "[Parallel(n_jobs=-1)]: Using backend LokyBackend with 12 concurrent workers.\n",
      "[Parallel(n_jobs=-1)]: Done   2 out of   5 | elapsed:    9.8s remaining:   14.8s\n",
      "[Parallel(n_jobs=-1)]: Done   3 out of   5 | elapsed:    9.9s remaining:    6.5s\n",
      "[Parallel(n_jobs=-1)]: Done   5 out of   5 | elapsed:    9.9s remaining:    0.0s\n",
      "[Parallel(n_jobs=-1)]: Done   5 out of   5 | elapsed:    9.9s finished\n",
      "[Parallel(n_jobs=-1)]: Using backend LokyBackend with 12 concurrent workers.\n"
     ]
    },
    {
     "name": "stdout",
     "output_type": "stream",
     "text": [
      "800\n"
     ]
    },
    {
     "name": "stderr",
     "output_type": "stream",
     "text": [
      "[Parallel(n_jobs=-1)]: Done   2 out of   5 | elapsed:   12.0s remaining:   18.0s\n",
      "[Parallel(n_jobs=-1)]: Done   3 out of   5 | elapsed:   12.0s remaining:    8.0s\n",
      "[Parallel(n_jobs=-1)]: Done   5 out of   5 | elapsed:   12.0s remaining:    0.0s\n",
      "[Parallel(n_jobs=-1)]: Done   5 out of   5 | elapsed:   12.0s finished\n",
      "[Parallel(n_jobs=-1)]: Using backend LokyBackend with 12 concurrent workers.\n"
     ]
    },
    {
     "name": "stdout",
     "output_type": "stream",
     "text": [
      "900\n"
     ]
    },
    {
     "name": "stderr",
     "output_type": "stream",
     "text": [
      "[Parallel(n_jobs=-1)]: Done   2 out of   5 | elapsed:   13.2s remaining:   19.9s\n",
      "[Parallel(n_jobs=-1)]: Done   3 out of   5 | elapsed:   13.3s remaining:    8.8s\n",
      "[Parallel(n_jobs=-1)]: Done   5 out of   5 | elapsed:   13.4s remaining:    0.0s\n",
      "[Parallel(n_jobs=-1)]: Done   5 out of   5 | elapsed:   13.4s finished\n"
     ]
    },
    {
     "name": "stdout",
     "output_type": "stream",
     "text": [
      "1000\n"
     ]
    },
    {
     "name": "stderr",
     "output_type": "stream",
     "text": [
      "[Parallel(n_jobs=-1)]: Using backend LokyBackend with 12 concurrent workers.\n",
      "[Parallel(n_jobs=-1)]: Done   2 out of   5 | elapsed:   14.8s remaining:   22.3s\n",
      "[Parallel(n_jobs=-1)]: Done   3 out of   5 | elapsed:   14.9s remaining:    9.9s\n",
      "[Parallel(n_jobs=-1)]: Done   5 out of   5 | elapsed:   14.9s remaining:    0.0s\n",
      "[Parallel(n_jobs=-1)]: Done   5 out of   5 | elapsed:   14.9s finished\n"
     ]
    },
    {
     "name": "stdout",
     "output_type": "stream",
     "text": [
      "1100\n"
     ]
    },
    {
     "name": "stderr",
     "output_type": "stream",
     "text": [
      "[Parallel(n_jobs=-1)]: Using backend LokyBackend with 12 concurrent workers.\n",
      "[Parallel(n_jobs=-1)]: Done   2 out of   5 | elapsed:   16.4s remaining:   24.6s\n",
      "[Parallel(n_jobs=-1)]: Done   3 out of   5 | elapsed:   16.4s remaining:   10.9s\n",
      "[Parallel(n_jobs=-1)]: Done   5 out of   5 | elapsed:   16.4s remaining:    0.0s\n",
      "[Parallel(n_jobs=-1)]: Done   5 out of   5 | elapsed:   16.4s finished\n",
      "[Parallel(n_jobs=-1)]: Using backend LokyBackend with 12 concurrent workers.\n"
     ]
    },
    {
     "name": "stdout",
     "output_type": "stream",
     "text": [
      "1200\n"
     ]
    },
    {
     "name": "stderr",
     "output_type": "stream",
     "text": [
      "[Parallel(n_jobs=-1)]: Done   2 out of   5 | elapsed:   18.3s remaining:   27.5s\n",
      "[Parallel(n_jobs=-1)]: Done   3 out of   5 | elapsed:   18.4s remaining:   12.2s\n",
      "[Parallel(n_jobs=-1)]: Done   5 out of   5 | elapsed:   18.4s remaining:    0.0s\n",
      "[Parallel(n_jobs=-1)]: Done   5 out of   5 | elapsed:   18.4s finished\n",
      "[Parallel(n_jobs=-1)]: Using backend LokyBackend with 12 concurrent workers.\n"
     ]
    },
    {
     "name": "stdout",
     "output_type": "stream",
     "text": [
      "1300\n"
     ]
    },
    {
     "name": "stderr",
     "output_type": "stream",
     "text": [
      "[Parallel(n_jobs=-1)]: Done   2 out of   5 | elapsed:   19.2s remaining:   28.9s\n",
      "[Parallel(n_jobs=-1)]: Done   3 out of   5 | elapsed:   19.2s remaining:   12.8s\n",
      "[Parallel(n_jobs=-1)]: Done   5 out of   5 | elapsed:   19.3s remaining:    0.0s\n",
      "[Parallel(n_jobs=-1)]: Done   5 out of   5 | elapsed:   19.3s finished\n",
      "[Parallel(n_jobs=-1)]: Using backend LokyBackend with 12 concurrent workers.\n"
     ]
    },
    {
     "name": "stdout",
     "output_type": "stream",
     "text": [
      "1400\n"
     ]
    },
    {
     "name": "stderr",
     "output_type": "stream",
     "text": [
      "[Parallel(n_jobs=-1)]: Done   2 out of   5 | elapsed:   20.7s remaining:   31.2s\n",
      "[Parallel(n_jobs=-1)]: Done   3 out of   5 | elapsed:   20.8s remaining:   13.8s\n",
      "[Parallel(n_jobs=-1)]: Done   5 out of   5 | elapsed:   20.8s remaining:    0.0s\n",
      "[Parallel(n_jobs=-1)]: Done   5 out of   5 | elapsed:   20.8s finished\n",
      "[Parallel(n_jobs=-1)]: Using backend LokyBackend with 12 concurrent workers.\n"
     ]
    },
    {
     "name": "stdout",
     "output_type": "stream",
     "text": [
      "1500\n"
     ]
    },
    {
     "name": "stderr",
     "output_type": "stream",
     "text": [
      "[Parallel(n_jobs=-1)]: Done   2 out of   5 | elapsed:   22.0s remaining:   33.1s\n",
      "[Parallel(n_jobs=-1)]: Done   3 out of   5 | elapsed:   22.1s remaining:   14.7s\n",
      "[Parallel(n_jobs=-1)]: Done   5 out of   5 | elapsed:   22.2s remaining:    0.0s\n",
      "[Parallel(n_jobs=-1)]: Done   5 out of   5 | elapsed:   22.2s finished\n"
     ]
    },
    {
     "name": "stdout",
     "output_type": "stream",
     "text": [
      "1600\n"
     ]
    },
    {
     "name": "stderr",
     "output_type": "stream",
     "text": [
      "[Parallel(n_jobs=-1)]: Using backend LokyBackend with 12 concurrent workers.\n",
      "[Parallel(n_jobs=-1)]: Done   2 out of   5 | elapsed:   23.7s remaining:   35.5s\n",
      "[Parallel(n_jobs=-1)]: Done   3 out of   5 | elapsed:   23.7s remaining:   15.8s\n",
      "[Parallel(n_jobs=-1)]: Done   5 out of   5 | elapsed:   23.7s remaining:    0.0s\n",
      "[Parallel(n_jobs=-1)]: Done   5 out of   5 | elapsed:   23.7s finished\n"
     ]
    },
    {
     "name": "stdout",
     "output_type": "stream",
     "text": [
      "1700\n"
     ]
    },
    {
     "name": "stderr",
     "output_type": "stream",
     "text": [
      "[Parallel(n_jobs=-1)]: Using backend LokyBackend with 12 concurrent workers.\n",
      "[Parallel(n_jobs=-1)]: Done   2 out of   5 | elapsed:   25.4s remaining:   38.2s\n",
      "[Parallel(n_jobs=-1)]: Done   3 out of   5 | elapsed:   25.5s remaining:   16.9s\n",
      "[Parallel(n_jobs=-1)]: Done   5 out of   5 | elapsed:   25.5s remaining:    0.0s\n",
      "[Parallel(n_jobs=-1)]: Done   5 out of   5 | elapsed:   25.5s finished\n",
      "[Parallel(n_jobs=-1)]: Using backend LokyBackend with 12 concurrent workers.\n"
     ]
    },
    {
     "name": "stdout",
     "output_type": "stream",
     "text": [
      "1800\n"
     ]
    },
    {
     "name": "stderr",
     "output_type": "stream",
     "text": [
      "[Parallel(n_jobs=-1)]: Done   2 out of   5 | elapsed:   26.4s remaining:   39.7s\n",
      "[Parallel(n_jobs=-1)]: Done   3 out of   5 | elapsed:   26.4s remaining:   17.6s\n",
      "[Parallel(n_jobs=-1)]: Done   5 out of   5 | elapsed:   26.5s remaining:    0.0s\n",
      "[Parallel(n_jobs=-1)]: Done   5 out of   5 | elapsed:   26.5s finished\n"
     ]
    },
    {
     "name": "stdout",
     "output_type": "stream",
     "text": [
      "1900\n"
     ]
    },
    {
     "name": "stderr",
     "output_type": "stream",
     "text": [
      "[Parallel(n_jobs=-1)]: Using backend LokyBackend with 12 concurrent workers.\n",
      "[Parallel(n_jobs=-1)]: Done   2 out of   5 | elapsed:   28.0s remaining:   42.1s\n",
      "[Parallel(n_jobs=-1)]: Done   3 out of   5 | elapsed:   28.0s remaining:   18.6s\n",
      "[Parallel(n_jobs=-1)]: Done   5 out of   5 | elapsed:   28.0s remaining:    0.0s\n",
      "[Parallel(n_jobs=-1)]: Done   5 out of   5 | elapsed:   28.0s finished\n",
      "[Parallel(n_jobs=-1)]: Using backend LokyBackend with 12 concurrent workers.\n"
     ]
    },
    {
     "name": "stdout",
     "output_type": "stream",
     "text": [
      "2000\n"
     ]
    },
    {
     "name": "stderr",
     "output_type": "stream",
     "text": [
      "[Parallel(n_jobs=-1)]: Done   2 out of   5 | elapsed:   29.5s remaining:   44.3s\n",
      "[Parallel(n_jobs=-1)]: Done   3 out of   5 | elapsed:   29.5s remaining:   19.6s\n",
      "[Parallel(n_jobs=-1)]: Done   5 out of   5 | elapsed:   29.6s remaining:    0.0s\n",
      "[Parallel(n_jobs=-1)]: Done   5 out of   5 | elapsed:   29.6s finished\n"
     ]
    },
    {
     "name": "stdout",
     "output_type": "stream",
     "text": [
      "2100\n"
     ]
    },
    {
     "name": "stderr",
     "output_type": "stream",
     "text": [
      "[Parallel(n_jobs=-1)]: Using backend LokyBackend with 12 concurrent workers.\n",
      "[Parallel(n_jobs=-1)]: Done   2 out of   5 | elapsed:   31.2s remaining:   46.8s\n",
      "[Parallel(n_jobs=-1)]: Done   3 out of   5 | elapsed:   31.6s remaining:   21.0s\n",
      "[Parallel(n_jobs=-1)]: Done   5 out of   5 | elapsed:   31.9s remaining:    0.0s\n",
      "[Parallel(n_jobs=-1)]: Done   5 out of   5 | elapsed:   31.9s finished\n",
      "[Parallel(n_jobs=-1)]: Using backend LokyBackend with 12 concurrent workers.\n"
     ]
    },
    {
     "name": "stdout",
     "output_type": "stream",
     "text": [
      "2200\n"
     ]
    },
    {
     "name": "stderr",
     "output_type": "stream",
     "text": [
      "[Parallel(n_jobs=-1)]: Done   2 out of   5 | elapsed:   32.4s remaining:   48.7s\n",
      "[Parallel(n_jobs=-1)]: Done   3 out of   5 | elapsed:   32.6s remaining:   21.7s\n",
      "[Parallel(n_jobs=-1)]: Done   5 out of   5 | elapsed:   33.3s remaining:    0.0s\n",
      "[Parallel(n_jobs=-1)]: Done   5 out of   5 | elapsed:   33.3s finished\n",
      "[Parallel(n_jobs=-1)]: Using backend LokyBackend with 12 concurrent workers.\n"
     ]
    },
    {
     "name": "stdout",
     "output_type": "stream",
     "text": [
      "2300\n"
     ]
    },
    {
     "name": "stderr",
     "output_type": "stream",
     "text": [
      "[Parallel(n_jobs=-1)]: Done   2 out of   5 | elapsed:   34.3s remaining:   51.5s\n",
      "[Parallel(n_jobs=-1)]: Done   3 out of   5 | elapsed:   34.4s remaining:   22.9s\n",
      "[Parallel(n_jobs=-1)]: Done   5 out of   5 | elapsed:   35.5s remaining:    0.0s\n",
      "[Parallel(n_jobs=-1)]: Done   5 out of   5 | elapsed:   35.5s finished\n",
      "[Parallel(n_jobs=-1)]: Using backend LokyBackend with 12 concurrent workers.\n"
     ]
    },
    {
     "name": "stdout",
     "output_type": "stream",
     "text": [
      "2400\n"
     ]
    },
    {
     "name": "stderr",
     "output_type": "stream",
     "text": [
      "[Parallel(n_jobs=-1)]: Done   2 out of   5 | elapsed:   37.3s remaining:   56.0s\n",
      "[Parallel(n_jobs=-1)]: Done   3 out of   5 | elapsed:   37.4s remaining:   24.9s\n",
      "[Parallel(n_jobs=-1)]: Done   5 out of   5 | elapsed:   37.9s remaining:    0.0s\n",
      "[Parallel(n_jobs=-1)]: Done   5 out of   5 | elapsed:   37.9s finished\n",
      "[Parallel(n_jobs=-1)]: Using backend LokyBackend with 12 concurrent workers.\n"
     ]
    },
    {
     "name": "stdout",
     "output_type": "stream",
     "text": [
      "2500\n"
     ]
    },
    {
     "name": "stderr",
     "output_type": "stream",
     "text": [
      "[Parallel(n_jobs=-1)]: Done   2 out of   5 | elapsed:   39.1s remaining:   58.7s\n",
      "[Parallel(n_jobs=-1)]: Done   3 out of   5 | elapsed:   39.1s remaining:   26.0s\n",
      "[Parallel(n_jobs=-1)]: Done   5 out of   5 | elapsed:   39.1s remaining:    0.0s\n",
      "[Parallel(n_jobs=-1)]: Done   5 out of   5 | elapsed:   39.1s finished\n"
     ]
    }
   ],
   "source": [
    "# repeating the same process as above this time using n_estimators from 700 to 2500 in steps of 100 and max depth 1\n",
    "scoring = ['neg_mean_squared_error', 'r2']\n",
    "n_estimators_list = []\n",
    "train_mse_1_1=[]\n",
    "test_mse_1_1=[]\n",
    "train_r2_1_1=[]\n",
    "test_r2_1_1=[]\n",
    "\n",
    "for n in np.arange(700, 2600, 100):\n",
    "  print(n)\n",
    "  gb_model_tune = GradientBoostingRegressor(n_estimators=n, learning_rate=0.1, max_depth=1)\n",
    "\n",
    "  score = cross_validate(gb_model_tune, X_train, y_train, scoring=scoring, cv=5, n_jobs=-1, return_train_score=True, verbose = 10)\n",
    "  \n",
    "  n_estimators_list.append(n)\n",
    "  train_mse_1_1.append(np.abs(score['train_neg_mean_squared_error'].mean()))\n",
    "  test_mse_1_1.append(np.abs(score['test_neg_mean_squared_error'].mean()))\n",
    "  train_r2_1_1.append(np.abs(score['train_r2'].mean()))\n",
    "  test_r2_1_1.append(np.abs(score['test_r2'].mean()))"
   ]
  },
  {
   "cell_type": "code",
   "execution_count": 85,
   "metadata": {},
   "outputs": [
    {
     "data": {
      "image/png": "[encoded data removed]",
      "text/plain": [
       "<Figure size 1008x432 with 2 Axes>"
      ]
     },
     "metadata": {
      "needs_background": "light"
     },
     "output_type": "display_data"
    }
   ],
   "source": [
    "#plotting the scores on two different plots\n",
    "fig, axs = plt.subplots(1,2, figsize=(14,6))\n",
    "axs[0].plot(n_estimators_list, train_mse_1_1, label='Train MSE')\n",
    "axs[0].plot(n_estimators_list, test_mse_1_1, label='Test MSE')\n",
    "axs[0].set_title('MSE')\n",
    "axs[0].legend()\n",
    "\n",
    "axs[1].plot(n_estimators_list, train_r2_1_1, label='Train R2')\n",
    "axs[1].plot(n_estimators_list, test_r2_1_1, label='Test R2')\n",
    "axs[1].set_title('R2')\n",
    "axs[1].legend()\n",
    "\n",
    "plt.show()"
   ]
  },
  {
   "cell_type": "code",
   "execution_count": 86,
   "metadata": {},
   "outputs": [
    {
     "name": "stdout",
     "output_type": "stream",
     "text": [
      "700\n"
     ]
    },
    {
     "name": "stderr",
     "output_type": "stream",
     "text": [
      "[Parallel(n_jobs=-1)]: Using backend LokyBackend with 12 concurrent workers.\n",
      "[Parallel(n_jobs=-1)]: Done   2 out of   5 | elapsed:   21.2s remaining:   31.9s\n",
      "[Parallel(n_jobs=-1)]: Done   3 out of   5 | elapsed:   21.3s remaining:   14.1s\n",
      "[Parallel(n_jobs=-1)]: Done   5 out of   5 | elapsed:   21.8s remaining:    0.0s\n",
      "[Parallel(n_jobs=-1)]: Done   5 out of   5 | elapsed:   21.8s finished\n",
      "[Parallel(n_jobs=-1)]: Using backend LokyBackend with 12 concurrent workers.\n"
     ]
    },
    {
     "name": "stdout",
     "output_type": "stream",
     "text": [
      "800\n"
     ]
    },
    {
     "name": "stderr",
     "output_type": "stream",
     "text": [
      "[Parallel(n_jobs=-1)]: Done   2 out of   5 | elapsed:   23.4s remaining:   35.2s\n",
      "[Parallel(n_jobs=-1)]: Done   3 out of   5 | elapsed:   23.4s remaining:   15.6s\n",
      "[Parallel(n_jobs=-1)]: Done   5 out of   5 | elapsed:   23.5s remaining:    0.0s\n",
      "[Parallel(n_jobs=-1)]: Done   5 out of   5 | elapsed:   23.5s finished\n",
      "[Parallel(n_jobs=-1)]: Using backend LokyBackend with 12 concurrent workers.\n"
     ]
    },
    {
     "name": "stdout",
     "output_type": "stream",
     "text": [
      "900\n"
     ]
    },
    {
     "name": "stderr",
     "output_type": "stream",
     "text": [
      "[Parallel(n_jobs=-1)]: Done   2 out of   5 | elapsed:   26.4s remaining:   39.6s\n",
      "[Parallel(n_jobs=-1)]: Done   3 out of   5 | elapsed:   26.5s remaining:   17.6s\n",
      "[Parallel(n_jobs=-1)]: Done   5 out of   5 | elapsed:   26.5s remaining:    0.0s\n",
      "[Parallel(n_jobs=-1)]: Done   5 out of   5 | elapsed:   26.5s finished\n"
     ]
    },
    {
     "name": "stdout",
     "output_type": "stream",
     "text": [
      "1000\n"
     ]
    },
    {
     "name": "stderr",
     "output_type": "stream",
     "text": [
      "[Parallel(n_jobs=-1)]: Using backend LokyBackend with 12 concurrent workers.\n",
      "[Parallel(n_jobs=-1)]: Done   2 out of   5 | elapsed:   29.7s remaining:   44.6s\n",
      "[Parallel(n_jobs=-1)]: Done   3 out of   5 | elapsed:   29.9s remaining:   19.9s\n",
      "[Parallel(n_jobs=-1)]: Done   5 out of   5 | elapsed:   30.2s remaining:    0.0s\n",
      "[Parallel(n_jobs=-1)]: Done   5 out of   5 | elapsed:   30.2s finished\n",
      "[Parallel(n_jobs=-1)]: Using backend LokyBackend with 12 concurrent workers.\n"
     ]
    },
    {
     "name": "stdout",
     "output_type": "stream",
     "text": [
      "1100\n"
     ]
    },
    {
     "name": "stderr",
     "output_type": "stream",
     "text": [
      "[Parallel(n_jobs=-1)]: Done   2 out of   5 | elapsed:   32.1s remaining:   48.2s\n",
      "[Parallel(n_jobs=-1)]: Done   3 out of   5 | elapsed:   32.4s remaining:   21.5s\n",
      "[Parallel(n_jobs=-1)]: Done   5 out of   5 | elapsed:   32.6s remaining:    0.0s\n",
      "[Parallel(n_jobs=-1)]: Done   5 out of   5 | elapsed:   32.6s finished\n",
      "[Parallel(n_jobs=-1)]: Using backend LokyBackend with 12 concurrent workers.\n"
     ]
    },
    {
     "name": "stdout",
     "output_type": "stream",
     "text": [
      "1200\n"
     ]
    },
    {
     "name": "stderr",
     "output_type": "stream",
     "text": [
      "[Parallel(n_jobs=-1)]: Done   2 out of   5 | elapsed:   35.2s remaining:   52.8s\n",
      "[Parallel(n_jobs=-1)]: Done   3 out of   5 | elapsed:   35.2s remaining:   23.4s\n",
      "[Parallel(n_jobs=-1)]: Done   5 out of   5 | elapsed:   35.2s remaining:    0.0s\n",
      "[Parallel(n_jobs=-1)]: Done   5 out of   5 | elapsed:   35.2s finished\n"
     ]
    },
    {
     "name": "stdout",
     "output_type": "stream",
     "text": [
      "1300\n"
     ]
    },
    {
     "name": "stderr",
     "output_type": "stream",
     "text": [
      "[Parallel(n_jobs=-1)]: Using backend LokyBackend with 12 concurrent workers.\n",
      "[Parallel(n_jobs=-1)]: Done   2 out of   5 | elapsed:   38.9s remaining:   58.3s\n",
      "[Parallel(n_jobs=-1)]: Done   3 out of   5 | elapsed:   38.9s remaining:   25.9s\n",
      "[Parallel(n_jobs=-1)]: Done   5 out of   5 | elapsed:   39.0s remaining:    0.0s\n",
      "[Parallel(n_jobs=-1)]: Done   5 out of   5 | elapsed:   39.0s finished\n"
     ]
    },
    {
     "name": "stdout",
     "output_type": "stream",
     "text": [
      "1400\n"
     ]
    },
    {
     "name": "stderr",
     "output_type": "stream",
     "text": [
      "[Parallel(n_jobs=-1)]: Using backend LokyBackend with 12 concurrent workers.\n",
      "[Parallel(n_jobs=-1)]: Done   2 out of   5 | elapsed:   41.0s remaining:  1.0min\n",
      "[Parallel(n_jobs=-1)]: Done   3 out of   5 | elapsed:   41.0s remaining:   27.3s\n",
      "[Parallel(n_jobs=-1)]: Done   5 out of   5 | elapsed:   41.2s remaining:    0.0s\n",
      "[Parallel(n_jobs=-1)]: Done   5 out of   5 | elapsed:   41.2s finished\n",
      "[Parallel(n_jobs=-1)]: Using backend LokyBackend with 12 concurrent workers.\n"
     ]
    },
    {
     "name": "stdout",
     "output_type": "stream",
     "text": [
      "1500\n"
     ]
    },
    {
     "name": "stderr",
     "output_type": "stream",
     "text": [
      "[Parallel(n_jobs=-1)]: Done   2 out of   5 | elapsed:   45.1s remaining:  1.1min\n",
      "[Parallel(n_jobs=-1)]: Done   3 out of   5 | elapsed:   45.7s remaining:   30.4s\n",
      "[Parallel(n_jobs=-1)]: Done   5 out of   5 | elapsed:   46.1s remaining:    0.0s\n",
      "[Parallel(n_jobs=-1)]: Done   5 out of   5 | elapsed:   46.1s finished\n",
      "[Parallel(n_jobs=-1)]: Using backend LokyBackend with 12 concurrent workers.\n"
     ]
    },
    {
     "name": "stdout",
     "output_type": "stream",
     "text": [
      "1600\n"
     ]
    },
    {
     "name": "stderr",
     "output_type": "stream",
     "text": [
      "[Parallel(n_jobs=-1)]: Done   2 out of   5 | elapsed:   47.2s remaining:  1.2min\n",
      "[Parallel(n_jobs=-1)]: Done   3 out of   5 | elapsed:   47.3s remaining:   31.5s\n",
      "[Parallel(n_jobs=-1)]: Done   5 out of   5 | elapsed:   48.3s remaining:    0.0s\n",
      "[Parallel(n_jobs=-1)]: Done   5 out of   5 | elapsed:   48.3s finished\n",
      "[Parallel(n_jobs=-1)]: Using backend LokyBackend with 12 concurrent workers.\n"
     ]
    },
    {
     "name": "stdout",
     "output_type": "stream",
     "text": [
      "1700\n"
     ]
    },
    {
     "name": "stderr",
     "output_type": "stream",
     "text": [
      "[Parallel(n_jobs=-1)]: Done   2 out of   5 | elapsed:   52.0s remaining:  1.3min\n",
      "[Parallel(n_jobs=-1)]: Done   3 out of   5 | elapsed:   52.0s remaining:   34.7s\n",
      "[Parallel(n_jobs=-1)]: Done   5 out of   5 | elapsed:   53.1s remaining:    0.0s\n",
      "[Parallel(n_jobs=-1)]: Done   5 out of   5 | elapsed:   53.1s finished\n",
      "[Parallel(n_jobs=-1)]: Using backend LokyBackend with 12 concurrent workers.\n"
     ]
    },
    {
     "name": "stdout",
     "output_type": "stream",
     "text": [
      "1800\n"
     ]
    },
    {
     "name": "stderr",
     "output_type": "stream",
     "text": [
      "[Parallel(n_jobs=-1)]: Done   2 out of   5 | elapsed:   55.5s remaining:  1.4min\n",
      "[Parallel(n_jobs=-1)]: Done   3 out of   5 | elapsed:   55.7s remaining:   37.1s\n",
      "[Parallel(n_jobs=-1)]: Done   5 out of   5 | elapsed:   55.8s remaining:    0.0s\n",
      "[Parallel(n_jobs=-1)]: Done   5 out of   5 | elapsed:   55.8s finished\n",
      "[Parallel(n_jobs=-1)]: Using backend LokyBackend with 12 concurrent workers.\n"
     ]
    },
    {
     "name": "stdout",
     "output_type": "stream",
     "text": [
      "1900\n"
     ]
    },
    {
     "name": "stderr",
     "output_type": "stream",
     "text": [
      "[Parallel(n_jobs=-1)]: Done   2 out of   5 | elapsed:   55.8s remaining:  1.4min\n",
      "[Parallel(n_jobs=-1)]: Done   3 out of   5 | elapsed:   55.8s remaining:   37.2s\n",
      "[Parallel(n_jobs=-1)]: Done   5 out of   5 | elapsed:   57.0s remaining:    0.0s\n",
      "[Parallel(n_jobs=-1)]: Done   5 out of   5 | elapsed:   57.0s finished\n",
      "[Parallel(n_jobs=-1)]: Using backend LokyBackend with 12 concurrent workers.\n"
     ]
    },
    {
     "name": "stdout",
     "output_type": "stream",
     "text": [
      "2000\n"
     ]
    },
    {
     "name": "stderr",
     "output_type": "stream",
     "text": [
      "[Parallel(n_jobs=-1)]: Done   2 out of   5 | elapsed:  1.0min remaining:  1.5min\n",
      "[Parallel(n_jobs=-1)]: Done   3 out of   5 | elapsed:  1.0min remaining:   41.0s\n",
      "[Parallel(n_jobs=-1)]: Done   5 out of   5 | elapsed:  1.0min remaining:    0.0s\n",
      "[Parallel(n_jobs=-1)]: Done   5 out of   5 | elapsed:  1.0min finished\n",
      "[Parallel(n_jobs=-1)]: Using backend LokyBackend with 12 concurrent workers.\n"
     ]
    },
    {
     "name": "stdout",
     "output_type": "stream",
     "text": [
      "2100\n"
     ]
    },
    {
     "name": "stderr",
     "output_type": "stream",
     "text": [
      "[Parallel(n_jobs=-1)]: Done   2 out of   5 | elapsed:  1.1min remaining:  1.6min\n",
      "[Parallel(n_jobs=-1)]: Done   3 out of   5 | elapsed:  1.1min remaining:   43.4s\n",
      "[Parallel(n_jobs=-1)]: Done   5 out of   5 | elapsed:  1.1min remaining:    0.0s\n",
      "[Parallel(n_jobs=-1)]: Done   5 out of   5 | elapsed:  1.1min finished\n",
      "[Parallel(n_jobs=-1)]: Using backend LokyBackend with 12 concurrent workers.\n"
     ]
    },
    {
     "name": "stdout",
     "output_type": "stream",
     "text": [
      "2200\n"
     ]
    },
    {
     "name": "stderr",
     "output_type": "stream",
     "text": [
      "[Parallel(n_jobs=-1)]: Done   2 out of   5 | elapsed:  1.1min remaining:  1.7min\n",
      "[Parallel(n_jobs=-1)]: Done   3 out of   5 | elapsed:  1.1min remaining:   45.3s\n",
      "[Parallel(n_jobs=-1)]: Done   5 out of   5 | elapsed:  1.1min remaining:    0.0s\n",
      "[Parallel(n_jobs=-1)]: Done   5 out of   5 | elapsed:  1.1min finished\n",
      "[Parallel(n_jobs=-1)]: Using backend LokyBackend with 12 concurrent workers.\n"
     ]
    },
    {
     "name": "stdout",
     "output_type": "stream",
     "text": [
      "2300\n"
     ]
    },
    {
     "name": "stderr",
     "output_type": "stream",
     "text": [
      "[Parallel(n_jobs=-1)]: Done   2 out of   5 | elapsed:  1.2min remaining:  1.8min\n",
      "[Parallel(n_jobs=-1)]: Done   3 out of   5 | elapsed:  1.2min remaining:   47.4s\n",
      "[Parallel(n_jobs=-1)]: Done   5 out of   5 | elapsed:  1.2min remaining:    0.0s\n",
      "[Parallel(n_jobs=-1)]: Done   5 out of   5 | elapsed:  1.2min finished\n",
      "[Parallel(n_jobs=-1)]: Using backend LokyBackend with 12 concurrent workers.\n"
     ]
    },
    {
     "name": "stdout",
     "output_type": "stream",
     "text": [
      "2400\n"
     ]
    },
    {
     "name": "stderr",
     "output_type": "stream",
     "text": [
      "[Parallel(n_jobs=-1)]: Done   2 out of   5 | elapsed:  1.2min remaining:  1.8min\n",
      "[Parallel(n_jobs=-1)]: Done   3 out of   5 | elapsed:  1.2min remaining:   47.5s\n",
      "[Parallel(n_jobs=-1)]: Done   5 out of   5 | elapsed:  1.2min remaining:    0.0s\n",
      "[Parallel(n_jobs=-1)]: Done   5 out of   5 | elapsed:  1.2min finished\n",
      "[Parallel(n_jobs=-1)]: Using backend LokyBackend with 12 concurrent workers.\n"
     ]
    },
    {
     "name": "stdout",
     "output_type": "stream",
     "text": [
      "2500\n"
     ]
    },
    {
     "name": "stderr",
     "output_type": "stream",
     "text": [
      "[Parallel(n_jobs=-1)]: Done   2 out of   5 | elapsed:  1.2min remaining:  1.8min\n",
      "[Parallel(n_jobs=-1)]: Done   3 out of   5 | elapsed:  1.2min remaining:   48.6s\n",
      "[Parallel(n_jobs=-1)]: Done   5 out of   5 | elapsed:  1.2min remaining:    0.0s\n",
      "[Parallel(n_jobs=-1)]: Done   5 out of   5 | elapsed:  1.2min finished\n"
     ]
    }
   ],
   "source": [
    "# repeating the same process as above this time using n_estimators from 700 to 2500 in steps of 100, depth 2\n",
    "scoring = ['neg_mean_squared_error', 'r2']\n",
    "n_estimators_list = []\n",
    "train_mse_2_2=[]\n",
    "test_mse_2_2=[]\n",
    "train_r2_2_2=[]\n",
    "test_r2_2_2=[]\n",
    "\n",
    "for n in np.arange(700, 2600, 100):\n",
    "  print(n)\n",
    "  gb_model_tune = GradientBoostingRegressor(n_estimators=n, learning_rate=0.1, max_depth=2)\n",
    "\n",
    "  score = cross_validate(gb_model_tune, X_train, y_train, scoring=scoring, cv=5, n_jobs=-1, return_train_score=True, verbose = 10)\n",
    "  \n",
    "  n_estimators_list.append(n)\n",
    "  train_mse_2_2.append(np.abs(score['train_neg_mean_squared_error'].mean()))\n",
    "  test_mse_2_2.append(np.abs(score['test_neg_mean_squared_error'].mean()))\n",
    "  train_r2_2_2.append(np.abs(score['train_r2'].mean()))\n",
    "  test_r2_2_2.append(np.abs(score['test_r2'].mean()))"
   ]
  },
  {
   "cell_type": "code",
   "execution_count": 87,
   "metadata": {},
   "outputs": [
    {
     "data": {
      "image/png": "[encoded data removed]",
      "text/plain": [
       "<Figure size 1008x432 with 2 Axes>"
      ]
     },
     "metadata": {
      "needs_background": "light"
     },
     "output_type": "display_data"
    }
   ],
   "source": [
    "# plotting the scores on two different plots\n",
    "fig, axs = plt.subplots(1,2, figsize=(14,6))\n",
    "axs[0].plot(n_estimators_list, train_mse_1_1, label='Train MSE')\n",
    "axs[0].plot(n_estimators_list, test_mse_1_1, label='Test MSE')\n",
    "axs[0].plot(n_estimators_list, train_mse_2_2, label='Train MSE Depth 2')\n",
    "axs[0].plot(n_estimators_list, test_mse_2_2, label='Test MSE Depth 2')\n",
    "axs[0].set_title('MSE')\n",
    "axs[0].legend()\n",
    "\n",
    "axs[1].plot(n_estimators_list, train_r2_1_1, label='Train R2')\n",
    "axs[1].plot(n_estimators_list, test_r2_1_1, label='Test R2')\n",
    "axs[1].plot(n_estimators_list, train_r2_2_2, label='Train R2 Depth 2')\n",
    "axs[1].plot(n_estimators_list, test_r2_2_2, label='Test R2 Depth 2')\n",
    "axs[1].set_title('R2')\n",
    "axs[1].legend()\n",
    "\n",
    "plt.show()"
   ]
  },
  {
   "cell_type": "markdown",
   "metadata": {},
   "source": [
    "## Gradient Boosting Model Tuning part 4"
   ]
  },
  {
   "cell_type": "code",
   "execution_count": 88,
   "metadata": {},
   "outputs": [
    {
     "name": "stdout",
     "output_type": "stream",
     "text": [
      "1000\n"
     ]
    },
    {
     "name": "stderr",
     "output_type": "stream",
     "text": [
      "[Parallel(n_jobs=-1)]: Using backend LokyBackend with 12 concurrent workers.\n",
      "[Parallel(n_jobs=-1)]: Done   2 out of   5 | elapsed:   14.9s remaining:   22.3s\n",
      "[Parallel(n_jobs=-1)]: Done   3 out of   5 | elapsed:   14.9s remaining:    9.9s\n",
      "[Parallel(n_jobs=-1)]: Done   5 out of   5 | elapsed:   14.9s remaining:    0.0s\n",
      "[Parallel(n_jobs=-1)]: Done   5 out of   5 | elapsed:   14.9s finished\n",
      "[Parallel(n_jobs=-1)]: Using backend LokyBackend with 12 concurrent workers.\n"
     ]
    },
    {
     "name": "stdout",
     "output_type": "stream",
     "text": [
      "1500\n"
     ]
    },
    {
     "name": "stderr",
     "output_type": "stream",
     "text": [
      "[Parallel(n_jobs=-1)]: Done   2 out of   5 | elapsed:   22.1s remaining:   33.2s\n",
      "[Parallel(n_jobs=-1)]: Done   3 out of   5 | elapsed:   22.1s remaining:   14.7s\n",
      "[Parallel(n_jobs=-1)]: Done   5 out of   5 | elapsed:   22.2s remaining:    0.0s\n",
      "[Parallel(n_jobs=-1)]: Done   5 out of   5 | elapsed:   22.2s finished\n"
     ]
    },
    {
     "name": "stdout",
     "output_type": "stream",
     "text": [
      "2000\n"
     ]
    },
    {
     "name": "stderr",
     "output_type": "stream",
     "text": [
      "[Parallel(n_jobs=-1)]: Using backend LokyBackend with 12 concurrent workers.\n",
      "[Parallel(n_jobs=-1)]: Done   2 out of   5 | elapsed:   29.4s remaining:   44.1s\n",
      "[Parallel(n_jobs=-1)]: Done   3 out of   5 | elapsed:   29.5s remaining:   19.7s\n",
      "[Parallel(n_jobs=-1)]: Done   5 out of   5 | elapsed:   29.6s remaining:    0.0s\n",
      "[Parallel(n_jobs=-1)]: Done   5 out of   5 | elapsed:   29.6s finished\n",
      "[Parallel(n_jobs=-1)]: Using backend LokyBackend with 12 concurrent workers.\n"
     ]
    },
    {
     "name": "stdout",
     "output_type": "stream",
     "text": [
      "2500\n"
     ]
    },
    {
     "name": "stderr",
     "output_type": "stream",
     "text": [
      "[Parallel(n_jobs=-1)]: Done   2 out of   5 | elapsed:   36.8s remaining:   55.3s\n",
      "[Parallel(n_jobs=-1)]: Done   3 out of   5 | elapsed:   37.2s remaining:   24.7s\n",
      "[Parallel(n_jobs=-1)]: Done   5 out of   5 | elapsed:   37.8s remaining:    0.0s\n",
      "[Parallel(n_jobs=-1)]: Done   5 out of   5 | elapsed:   37.8s finished\n",
      "[Parallel(n_jobs=-1)]: Using backend LokyBackend with 12 concurrent workers.\n"
     ]
    },
    {
     "name": "stdout",
     "output_type": "stream",
     "text": [
      "3000\n"
     ]
    },
    {
     "name": "stderr",
     "output_type": "stream",
     "text": [
      "[Parallel(n_jobs=-1)]: Done   2 out of   5 | elapsed:   45.8s remaining:  1.1min\n",
      "[Parallel(n_jobs=-1)]: Done   3 out of   5 | elapsed:   45.8s remaining:   30.5s\n",
      "[Parallel(n_jobs=-1)]: Done   5 out of   5 | elapsed:   46.2s remaining:    0.0s\n",
      "[Parallel(n_jobs=-1)]: Done   5 out of   5 | elapsed:   46.2s finished\n",
      "[Parallel(n_jobs=-1)]: Using backend LokyBackend with 12 concurrent workers.\n"
     ]
    },
    {
     "name": "stdout",
     "output_type": "stream",
     "text": [
      "3500\n"
     ]
    },
    {
     "name": "stderr",
     "output_type": "stream",
     "text": [
      "[Parallel(n_jobs=-1)]: Done   2 out of   5 | elapsed:   51.9s remaining:  1.3min\n",
      "[Parallel(n_jobs=-1)]: Done   3 out of   5 | elapsed:   52.0s remaining:   34.6s\n",
      "[Parallel(n_jobs=-1)]: Done   5 out of   5 | elapsed:   52.4s remaining:    0.0s\n",
      "[Parallel(n_jobs=-1)]: Done   5 out of   5 | elapsed:   52.4s finished\n"
     ]
    }
   ],
   "source": [
    "# repeating the same process as above this time using n_estimators from 1000 to 4000 in steps of 500, depth 1\n",
    "scoring = ['neg_mean_squared_error', 'r2']\n",
    "n_estimators_list = []\n",
    "train_mse_1_2=[]\n",
    "test_mse_1_2=[]\n",
    "train_r2_1_2=[]\n",
    "test_r2_1_2=[]\n",
    "\n",
    "for n in np.arange(1000, 4000, 500):\n",
    "  print(n)\n",
    "  gb_model_tune = GradientBoostingRegressor(n_estimators=n, learning_rate=0.1, max_depth=1)\n",
    "\n",
    "  score = cross_validate(gb_model_tune, X_train, y_train, scoring=scoring, cv=5, n_jobs=-1, return_train_score=True, verbose = 10)\n",
    "  \n",
    "  n_estimators_list.append(n)\n",
    "  train_mse_1_2.append(np.abs(score['train_neg_mean_squared_error'].mean()))\n",
    "  test_mse_1_2.append(np.abs(score['test_neg_mean_squared_error'].mean()))\n",
    "  train_r2_1_2.append(np.abs(score['train_r2'].mean()))\n",
    "  test_r2_1_2.append(np.abs(score['test_r2'].mean()))"
   ]
  },
  {
   "cell_type": "code",
   "execution_count": 89,
   "metadata": {},
   "outputs": [
    {
     "data": {
      "image/png": "[encoded data removed]",
      "text/plain": [
       "<Figure size 1008x432 with 2 Axes>"
      ]
     },
     "metadata": {
      "needs_background": "light"
     },
     "output_type": "display_data"
    }
   ],
   "source": [
    "# plotting the scores on two different plots\n",
    "fig, axs = plt.subplots(1,2, figsize=(14,6))\n",
    "axs[0].plot(n_estimators_list, train_mse_1_2, label='Train MSE')\n",
    "axs[0].plot(n_estimators_list, test_mse_1_2, label='Test MSE')\n",
    "axs[0].set_title('MSE')\n",
    "axs[0].legend()\n",
    "\n",
    "axs[1].plot(n_estimators_list, train_r2_1_2, label='Train R2')\n",
    "axs[1].plot(n_estimators_list, test_r2_1_2, label='Test R2')\n",
    "axs[1].set_title('R2')\n",
    "axs[1].legend()\n",
    "\n",
    "plt.show()"
   ]
  },
  {
   "cell_type": "code",
   "execution_count": 90,
   "metadata": {},
   "outputs": [
    {
     "name": "stdout",
     "output_type": "stream",
     "text": [
      "1000\n"
     ]
    },
    {
     "name": "stderr",
     "output_type": "stream",
     "text": [
      "[Parallel(n_jobs=-1)]: Using backend LokyBackend with 12 concurrent workers.\n",
      "[Parallel(n_jobs=-1)]: Done   2 out of   5 | elapsed:   30.4s remaining:   45.6s\n",
      "[Parallel(n_jobs=-1)]: Done   3 out of   5 | elapsed:   30.4s remaining:   20.3s\n",
      "[Parallel(n_jobs=-1)]: Done   5 out of   5 | elapsed:   30.5s remaining:    0.0s\n",
      "[Parallel(n_jobs=-1)]: Done   5 out of   5 | elapsed:   30.5s finished\n"
     ]
    },
    {
     "name": "stdout",
     "output_type": "stream",
     "text": [
      "1500\n"
     ]
    },
    {
     "name": "stderr",
     "output_type": "stream",
     "text": [
      "[Parallel(n_jobs=-1)]: Using backend LokyBackend with 12 concurrent workers.\n",
      "[Parallel(n_jobs=-1)]: Done   2 out of   5 | elapsed:   47.1s remaining:  1.2min\n",
      "[Parallel(n_jobs=-1)]: Done   3 out of   5 | elapsed:   47.2s remaining:   31.4s\n",
      "[Parallel(n_jobs=-1)]: Done   5 out of   5 | elapsed:   47.3s remaining:    0.0s\n",
      "[Parallel(n_jobs=-1)]: Done   5 out of   5 | elapsed:   47.3s finished\n"
     ]
    },
    {
     "name": "stdout",
     "output_type": "stream",
     "text": [
      "2000\n"
     ]
    },
    {
     "name": "stderr",
     "output_type": "stream",
     "text": [
      "[Parallel(n_jobs=-1)]: Using backend LokyBackend with 12 concurrent workers.\n",
      "[Parallel(n_jobs=-1)]: Done   2 out of   5 | elapsed:   58.6s remaining:  1.5min\n",
      "[Parallel(n_jobs=-1)]: Done   3 out of   5 | elapsed:   58.7s remaining:   39.1s\n",
      "[Parallel(n_jobs=-1)]: Done   5 out of   5 | elapsed:   59.1s remaining:    0.0s\n",
      "[Parallel(n_jobs=-1)]: Done   5 out of   5 | elapsed:   59.1s finished\n",
      "[Parallel(n_jobs=-1)]: Using backend LokyBackend with 12 concurrent workers.\n"
     ]
    },
    {
     "name": "stdout",
     "output_type": "stream",
     "text": [
      "2500\n"
     ]
    },
    {
     "name": "stderr",
     "output_type": "stream",
     "text": [
      "[Parallel(n_jobs=-1)]: Done   2 out of   5 | elapsed:  1.2min remaining:  1.8min\n",
      "[Parallel(n_jobs=-1)]: Done   3 out of   5 | elapsed:  1.2min remaining:   49.1s\n",
      "[Parallel(n_jobs=-1)]: Done   5 out of   5 | elapsed:  1.2min remaining:    0.0s\n",
      "[Parallel(n_jobs=-1)]: Done   5 out of   5 | elapsed:  1.2min finished\n",
      "[Parallel(n_jobs=-1)]: Using backend LokyBackend with 12 concurrent workers.\n"
     ]
    },
    {
     "name": "stdout",
     "output_type": "stream",
     "text": [
      "3000\n"
     ]
    },
    {
     "name": "stderr",
     "output_type": "stream",
     "text": [
      "[Parallel(n_jobs=-1)]: Done   2 out of   5 | elapsed:  1.5min remaining:  2.2min\n",
      "[Parallel(n_jobs=-1)]: Done   3 out of   5 | elapsed:  1.5min remaining:   59.9s\n",
      "[Parallel(n_jobs=-1)]: Done   5 out of   5 | elapsed:  1.5min remaining:    0.0s\n",
      "[Parallel(n_jobs=-1)]: Done   5 out of   5 | elapsed:  1.5min finished\n",
      "[Parallel(n_jobs=-1)]: Using backend LokyBackend with 12 concurrent workers.\n"
     ]
    },
    {
     "name": "stdout",
     "output_type": "stream",
     "text": [
      "3500\n"
     ]
    },
    {
     "name": "stderr",
     "output_type": "stream",
     "text": [
      "[Parallel(n_jobs=-1)]: Done   2 out of   5 | elapsed:  1.7min remaining:  2.6min\n",
      "[Parallel(n_jobs=-1)]: Done   3 out of   5 | elapsed:  1.7min remaining:  1.1min\n",
      "[Parallel(n_jobs=-1)]: Done   5 out of   5 | elapsed:  1.7min remaining:    0.0s\n",
      "[Parallel(n_jobs=-1)]: Done   5 out of   5 | elapsed:  1.7min finished\n"
     ]
    }
   ],
   "source": [
    "# repeating the same process as above this time using n_estimators from 1000 to 4000 in steps of 500, max depth 2\n",
    "scoring = ['neg_mean_squared_error', 'r2']\n",
    "n_estimators_list = []\n",
    "train_mse_2_2=[]\n",
    "test_mse_2_2=[]\n",
    "train_r2_2_2=[]\n",
    "test_r2_2_2=[]\n",
    "\n",
    "for n in np.arange(1000, 4000, 500):\n",
    "  print(n)\n",
    "  gb_model_tune = GradientBoostingRegressor(n_estimators=n, learning_rate=0.1, max_depth=2)\n",
    "\n",
    "  score = cross_validate(gb_model_tune, X_train, y_train, scoring=scoring, cv=5, n_jobs=-1, return_train_score=True, verbose = 10)\n",
    "  \n",
    "  n_estimators_list.append(n)\n",
    "  train_mse_2_2.append(np.abs(score['train_neg_mean_squared_error'].mean()))\n",
    "  test_mse_2_2.append(np.abs(score['test_neg_mean_squared_error'].mean()))\n",
    "  train_r2_2_2.append(np.abs(score['train_r2'].mean()))\n",
    "  test_r2_2_2.append(np.abs(score['test_r2'].mean()))"
   ]
  },
  {
   "cell_type": "code",
   "execution_count": 91,
   "metadata": {},
   "outputs": [
    {
     "data": {
      "image/png": "[encoded data removed]",
      "text/plain": [
       "<Figure size 1008x432 with 2 Axes>"
      ]
     },
     "metadata": {
      "needs_background": "light"
     },
     "output_type": "display_data"
    }
   ],
   "source": [
    "# plotting the scores on two different plots\n",
    "fig, axs = plt.subplots(1,2, figsize=(14,6))\n",
    "axs[0].plot(n_estimators_list, train_mse_1_2, label='Train MSE')\n",
    "axs[0].plot(n_estimators_list, test_mse_1_2, label='Test MSE')\n",
    "axs[0].plot(n_estimators_list, train_mse_2_2, label='Train MSE Depth 2')\n",
    "axs[0].plot(n_estimators_list, test_mse_2_2, label='Test MSE Depth 2')\n",
    "axs[0].set_title('MSE')\n",
    "axs[0].legend()\n",
    "\n",
    "axs[1].plot(n_estimators_list, train_r2_1_2, label='Train R2')\n",
    "axs[1].plot(n_estimators_list, test_r2_1_2, label='Test R2')\n",
    "axs[1].plot(n_estimators_list, train_r2_2_2, label='Train R2 Depth 2')\n",
    "axs[1].plot(n_estimators_list, test_r2_2_2, label='Test R2 Depth 2')\n",
    "axs[1].set_title('R2')\n",
    "axs[1].legend()\n",
    "\n",
    "plt.show()"
   ]
  },
  {
   "cell_type": "code",
   "execution_count": 92,
   "metadata": {},
   "outputs": [
    {
     "name": "stdout",
     "output_type": "stream",
     "text": [
      "1000\n"
     ]
    },
    {
     "name": "stderr",
     "output_type": "stream",
     "text": [
      "[Parallel(n_jobs=-1)]: Using backend LokyBackend with 12 concurrent workers.\n",
      "[Parallel(n_jobs=-1)]: Done   2 out of   5 | elapsed:   46.3s remaining:  1.2min\n",
      "[Parallel(n_jobs=-1)]: Done   3 out of   5 | elapsed:   46.4s remaining:   30.9s\n",
      "[Parallel(n_jobs=-1)]: Done   5 out of   5 | elapsed:   46.6s remaining:    0.0s\n",
      "[Parallel(n_jobs=-1)]: Done   5 out of   5 | elapsed:   46.6s finished\n",
      "[Parallel(n_jobs=-1)]: Using backend LokyBackend with 12 concurrent workers.\n"
     ]
    },
    {
     "name": "stdout",
     "output_type": "stream",
     "text": [
      "1500\n"
     ]
    },
    {
     "name": "stderr",
     "output_type": "stream",
     "text": [
      "[Parallel(n_jobs=-1)]: Done   2 out of   5 | elapsed:  1.1min remaining:  1.7min\n",
      "[Parallel(n_jobs=-1)]: Done   3 out of   5 | elapsed:  1.1min remaining:   44.7s\n",
      "[Parallel(n_jobs=-1)]: Done   5 out of   5 | elapsed:  1.1min remaining:    0.0s\n",
      "[Parallel(n_jobs=-1)]: Done   5 out of   5 | elapsed:  1.1min finished\n",
      "[Parallel(n_jobs=-1)]: Using backend LokyBackend with 12 concurrent workers.\n"
     ]
    },
    {
     "name": "stdout",
     "output_type": "stream",
     "text": [
      "2000\n"
     ]
    },
    {
     "name": "stderr",
     "output_type": "stream",
     "text": [
      "[Parallel(n_jobs=-1)]: Done   2 out of   5 | elapsed:  1.5min remaining:  2.3min\n",
      "[Parallel(n_jobs=-1)]: Done   3 out of   5 | elapsed:  1.6min remaining:  1.0min\n",
      "[Parallel(n_jobs=-1)]: Done   5 out of   5 | elapsed:  1.6min remaining:    0.0s\n",
      "[Parallel(n_jobs=-1)]: Done   5 out of   5 | elapsed:  1.6min finished\n",
      "[Parallel(n_jobs=-1)]: Using backend LokyBackend with 12 concurrent workers.\n"
     ]
    },
    {
     "name": "stdout",
     "output_type": "stream",
     "text": [
      "2500\n"
     ]
    },
    {
     "name": "stderr",
     "output_type": "stream",
     "text": [
      "[Parallel(n_jobs=-1)]: Done   2 out of   5 | elapsed:  1.8min remaining:  2.8min\n",
      "[Parallel(n_jobs=-1)]: Done   3 out of   5 | elapsed:  1.8min remaining:  1.2min\n",
      "[Parallel(n_jobs=-1)]: Done   5 out of   5 | elapsed:  1.8min remaining:    0.0s\n",
      "[Parallel(n_jobs=-1)]: Done   5 out of   5 | elapsed:  1.8min finished\n"
     ]
    },
    {
     "name": "stdout",
     "output_type": "stream",
     "text": [
      "3000\n"
     ]
    },
    {
     "name": "stderr",
     "output_type": "stream",
     "text": [
      "[Parallel(n_jobs=-1)]: Using backend LokyBackend with 12 concurrent workers.\n",
      "[Parallel(n_jobs=-1)]: Done   2 out of   5 | elapsed:  2.2min remaining:  3.4min\n",
      "[Parallel(n_jobs=-1)]: Done   3 out of   5 | elapsed:  2.2min remaining:  1.5min\n",
      "[Parallel(n_jobs=-1)]: Done   5 out of   5 | elapsed:  2.2min remaining:    0.0s\n",
      "[Parallel(n_jobs=-1)]: Done   5 out of   5 | elapsed:  2.2min finished\n",
      "[Parallel(n_jobs=-1)]: Using backend LokyBackend with 12 concurrent workers.\n"
     ]
    },
    {
     "name": "stdout",
     "output_type": "stream",
     "text": [
      "3500\n"
     ]
    },
    {
     "name": "stderr",
     "output_type": "stream",
     "text": [
      "[Parallel(n_jobs=-1)]: Done   2 out of   5 | elapsed:  2.7min remaining:  4.0min\n",
      "[Parallel(n_jobs=-1)]: Done   3 out of   5 | elapsed:  2.7min remaining:  1.8min\n",
      "[Parallel(n_jobs=-1)]: Done   5 out of   5 | elapsed:  2.7min remaining:    0.0s\n",
      "[Parallel(n_jobs=-1)]: Done   5 out of   5 | elapsed:  2.7min finished\n"
     ]
    }
   ],
   "source": [
    "# repeating the same process as above this time using n_estimators from 1000 to 4000 in steps of 500, max depth 2\n",
    "scoring = ['neg_mean_squared_error', 'r2']\n",
    "n_estimators_list = []\n",
    "train_mse_3_2=[]\n",
    "test_mse_3_2=[]\n",
    "train_r2_3_2=[]\n",
    "test_r2_3_2=[]\n",
    "\n",
    "for n in np.arange(1000, 4000, 500):\n",
    "  print(n)\n",
    "  gb_model_tune = GradientBoostingRegressor(n_estimators=n, learning_rate=0.1, max_depth=3)\n",
    "\n",
    "  score = cross_validate(gb_model_tune, X_train, y_train, scoring=scoring, cv=5, n_jobs=-1, return_train_score=True, verbose = 10)\n",
    "  \n",
    "  n_estimators_list.append(n)\n",
    "  train_mse_3_2.append(np.abs(score['train_neg_mean_squared_error'].mean()))\n",
    "  test_mse_3_2.append(np.abs(score['test_neg_mean_squared_error'].mean()))\n",
    "  train_r2_3_2.append(np.abs(score['train_r2'].mean()))\n",
    "  test_r2_3_2.append(np.abs(score['test_r2'].mean()))"
   ]
  },
  {
   "cell_type": "code",
   "execution_count": 93,
   "metadata": {},
   "outputs": [
    {
     "data": {
      "image/png": "[encoded data removed]",
      "text/plain": [
       "<Figure size 1008x432 with 2 Axes>"
      ]
     },
     "metadata": {
      "needs_background": "light"
     },
     "output_type": "display_data"
    }
   ],
   "source": [
    "# plotting the scores on two different plots\n",
    "fig, axs = plt.subplots(1,2, figsize=(14,6))\n",
    "axs[0].plot(n_estimators_list, train_mse_1_2, label='Train MSE')\n",
    "axs[0].plot(n_estimators_list, test_mse_1_2, label='Test MSE')\n",
    "axs[0].plot(n_estimators_list, train_mse_2_2, label='Train MSE Depth 2')\n",
    "axs[0].plot(n_estimators_list, test_mse_2_2, label='Test MSE Depth 2')\n",
    "axs[0].plot(n_estimators_list, train_mse_3_2, label='Train MSE Depth 3')\n",
    "axs[0].plot(n_estimators_list, test_mse_3_2, label='Test MSE Depth 3')\n",
    "axs[0].set_title('MSE')\n",
    "axs[0].legend()\n",
    "\n",
    "axs[1].plot(n_estimators_list, train_r2_1_2, label='Train R2')\n",
    "axs[1].plot(n_estimators_list, test_r2_1_2, label='Test R2')\n",
    "axs[1].plot(n_estimators_list, train_r2_2_2, label='Train R2 Depth 2')\n",
    "axs[1].plot(n_estimators_list, test_r2_2_2, label='Test R2 Depth 2')\n",
    "axs[1].plot(n_estimators_list, train_r2_3_2, label='Train R2 Depth 3')\n",
    "axs[1].plot(n_estimators_list, test_r2_3_2, label='Test R2 Depth 3')\n",
    "axs[1].set_title('R2')\n",
    "axs[1].legend()\n",
    "\n",
    "plt.show()"
   ]
  },
  {
   "cell_type": "code",
   "execution_count": 94,
   "metadata": {},
   "outputs": [
    {
     "name": "stdout",
     "output_type": "stream",
     "text": [
      "1000\n"
     ]
    },
    {
     "name": "stderr",
     "output_type": "stream",
     "text": [
      "[Parallel(n_jobs=-1)]: Using backend LokyBackend with 12 concurrent workers.\n",
      "[Parallel(n_jobs=-1)]: Done   2 out of   5 | elapsed:   59.0s remaining:  1.5min\n",
      "[Parallel(n_jobs=-1)]: Done   3 out of   5 | elapsed:   59.1s remaining:   39.4s\n",
      "[Parallel(n_jobs=-1)]: Done   5 out of   5 | elapsed:   59.3s remaining:    0.0s\n",
      "[Parallel(n_jobs=-1)]: Done   5 out of   5 | elapsed:   59.3s finished\n",
      "[Parallel(n_jobs=-1)]: Using backend LokyBackend with 12 concurrent workers.\n"
     ]
    },
    {
     "name": "stdout",
     "output_type": "stream",
     "text": [
      "1500\n"
     ]
    },
    {
     "name": "stderr",
     "output_type": "stream",
     "text": [
      "[Parallel(n_jobs=-1)]: Done   2 out of   5 | elapsed:  1.5min remaining:  2.2min\n",
      "[Parallel(n_jobs=-1)]: Done   3 out of   5 | elapsed:  1.5min remaining:   59.6s\n",
      "[Parallel(n_jobs=-1)]: Done   5 out of   5 | elapsed:  1.5min remaining:    0.0s\n",
      "[Parallel(n_jobs=-1)]: Done   5 out of   5 | elapsed:  1.5min finished\n",
      "[Parallel(n_jobs=-1)]: Using backend LokyBackend with 12 concurrent workers.\n"
     ]
    },
    {
     "name": "stdout",
     "output_type": "stream",
     "text": [
      "2000\n"
     ]
    },
    {
     "name": "stderr",
     "output_type": "stream",
     "text": [
      "[Parallel(n_jobs=-1)]: Done   2 out of   5 | elapsed:  2.0min remaining:  3.0min\n",
      "[Parallel(n_jobs=-1)]: Done   3 out of   5 | elapsed:  2.0min remaining:  1.3min\n",
      "[Parallel(n_jobs=-1)]: Done   5 out of   5 | elapsed:  2.0min remaining:    0.0s\n",
      "[Parallel(n_jobs=-1)]: Done   5 out of   5 | elapsed:  2.0min finished\n",
      "[Parallel(n_jobs=-1)]: Using backend LokyBackend with 12 concurrent workers.\n"
     ]
    },
    {
     "name": "stdout",
     "output_type": "stream",
     "text": [
      "2500\n"
     ]
    },
    {
     "name": "stderr",
     "output_type": "stream",
     "text": [
      "[Parallel(n_jobs=-1)]: Done   2 out of   5 | elapsed:  2.5min remaining:  3.7min\n",
      "[Parallel(n_jobs=-1)]: Done   3 out of   5 | elapsed:  2.5min remaining:  1.6min\n",
      "[Parallel(n_jobs=-1)]: Done   5 out of   5 | elapsed:  2.5min remaining:    0.0s\n",
      "[Parallel(n_jobs=-1)]: Done   5 out of   5 | elapsed:  2.5min finished\n",
      "[Parallel(n_jobs=-1)]: Using backend LokyBackend with 12 concurrent workers.\n"
     ]
    },
    {
     "name": "stdout",
     "output_type": "stream",
     "text": [
      "3000\n"
     ]
    },
    {
     "name": "stderr",
     "output_type": "stream",
     "text": [
      "[Parallel(n_jobs=-1)]: Done   2 out of   5 | elapsed:  3.0min remaining:  4.5min\n",
      "[Parallel(n_jobs=-1)]: Done   3 out of   5 | elapsed:  3.0min remaining:  2.0min\n",
      "[Parallel(n_jobs=-1)]: Done   5 out of   5 | elapsed:  3.0min remaining:    0.0s\n",
      "[Parallel(n_jobs=-1)]: Done   5 out of   5 | elapsed:  3.0min finished\n",
      "[Parallel(n_jobs=-1)]: Using backend LokyBackend with 12 concurrent workers.\n"
     ]
    },
    {
     "name": "stdout",
     "output_type": "stream",
     "text": [
      "3500\n"
     ]
    },
    {
     "name": "stderr",
     "output_type": "stream",
     "text": [
      "[Parallel(n_jobs=-1)]: Done   2 out of   5 | elapsed:  3.5min remaining:  5.3min\n",
      "[Parallel(n_jobs=-1)]: Done   3 out of   5 | elapsed:  3.5min remaining:  2.4min\n",
      "[Parallel(n_jobs=-1)]: Done   5 out of   5 | elapsed:  3.5min remaining:    0.0s\n",
      "[Parallel(n_jobs=-1)]: Done   5 out of   5 | elapsed:  3.5min finished\n"
     ]
    }
   ],
   "source": [
    "# repeating the same process as above this time using n_estimators from 1000 to 4000 in steps of 500, max depth 3\n",
    "scoring = ['neg_mean_squared_error', 'r2']\n",
    "n_estimators_list = []\n",
    "train_mse_4_2=[]\n",
    "test_mse_4_2=[]\n",
    "train_r2_4_2=[]\n",
    "test_r2_4_2=[]\n",
    "\n",
    "for n in np.arange(1000, 4000, 500):\n",
    "  print(n)\n",
    "  gb_model_tune = GradientBoostingRegressor(n_estimators=n, learning_rate=0.1, max_depth=4)\n",
    "\n",
    "  score = cross_validate(gb_model_tune, X_train, y_train, scoring=scoring, cv=5, n_jobs=-1, return_train_score=True, verbose = 10)\n",
    "  \n",
    "  n_estimators_list.append(n)\n",
    "  train_mse_4_2.append(np.abs(score['train_neg_mean_squared_error'].mean()))\n",
    "  test_mse_4_2.append(np.abs(score['test_neg_mean_squared_error'].mean()))\n",
    "  train_r2_4_2.append(np.abs(score['train_r2'].mean()))\n",
    "  test_r2_4_2.append(np.abs(score['test_r2'].mean()))"
   ]
  },
  {
   "cell_type": "code",
   "execution_count": 95,
   "metadata": {},
   "outputs": [
    {
     "data": {
      "image/png": "[encoded data removed]",
      "text/plain": [
       "<Figure size 1296x720 with 2 Axes>"
      ]
     },
     "metadata": {
      "needs_background": "light"
     },
     "output_type": "display_data"
    }
   ],
   "source": [
    "# plotting the scores on two different plots\n",
    "fig, axs = plt.subplots(1,2, figsize=(18,10))\n",
    "axs[0].plot(n_estimators_list, train_mse_1_2, label='Train MSE')\n",
    "axs[0].plot(n_estimators_list, test_mse_1_2, label='Test MSE')\n",
    "axs[0].plot(n_estimators_list, train_mse_2_2, label='Train MSE Depth 2')\n",
    "axs[0].plot(n_estimators_list, test_mse_2_2, label='Test MSE Depth 2')\n",
    "axs[0].plot(n_estimators_list, train_mse_3_2, label='Train MSE Depth 3')\n",
    "axs[0].plot(n_estimators_list, test_mse_3_2, label='Test MSE Depth 3')\n",
    "axs[0].plot(n_estimators_list, train_mse_4_2, label='Train MSE Depth 4')\n",
    "axs[0].plot(n_estimators_list, test_mse_4_2, label='Test MSE Depth 4')\n",
    "axs[0].set_title('MSE')\n",
    "axs[0].legend()\n",
    "\n",
    "axs[1].plot(n_estimators_list, train_r2_1_2, label='Train R2')\n",
    "axs[1].plot(n_estimators_list, test_r2_1_2, label='Test R2')\n",
    "axs[1].plot(n_estimators_list, train_r2_2_2, label='Train R2 Depth 2')\n",
    "axs[1].plot(n_estimators_list, test_r2_2_2, label='Test R2 Depth 2')\n",
    "axs[1].plot(n_estimators_list, train_r2_3_2, label='Train R2 Depth 3')\n",
    "axs[1].plot(n_estimators_list, test_r2_3_2, label='Test R2 Depth 3')\n",
    "axs[1].plot(n_estimators_list, train_r2_4_2, label='Train R2 Depth 4')\n",
    "axs[1].plot(n_estimators_list, test_r2_4_2, label='Test R2 Depth 4')\n",
    "axs[1].set_title('R2')\n",
    "axs[1].legend()\n",
    "\n",
    "plt.show()"
   ]
  },
  {
   "cell_type": "markdown",
   "metadata": {},
   "source": [
    "The best model that we created is gradient boosting with n_estimators=2000, learning_rate=0.1 and max_depth=2."
   ]
  },
  {
   "cell_type": "code",
   "execution_count": 96,
   "metadata": {},
   "outputs": [
    {
     "data": {
      "text/plain": [
       "GradientBoostingRegressor(max_depth=2, n_estimators=2000, random_state=42)"
      ]
     },
     "execution_count": 96,
     "metadata": {},
     "output_type": "execute_result"
    }
   ],
   "source": [
    "# creating the best model\n",
    "gb_model_best = GradientBoostingRegressor(n_estimators=2000, max_depth=2, learning_rate=0.1, random_state=42)\n",
    "\n",
    "# fitting the best model\n",
    "gb_model_best.fit(X_train, y_train)"
   ]
  },
  {
   "cell_type": "code",
   "execution_count": 97,
   "metadata": {},
   "outputs": [],
   "source": [
    "# predicting y_train and y_test\n",
    "y_train_pred_best = gb_model_best.predict(X_train)\n",
    "y_test_pred_best = gb_model_best.predict(X_test)"
   ]
  },
  {
   "cell_type": "code",
   "execution_count": 98,
   "metadata": {},
   "outputs": [
    {
     "name": "stdout",
     "output_type": "stream",
     "text": [
      "GB Model Train MSE: 0.09687840957457819\n",
      "GB Model Test MSE: 0.1187939061524705\n",
      "GB Model Train R2: 0.8368071502422304\n",
      "GB Model Test R2: 0.8050084905058467\n"
     ]
    }
   ],
   "source": [
    "# calculating MSE and R2 scores for train and test\n",
    "gb_train_best_mse = mean_squared_error(y_train, y_train_pred_best)\n",
    "gb_test_best_mse = mean_squared_error(y_test, y_test_pred_best)\n",
    "\n",
    "gb_train_best_r2 = r2_score(y_train, y_train_pred_best)\n",
    "gb_test_best_r2 = r2_score(y_test, y_test_pred_best)\n",
    "\n",
    "# display MSE and R2 scores\n",
    "print(f'GB Model Train MSE: {gb_train_best_mse}')\n",
    "print(f'GB Model Test MSE: {gb_test_best_mse}')\n",
    "\n",
    "print(f'GB Model Train R2: {gb_train_best_r2}')\n",
    "print(f'GB Model Test R2: {gb_test_best_r2}')"
   ]
  },
  {
   "cell_type": "markdown",
   "metadata": {},
   "source": [
    "# Training the Model w/ Large Dataset"
   ]
  },
  {
   "cell_type": "code",
   "execution_count": 25,
   "metadata": {},
   "outputs": [],
   "source": [
    "# use the created function to impute the missing values and create missing value dummy variable\n",
    "missing_value_impute(large_df)"
   ]
  },
  {
   "cell_type": "code",
   "execution_count": 26,
   "metadata": {},
   "outputs": [],
   "source": [
    "# construct logarithm car price feature\n",
    "large_df['log_price'] = np.log(large_df['price'])"
   ]
  },
  {
   "cell_type": "code",
   "execution_count": 27,
   "metadata": {},
   "outputs": [],
   "source": [
    "# list of categorical columns\n",
    "num_col = ['year', 'odometer', 'cylinders', 'description_length']\n",
    "\n",
    "cat_col = ['transmission', 'drive', 'type', 'paint_color',\n",
    "          'size', 'title_status', 'condition', 'fuel',\n",
    "          'state', 'manufacturer', 'description_credit', 'description_owner', \n",
    "            'description_badcredit', 'missing_value']"
   ]
  },
  {
   "cell_type": "code",
   "execution_count": 28,
   "metadata": {},
   "outputs": [],
   "source": [
    "# using function to create new large df and the list of dummy column names\n",
    "new_large_df, dummy_col = get_dummies(large_df)"
   ]
  },
  {
   "cell_type": "markdown",
   "metadata": {},
   "source": [
    "# Split data into train and test set"
   ]
  },
  {
   "cell_type": "code",
   "execution_count": 29,
   "metadata": {},
   "outputs": [],
   "source": [
    "# Set X and y\n",
    "X = new_large_df.loc[:, num_col + dummy_col]\n",
    "y = new_large_df['log_price']\n",
    "\n",
    "# splitting the data into train and test\n",
    "X_train, X_test, y_train, y_test = train_test_split(X, y, train_size=0.7, random_state=42)"
   ]
  },
  {
   "cell_type": "markdown",
   "metadata": {},
   "source": [
    "# Best Model"
   ]
  },
  {
   "cell_type": "code",
   "execution_count": 104,
   "metadata": {},
   "outputs": [
    {
     "name": "stdout",
     "output_type": "stream",
     "text": [
      "Wall time: 12min 53s\n"
     ]
    },
    {
     "data": {
      "text/plain": [
       "GradientBoostingRegressor(max_depth=2, n_estimators=2000, random_state=42)"
      ]
     },
     "execution_count": 104,
     "metadata": {},
     "output_type": "execute_result"
    }
   ],
   "source": [
    "%%time\n",
    "# creating the best model\n",
    "gb_model_best = GradientBoostingRegressor(n_estimators=2000, max_depth=2, learning_rate=0.1, random_state=42)\n",
    "\n",
    "# fitting the best model\n",
    "gb_model_best.fit(X_train, y_train)"
   ]
  },
  {
   "cell_type": "code",
   "execution_count": 105,
   "metadata": {},
   "outputs": [],
   "source": [
    "# predicting y_train and y_test\n",
    "y_train_pred_best = gb_model_best.predict(X_train)\n",
    "y_test_pred_best = gb_model_best.predict(X_test)"
   ]
  },
  {
   "cell_type": "code",
   "execution_count": 106,
   "metadata": {},
   "outputs": [
    {
     "name": "stdout",
     "output_type": "stream",
     "text": [
      "GB Model Train MSE: 0.10942469694016607\n",
      "GB Model Test MSE: 0.11083590166048922\n",
      "GB Model Train R2: 0.816638587238133\n",
      "GB Model Test R2: 0.8128705716351073\n"
     ]
    }
   ],
   "source": [
    "# calculating MSE and R2 scores for train and test\n",
    "gb_train_best_mse = mean_squared_error(y_train, y_train_pred_best)\n",
    "gb_test_best_mse = mean_squared_error(y_test, y_test_pred_best)\n",
    "\n",
    "gb_train_best_r2 = r2_score(y_train, y_train_pred_best)\n",
    "gb_test_best_r2 = r2_score(y_test, y_test_pred_best)\n",
    "\n",
    "# display MSE and R2 scores\n",
    "print(f'GB Model Train MSE: {gb_train_best_mse}')\n",
    "print(f'GB Model Test MSE: {gb_test_best_mse}')\n",
    "\n",
    "print(f'GB Model Train R2: {gb_train_best_r2}')\n",
    "print(f'GB Model Test R2: {gb_test_best_r2}')"
   ]
  },
  {
   "cell_type": "markdown",
   "metadata": {},
   "source": [
    "# Save Model"
   ]
  },
  {
   "cell_type": "code",
   "execution_count": 107,
   "metadata": {},
   "outputs": [],
   "source": [
    "# import pickle library to save model\n",
    "import pickle"
   ]
  },
  {
   "cell_type": "code",
   "execution_count": 108,
   "metadata": {},
   "outputs": [],
   "source": [
    "# create file name\n",
    "pkl_filename = \"Assignment4_model.pkl\"  "
   ]
  },
  {
   "cell_type": "code",
   "execution_count": 109,
   "metadata": {},
   "outputs": [],
   "source": [
    "# save model to file\n",
    "with open(pkl_filename, 'wb') as file:  \n",
    "    pickle.dump(gb_model_best, file)"
   ]
  },
  {
   "cell_type": "markdown",
   "metadata": {},
   "source": [
    "# Load Model"
   ]
  },
  {
   "cell_type": "code",
   "execution_count": 110,
   "metadata": {},
   "outputs": [],
   "source": [
    "# # Load the model using the save file\n",
    "# with open(pkl_filename, 'rb') as file:  \n",
    "#     gb_model = pickle.load(file)\n",
    "\n",
    "# gb_model"
   ]
  },
  {
   "cell_type": "markdown",
   "metadata": {},
   "source": [
    "# Key Features"
   ]
  },
  {
   "cell_type": "code",
   "execution_count": 111,
   "metadata": {},
   "outputs": [],
   "source": [
    "# retrieve our feature importance from the model\n",
    "feature_importance = pd.Series(gb_model_best.feature_importances_, index=X_train.columns).sort_values(ascending=False)"
   ]
  },
  {
   "cell_type": "code",
   "execution_count": 112,
   "metadata": {},
   "outputs": [
    {
     "data": {
      "image/png": "[encoded data removed]",
      "text/plain": [
       "<Figure size 864x576 with 1 Axes>"
      ]
     },
     "metadata": {
      "needs_background": "light"
     },
     "output_type": "display_data"
    }
   ],
   "source": [
    "# plot the feature importance\n",
    "plt.figure(figsize=(12, 8))\n",
    "plt.barh(feature_importance.index[:15], feature_importance.values[:15])\n",
    "plt.ylabel('Features')\n",
    "plt.show()"
   ]
  },
  {
   "cell_type": "markdown",
   "metadata": {},
   "source": [
    "# Submission 2 - Uses Test Data"
   ]
  },
  {
   "cell_type": "code",
   "execution_count": 50,
   "metadata": {},
   "outputs": [],
   "source": [
    "# loading the test data set\n",
    "test_df = pd.read_csv('6Zz. final_predcomp_test_data (1).csv')"
   ]
  },
  {
   "cell_type": "code",
   "execution_count": 51,
   "metadata": {},
   "outputs": [],
   "source": [
    "# Redefining function to impute missing values again\n",
    "def missing_value_impute(df):\n",
    "  # let's create a dummy variable column for missing values by iterating through all columns\n",
    "  # creating list to contain missing row indices\n",
    "  missing_row = []\n",
    "\n",
    "  # iterates through each row of large dataset\n",
    "  for index, row in df.iterrows():\n",
    "      \n",
    "      # checks each column to see if there are any missing values\n",
    "      missing_series = row.isnull()\n",
    "\n",
    "      # if any of the columns return true, add to our missing row list\n",
    "      if missing_series.any():\n",
    "          missing_row.append(index)\n",
    "  \n",
    "  # adding the dummy variable column\n",
    "  df.loc[missing_row, 'missing_value'] = 1\n",
    "\n",
    "  # fill the dummy variable columns w/ 0 for rows w/ non-missing data\n",
    "  df['missing_value'] = df['missing_value'].fillna(0)\n",
    "\n",
    "  # creating a list for categorical and numerical values\n",
    "  num_col = ['price', 'year', 'odometer', 'cylinders', 'description_length']\n",
    "\n",
    "  cat_col = ['transmission', 'drive', 'type', 'paint_color',\n",
    "            'size', 'title_status', 'condition', 'fuel',\n",
    "            'state', 'manufacturer', 'description_credit',\n",
    "             'description_owner', 'description_badcredit', 'missing_value']\n",
    "\n",
    "  # imputing the missing values using the mean for numerical columns and mode for categorical\n",
    "  # use for loop to loop through all columns\n",
    "  for col in df.columns[1:]:\n",
    "    if col in num_col:\n",
    "      df[col] = df[col].fillna(df[col].mean())\n",
    "    elif col in cat_col:\n",
    "      df[col] = df[col].fillna(df[col].mode().values[0])"
   ]
  },
  {
   "cell_type": "code",
   "execution_count": 52,
   "metadata": {},
   "outputs": [],
   "source": [
    "# use the created function to impute the missing values and create missing value dummy variable\n",
    "missing_value_impute(test_df)"
   ]
  },
  {
   "cell_type": "code",
   "execution_count": 53,
   "metadata": {},
   "outputs": [],
   "source": [
    "# construct logarithm car price feature\n",
    "test_df['log_price'] = np.log(test_df['price'])"
   ]
  },
  {
   "cell_type": "code",
   "execution_count": 54,
   "metadata": {},
   "outputs": [],
   "source": [
    "# list of categorical columns\n",
    "num_col = ['year', 'odometer', 'cylinders', 'description_length']\n",
    "\n",
    "cat_col = ['transmission', 'drive', 'type', 'paint_color',\n",
    "          'size', 'title_status', 'condition', 'fuel',\n",
    "          'state', 'manufacturer', 'description_credit', 'description_owner', \n",
    "            'description_badcredit', 'missing_value']\n",
    "\n",
    "def get_dummies(df):\n",
    "  '''\n",
    "  This function takes the train/test dataset and creates dummy variables for the known categorical variables.\n",
    "  '''\n",
    "  # using pandas get dummies function to create dummy variables for each categorical item\n",
    "  dummy_df = pd.get_dummies(df[cat_col[:10]])\n",
    "\n",
    "  # saving dummy feature names to list\n",
    "  dummy_features = list(dummy_df.columns)\n",
    "\n",
    "  # merging original df w/ the new dummy variable columns\n",
    "  new_df = df.merge(dummy_df, left_index=True, right_index=True)\n",
    "\n",
    "  # return/output the new merged df and the dummy feature column names\n",
    "  return new_df, dummy_features"
   ]
  },
  {
   "cell_type": "code",
   "execution_count": 55,
   "metadata": {},
   "outputs": [],
   "source": [
    "# using function to create new large df and the list of dummy column names\n",
    "new_test_df, dummy_col = get_dummies(test_df)"
   ]
  },
  {
   "cell_type": "code",
   "execution_count": 56,
   "metadata": {},
   "outputs": [],
   "source": [
    "# splitting the test data set into X and y\n",
    "# Set X and y\n",
    "X_testdata = new_test_df.loc[:, num_col + dummy_col]\n",
    "y_testdata = new_test_df['log_price']"
   ]
  },
  {
   "cell_type": "code",
   "execution_count": 57,
   "metadata": {},
   "outputs": [
    {
     "data": {
      "text/plain": [
       "GradientBoostingRegressor(max_depth=2, n_estimators=2000, random_state=42)"
      ]
     },
     "execution_count": 57,
     "metadata": {},
     "output_type": "execute_result"
    }
   ],
   "source": [
    "# Import pickle library to load saved Best Model\n",
    "import pickle\n",
    "\n",
    "# Load the model using the save file\n",
    "with open('Assignment4_model.pkl', 'rb') as file:  \n",
    "    gb_model = pickle.load(file)\n",
    "\n",
    "gb_model"
   ]
  },
  {
   "cell_type": "code",
   "execution_count": 58,
   "metadata": {},
   "outputs": [],
   "source": [
    "# Get unique list of columns from training and test data and then find the difference\n",
    "missing_cols = set(X.columns) - set(X_testdata.columns)\n",
    "\n",
    "# Add a missing column in test set with default value equal to 0\n",
    "for c in missing_cols:\n",
    "    X_testdata[c] = 0\n",
    "\n",
    "# Ensure the order of columns in the test set is in the same order as the training set\n",
    "X_testdata = X_testdata[X_train.columns]"
   ]
  },
  {
   "cell_type": "code",
   "execution_count": 59,
   "metadata": {},
   "outputs": [
    {
     "name": "stdout",
     "output_type": "stream",
     "text": [
      "MSE Score: 0.11196511538802033\n",
      "R-squared Score: 0.8127468985808312\n"
     ]
    }
   ],
   "source": [
    "# predicting y^ for test set using our model\n",
    "test_predictions = gb_model.predict(X_testdata)\n",
    "\n",
    "# calculating MSE and R-sq for test set\n",
    "test_prediction_mse = mean_squared_error(y_testdata, test_predictions) \n",
    "test_prediction_r2 = r2_score(y_testdata, test_predictions)\n",
    "\n",
    "# display MSE and R-sq\n",
    "print(f'MSE Score: {test_prediction_mse}')\n",
    "print(f'R-squared Score: {test_prediction_r2}')"
   ]
  }
 ],
 "metadata": {
  "kernelspec": {
   "display_name": "Python 3",
   "language": "python",
   "name": "python3"
  },
  "language_info": {
   "codemirror_mode": {
    "name": "ipython",
    "version": 3
   },
   "file_extension": ".py",
   "mimetype": "text/x-python",
   "name": "python",
   "nbconvert_exporter": "python",
   "pygments_lexer": "ipython3",
   "version": "3.8.3"
  }
 },
 "nbformat": 4,
 "nbformat_minor": 4
}
